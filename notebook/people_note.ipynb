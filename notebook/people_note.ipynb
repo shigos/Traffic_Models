{
 "cells": [
  {
   "cell_type": "code",
   "execution_count": null,
   "id": "801d0bfd",
   "metadata": {},
   "outputs": [],
   "source": []
  },
  {
   "cell_type": "code",
   "execution_count": 3,
   "id": "fcac44e4",
   "metadata": {},
   "outputs": [],
   "source": [
    "import pyspark as spark\n",
    "import numpy as np\n",
    "import pandas as pd\n",
    "import sklearn\n",
    "import geopandas \n",
    "import matplotlib.pyplot as plt\n",
    "import seaborn as sns"
   ]
  },
  {
   "cell_type": "code",
   "execution_count": 4,
   "id": "549ed1f0",
   "metadata": {},
   "outputs": [
    {
     "name": "stderr",
     "output_type": "stream",
     "text": [
      "/Users/winsometang/opt/anaconda3/lib/python3.8/site-packages/IPython/core/interactiveshell.py:3169: DtypeWarning: Columns (12,13,20,21,22,23,24,25,26,27,29) have mixed types.Specify dtype option on import or set low_memory=False.\n",
      "  has_raised = await self.run_ast_nodes(code_ast.body, cell_name,\n"
     ]
    }
   ],
   "source": [
    "people = pd.read_csv('../data/Traffic_Crashes_-_People.csv')"
   ]
  },
  {
   "cell_type": "code",
   "execution_count": 5,
   "id": "0b8d0d6b",
   "metadata": {},
   "outputs": [
    {
     "data": {
      "text/html": [
       "<div>\n",
       "<style scoped>\n",
       "    .dataframe tbody tr th:only-of-type {\n",
       "        vertical-align: middle;\n",
       "    }\n",
       "\n",
       "    .dataframe tbody tr th {\n",
       "        vertical-align: top;\n",
       "    }\n",
       "\n",
       "    .dataframe thead th {\n",
       "        text-align: right;\n",
       "    }\n",
       "</style>\n",
       "<table border=\"1\" class=\"dataframe\">\n",
       "  <thead>\n",
       "    <tr style=\"text-align: right;\">\n",
       "      <th></th>\n",
       "      <th>VEHICLE_ID</th>\n",
       "      <th>SEAT_NO</th>\n",
       "      <th>AGE</th>\n",
       "      <th>BAC_RESULT VALUE</th>\n",
       "    </tr>\n",
       "  </thead>\n",
       "  <tbody>\n",
       "    <tr>\n",
       "      <th>count</th>\n",
       "      <td>1.120504e+06</td>\n",
       "      <td>233668.000000</td>\n",
       "      <td>815745.000000</td>\n",
       "      <td>1460.000000</td>\n",
       "    </tr>\n",
       "    <tr>\n",
       "      <th>mean</th>\n",
       "      <td>5.337715e+05</td>\n",
       "      <td>4.165466</td>\n",
       "      <td>37.847617</td>\n",
       "      <td>0.167473</td>\n",
       "    </tr>\n",
       "    <tr>\n",
       "      <th>std</th>\n",
       "      <td>3.072029e+05</td>\n",
       "      <td>2.186325</td>\n",
       "      <td>17.106627</td>\n",
       "      <td>0.099561</td>\n",
       "    </tr>\n",
       "    <tr>\n",
       "      <th>min</th>\n",
       "      <td>2.000000e+00</td>\n",
       "      <td>1.000000</td>\n",
       "      <td>-177.000000</td>\n",
       "      <td>0.000000</td>\n",
       "    </tr>\n",
       "    <tr>\n",
       "      <th>25%</th>\n",
       "      <td>2.690950e+05</td>\n",
       "      <td>3.000000</td>\n",
       "      <td>25.000000</td>\n",
       "      <td>0.120000</td>\n",
       "    </tr>\n",
       "    <tr>\n",
       "      <th>50%</th>\n",
       "      <td>5.330980e+05</td>\n",
       "      <td>3.000000</td>\n",
       "      <td>35.000000</td>\n",
       "      <td>0.170000</td>\n",
       "    </tr>\n",
       "    <tr>\n",
       "      <th>75%</th>\n",
       "      <td>7.969340e+05</td>\n",
       "      <td>6.000000</td>\n",
       "      <td>50.000000</td>\n",
       "      <td>0.220000</td>\n",
       "    </tr>\n",
       "    <tr>\n",
       "      <th>max</th>\n",
       "      <td>1.071291e+06</td>\n",
       "      <td>12.000000</td>\n",
       "      <td>110.000000</td>\n",
       "      <td>1.000000</td>\n",
       "    </tr>\n",
       "  </tbody>\n",
       "</table>\n",
       "</div>"
      ],
      "text/plain": [
       "         VEHICLE_ID        SEAT_NO            AGE  BAC_RESULT VALUE\n",
       "count  1.120504e+06  233668.000000  815745.000000       1460.000000\n",
       "mean   5.337715e+05       4.165466      37.847617          0.167473\n",
       "std    3.072029e+05       2.186325      17.106627          0.099561\n",
       "min    2.000000e+00       1.000000    -177.000000          0.000000\n",
       "25%    2.690950e+05       3.000000      25.000000          0.120000\n",
       "50%    5.330980e+05       3.000000      35.000000          0.170000\n",
       "75%    7.969340e+05       6.000000      50.000000          0.220000\n",
       "max    1.071291e+06      12.000000     110.000000          1.000000"
      ]
     },
     "execution_count": 5,
     "metadata": {},
     "output_type": "execute_result"
    }
   ],
   "source": [
    "people.describe()"
   ]
  },
  {
   "cell_type": "code",
   "execution_count": 6,
   "id": "465f5a5e",
   "metadata": {},
   "outputs": [
    {
     "data": {
      "text/html": [
       "<div>\n",
       "<style scoped>\n",
       "    .dataframe tbody tr th:only-of-type {\n",
       "        vertical-align: middle;\n",
       "    }\n",
       "\n",
       "    .dataframe tbody tr th {\n",
       "        vertical-align: top;\n",
       "    }\n",
       "\n",
       "    .dataframe thead th {\n",
       "        text-align: right;\n",
       "    }\n",
       "</style>\n",
       "<table border=\"1\" class=\"dataframe\">\n",
       "  <thead>\n",
       "    <tr style=\"text-align: right;\">\n",
       "      <th></th>\n",
       "      <th>PERSON_ID</th>\n",
       "      <th>PERSON_TYPE</th>\n",
       "      <th>CRASH_RECORD_ID</th>\n",
       "      <th>RD_NO</th>\n",
       "      <th>VEHICLE_ID</th>\n",
       "      <th>CRASH_DATE</th>\n",
       "      <th>SEAT_NO</th>\n",
       "      <th>CITY</th>\n",
       "      <th>STATE</th>\n",
       "      <th>ZIPCODE</th>\n",
       "      <th>...</th>\n",
       "      <th>EMS_RUN_NO</th>\n",
       "      <th>DRIVER_ACTION</th>\n",
       "      <th>DRIVER_VISION</th>\n",
       "      <th>PHYSICAL_CONDITION</th>\n",
       "      <th>PEDPEDAL_ACTION</th>\n",
       "      <th>PEDPEDAL_VISIBILITY</th>\n",
       "      <th>PEDPEDAL_LOCATION</th>\n",
       "      <th>BAC_RESULT</th>\n",
       "      <th>BAC_RESULT VALUE</th>\n",
       "      <th>CELL_PHONE_USE</th>\n",
       "    </tr>\n",
       "  </thead>\n",
       "  <tbody>\n",
       "    <tr>\n",
       "      <th>0</th>\n",
       "      <td>O749947</td>\n",
       "      <td>DRIVER</td>\n",
       "      <td>81dc0de2ed92aa62baccab641fa377be7feb1cc47e6554...</td>\n",
       "      <td>JC451435</td>\n",
       "      <td>834816.0</td>\n",
       "      <td>09/28/2019 03:30:00 AM</td>\n",
       "      <td>NaN</td>\n",
       "      <td>CHICAGO</td>\n",
       "      <td>IL</td>\n",
       "      <td>60651</td>\n",
       "      <td>...</td>\n",
       "      <td>NaN</td>\n",
       "      <td>UNKNOWN</td>\n",
       "      <td>UNKNOWN</td>\n",
       "      <td>UNKNOWN</td>\n",
       "      <td>NaN</td>\n",
       "      <td>NaN</td>\n",
       "      <td>NaN</td>\n",
       "      <td>TEST NOT OFFERED</td>\n",
       "      <td>NaN</td>\n",
       "      <td>NaN</td>\n",
       "    </tr>\n",
       "    <tr>\n",
       "      <th>1</th>\n",
       "      <td>O871921</td>\n",
       "      <td>DRIVER</td>\n",
       "      <td>af84fb5c8d996fcd3aefd36593c3a02e6e7509eeb27568...</td>\n",
       "      <td>JD208731</td>\n",
       "      <td>827212.0</td>\n",
       "      <td>04/13/2020 10:50:00 PM</td>\n",
       "      <td>NaN</td>\n",
       "      <td>CHICAGO</td>\n",
       "      <td>IL</td>\n",
       "      <td>60620</td>\n",
       "      <td>...</td>\n",
       "      <td>NaN</td>\n",
       "      <td>NONE</td>\n",
       "      <td>NOT OBSCURED</td>\n",
       "      <td>NORMAL</td>\n",
       "      <td>NaN</td>\n",
       "      <td>NaN</td>\n",
       "      <td>NaN</td>\n",
       "      <td>TEST NOT OFFERED</td>\n",
       "      <td>NaN</td>\n",
       "      <td>NaN</td>\n",
       "    </tr>\n",
       "    <tr>\n",
       "      <th>2</th>\n",
       "      <td>O10018</td>\n",
       "      <td>DRIVER</td>\n",
       "      <td>71162af7bf22799b776547132ebf134b5b438dcf3dac6b...</td>\n",
       "      <td>HY484534</td>\n",
       "      <td>9579.0</td>\n",
       "      <td>11/01/2015 05:00:00 AM</td>\n",
       "      <td>NaN</td>\n",
       "      <td>NaN</td>\n",
       "      <td>NaN</td>\n",
       "      <td>NaN</td>\n",
       "      <td>...</td>\n",
       "      <td>NaN</td>\n",
       "      <td>IMPROPER BACKING</td>\n",
       "      <td>UNKNOWN</td>\n",
       "      <td>UNKNOWN</td>\n",
       "      <td>NaN</td>\n",
       "      <td>NaN</td>\n",
       "      <td>NaN</td>\n",
       "      <td>TEST NOT OFFERED</td>\n",
       "      <td>NaN</td>\n",
       "      <td>NaN</td>\n",
       "    </tr>\n",
       "    <tr>\n",
       "      <th>3</th>\n",
       "      <td>O10038</td>\n",
       "      <td>DRIVER</td>\n",
       "      <td>c21c476e2ccc41af550b5d858d22aaac4ffc88745a1700...</td>\n",
       "      <td>HY484750</td>\n",
       "      <td>9598.0</td>\n",
       "      <td>11/01/2015 08:00:00 AM</td>\n",
       "      <td>NaN</td>\n",
       "      <td>NaN</td>\n",
       "      <td>NaN</td>\n",
       "      <td>NaN</td>\n",
       "      <td>...</td>\n",
       "      <td>NaN</td>\n",
       "      <td>UNKNOWN</td>\n",
       "      <td>UNKNOWN</td>\n",
       "      <td>UNKNOWN</td>\n",
       "      <td>NaN</td>\n",
       "      <td>NaN</td>\n",
       "      <td>NaN</td>\n",
       "      <td>TEST NOT OFFERED</td>\n",
       "      <td>NaN</td>\n",
       "      <td>NaN</td>\n",
       "    </tr>\n",
       "    <tr>\n",
       "      <th>4</th>\n",
       "      <td>O10039</td>\n",
       "      <td>DRIVER</td>\n",
       "      <td>eb390a4c8e114c69488f5fb8a097fe629f5a92fd528cf4...</td>\n",
       "      <td>HY484778</td>\n",
       "      <td>9600.0</td>\n",
       "      <td>11/01/2015 10:15:00 AM</td>\n",
       "      <td>NaN</td>\n",
       "      <td>NaN</td>\n",
       "      <td>NaN</td>\n",
       "      <td>NaN</td>\n",
       "      <td>...</td>\n",
       "      <td>NaN</td>\n",
       "      <td>UNKNOWN</td>\n",
       "      <td>UNKNOWN</td>\n",
       "      <td>UNKNOWN</td>\n",
       "      <td>NaN</td>\n",
       "      <td>NaN</td>\n",
       "      <td>NaN</td>\n",
       "      <td>TEST NOT OFFERED</td>\n",
       "      <td>NaN</td>\n",
       "      <td>NaN</td>\n",
       "    </tr>\n",
       "    <tr>\n",
       "      <th>...</th>\n",
       "      <td>...</td>\n",
       "      <td>...</td>\n",
       "      <td>...</td>\n",
       "      <td>...</td>\n",
       "      <td>...</td>\n",
       "      <td>...</td>\n",
       "      <td>...</td>\n",
       "      <td>...</td>\n",
       "      <td>...</td>\n",
       "      <td>...</td>\n",
       "      <td>...</td>\n",
       "      <td>...</td>\n",
       "      <td>...</td>\n",
       "      <td>...</td>\n",
       "      <td>...</td>\n",
       "      <td>...</td>\n",
       "      <td>...</td>\n",
       "      <td>...</td>\n",
       "      <td>...</td>\n",
       "      <td>...</td>\n",
       "      <td>...</td>\n",
       "    </tr>\n",
       "    <tr>\n",
       "      <th>1142958</th>\n",
       "      <td>P251311</td>\n",
       "      <td>PASSENGER</td>\n",
       "      <td>e45c49f1a682741b56d6a3e29785efdfe89255b7c16109...</td>\n",
       "      <td>JE266202</td>\n",
       "      <td>1062338.0</td>\n",
       "      <td>06/14/2021 08:02:00 PM</td>\n",
       "      <td>3.0</td>\n",
       "      <td>CHICAGO</td>\n",
       "      <td>IL</td>\n",
       "      <td>NaN</td>\n",
       "      <td>...</td>\n",
       "      <td>NaN</td>\n",
       "      <td>NaN</td>\n",
       "      <td>NaN</td>\n",
       "      <td>NaN</td>\n",
       "      <td>NaN</td>\n",
       "      <td>NaN</td>\n",
       "      <td>NaN</td>\n",
       "      <td>NaN</td>\n",
       "      <td>NaN</td>\n",
       "      <td>NaN</td>\n",
       "    </tr>\n",
       "    <tr>\n",
       "      <th>1142959</th>\n",
       "      <td>P251312</td>\n",
       "      <td>PASSENGER</td>\n",
       "      <td>e45c49f1a682741b56d6a3e29785efdfe89255b7c16109...</td>\n",
       "      <td>JE266202</td>\n",
       "      <td>1062338.0</td>\n",
       "      <td>06/14/2021 08:02:00 PM</td>\n",
       "      <td>4.0</td>\n",
       "      <td>CHICAGO</td>\n",
       "      <td>IL</td>\n",
       "      <td>NaN</td>\n",
       "      <td>...</td>\n",
       "      <td>NaN</td>\n",
       "      <td>NaN</td>\n",
       "      <td>NaN</td>\n",
       "      <td>NaN</td>\n",
       "      <td>NaN</td>\n",
       "      <td>NaN</td>\n",
       "      <td>NaN</td>\n",
       "      <td>NaN</td>\n",
       "      <td>NaN</td>\n",
       "      <td>NaN</td>\n",
       "    </tr>\n",
       "    <tr>\n",
       "      <th>1142960</th>\n",
       "      <td>P252181</td>\n",
       "      <td>PASSENGER</td>\n",
       "      <td>a23dc825b5744d811d9a0385cd3e5115cbdb8a8df53b28...</td>\n",
       "      <td>JE274430</td>\n",
       "      <td>1065498.0</td>\n",
       "      <td>06/14/2021 11:00:00 AM</td>\n",
       "      <td>3.0</td>\n",
       "      <td>VILLA PARK</td>\n",
       "      <td>IL</td>\n",
       "      <td>60181</td>\n",
       "      <td>...</td>\n",
       "      <td>NaN</td>\n",
       "      <td>NaN</td>\n",
       "      <td>NaN</td>\n",
       "      <td>NaN</td>\n",
       "      <td>NaN</td>\n",
       "      <td>NaN</td>\n",
       "      <td>NaN</td>\n",
       "      <td>NaN</td>\n",
       "      <td>NaN</td>\n",
       "      <td>NaN</td>\n",
       "    </tr>\n",
       "    <tr>\n",
       "      <th>1142961</th>\n",
       "      <td>P252937</td>\n",
       "      <td>PASSENGER</td>\n",
       "      <td>b0349a3b7af46c827f668dcf29040a8b6776dce3b3294f...</td>\n",
       "      <td>JE265717</td>\n",
       "      <td>1068818.0</td>\n",
       "      <td>06/14/2021 02:35:00 PM</td>\n",
       "      <td>3.0</td>\n",
       "      <td>CHICAGO</td>\n",
       "      <td>IL</td>\n",
       "      <td>60626</td>\n",
       "      <td>...</td>\n",
       "      <td>NaN</td>\n",
       "      <td>NaN</td>\n",
       "      <td>NaN</td>\n",
       "      <td>NaN</td>\n",
       "      <td>NaN</td>\n",
       "      <td>NaN</td>\n",
       "      <td>NaN</td>\n",
       "      <td>NaN</td>\n",
       "      <td>NaN</td>\n",
       "      <td>NaN</td>\n",
       "    </tr>\n",
       "    <tr>\n",
       "      <th>1142962</th>\n",
       "      <td>P252938</td>\n",
       "      <td>PASSENGER</td>\n",
       "      <td>b0349a3b7af46c827f668dcf29040a8b6776dce3b3294f...</td>\n",
       "      <td>JE265717</td>\n",
       "      <td>1068818.0</td>\n",
       "      <td>06/14/2021 02:35:00 PM</td>\n",
       "      <td>6.0</td>\n",
       "      <td>CHICAGO</td>\n",
       "      <td>IL</td>\n",
       "      <td>60626</td>\n",
       "      <td>...</td>\n",
       "      <td>NaN</td>\n",
       "      <td>NaN</td>\n",
       "      <td>NaN</td>\n",
       "      <td>NaN</td>\n",
       "      <td>NaN</td>\n",
       "      <td>NaN</td>\n",
       "      <td>NaN</td>\n",
       "      <td>NaN</td>\n",
       "      <td>NaN</td>\n",
       "      <td>NaN</td>\n",
       "    </tr>\n",
       "  </tbody>\n",
       "</table>\n",
       "<p>1142963 rows × 30 columns</p>\n",
       "</div>"
      ],
      "text/plain": [
       "        PERSON_ID PERSON_TYPE  \\\n",
       "0         O749947      DRIVER   \n",
       "1         O871921      DRIVER   \n",
       "2          O10018      DRIVER   \n",
       "3          O10038      DRIVER   \n",
       "4          O10039      DRIVER   \n",
       "...           ...         ...   \n",
       "1142958   P251311   PASSENGER   \n",
       "1142959   P251312   PASSENGER   \n",
       "1142960   P252181   PASSENGER   \n",
       "1142961   P252937   PASSENGER   \n",
       "1142962   P252938   PASSENGER   \n",
       "\n",
       "                                           CRASH_RECORD_ID     RD_NO  \\\n",
       "0        81dc0de2ed92aa62baccab641fa377be7feb1cc47e6554...  JC451435   \n",
       "1        af84fb5c8d996fcd3aefd36593c3a02e6e7509eeb27568...  JD208731   \n",
       "2        71162af7bf22799b776547132ebf134b5b438dcf3dac6b...  HY484534   \n",
       "3        c21c476e2ccc41af550b5d858d22aaac4ffc88745a1700...  HY484750   \n",
       "4        eb390a4c8e114c69488f5fb8a097fe629f5a92fd528cf4...  HY484778   \n",
       "...                                                    ...       ...   \n",
       "1142958  e45c49f1a682741b56d6a3e29785efdfe89255b7c16109...  JE266202   \n",
       "1142959  e45c49f1a682741b56d6a3e29785efdfe89255b7c16109...  JE266202   \n",
       "1142960  a23dc825b5744d811d9a0385cd3e5115cbdb8a8df53b28...  JE274430   \n",
       "1142961  b0349a3b7af46c827f668dcf29040a8b6776dce3b3294f...  JE265717   \n",
       "1142962  b0349a3b7af46c827f668dcf29040a8b6776dce3b3294f...  JE265717   \n",
       "\n",
       "         VEHICLE_ID              CRASH_DATE  SEAT_NO        CITY STATE  \\\n",
       "0          834816.0  09/28/2019 03:30:00 AM      NaN     CHICAGO    IL   \n",
       "1          827212.0  04/13/2020 10:50:00 PM      NaN     CHICAGO    IL   \n",
       "2            9579.0  11/01/2015 05:00:00 AM      NaN         NaN   NaN   \n",
       "3            9598.0  11/01/2015 08:00:00 AM      NaN         NaN   NaN   \n",
       "4            9600.0  11/01/2015 10:15:00 AM      NaN         NaN   NaN   \n",
       "...             ...                     ...      ...         ...   ...   \n",
       "1142958   1062338.0  06/14/2021 08:02:00 PM      3.0     CHICAGO    IL   \n",
       "1142959   1062338.0  06/14/2021 08:02:00 PM      4.0     CHICAGO    IL   \n",
       "1142960   1065498.0  06/14/2021 11:00:00 AM      3.0  VILLA PARK    IL   \n",
       "1142961   1068818.0  06/14/2021 02:35:00 PM      3.0     CHICAGO    IL   \n",
       "1142962   1068818.0  06/14/2021 02:35:00 PM      6.0     CHICAGO    IL   \n",
       "\n",
       "        ZIPCODE  ... EMS_RUN_NO     DRIVER_ACTION DRIVER_VISION  \\\n",
       "0         60651  ...        NaN           UNKNOWN       UNKNOWN   \n",
       "1         60620  ...        NaN              NONE  NOT OBSCURED   \n",
       "2           NaN  ...        NaN  IMPROPER BACKING       UNKNOWN   \n",
       "3           NaN  ...        NaN           UNKNOWN       UNKNOWN   \n",
       "4           NaN  ...        NaN           UNKNOWN       UNKNOWN   \n",
       "...         ...  ...        ...               ...           ...   \n",
       "1142958     NaN  ...        NaN               NaN           NaN   \n",
       "1142959     NaN  ...        NaN               NaN           NaN   \n",
       "1142960   60181  ...        NaN               NaN           NaN   \n",
       "1142961   60626  ...        NaN               NaN           NaN   \n",
       "1142962   60626  ...        NaN               NaN           NaN   \n",
       "\n",
       "        PHYSICAL_CONDITION PEDPEDAL_ACTION PEDPEDAL_VISIBILITY  \\\n",
       "0                  UNKNOWN             NaN                 NaN   \n",
       "1                   NORMAL             NaN                 NaN   \n",
       "2                  UNKNOWN             NaN                 NaN   \n",
       "3                  UNKNOWN             NaN                 NaN   \n",
       "4                  UNKNOWN             NaN                 NaN   \n",
       "...                    ...             ...                 ...   \n",
       "1142958                NaN             NaN                 NaN   \n",
       "1142959                NaN             NaN                 NaN   \n",
       "1142960                NaN             NaN                 NaN   \n",
       "1142961                NaN             NaN                 NaN   \n",
       "1142962                NaN             NaN                 NaN   \n",
       "\n",
       "        PEDPEDAL_LOCATION        BAC_RESULT BAC_RESULT VALUE CELL_PHONE_USE  \n",
       "0                     NaN  TEST NOT OFFERED              NaN            NaN  \n",
       "1                     NaN  TEST NOT OFFERED              NaN            NaN  \n",
       "2                     NaN  TEST NOT OFFERED              NaN            NaN  \n",
       "3                     NaN  TEST NOT OFFERED              NaN            NaN  \n",
       "4                     NaN  TEST NOT OFFERED              NaN            NaN  \n",
       "...                   ...               ...              ...            ...  \n",
       "1142958               NaN               NaN              NaN            NaN  \n",
       "1142959               NaN               NaN              NaN            NaN  \n",
       "1142960               NaN               NaN              NaN            NaN  \n",
       "1142961               NaN               NaN              NaN            NaN  \n",
       "1142962               NaN               NaN              NaN            NaN  \n",
       "\n",
       "[1142963 rows x 30 columns]"
      ]
     },
     "execution_count": 6,
     "metadata": {},
     "output_type": "execute_result"
    }
   ],
   "source": [
    "people"
   ]
  },
  {
   "cell_type": "code",
   "execution_count": 7,
   "id": "44eb717d",
   "metadata": {},
   "outputs": [
    {
     "data": {
      "text/plain": [
       "PERSON_ID                     0\n",
       "PERSON_TYPE                   0\n",
       "CRASH_RECORD_ID               0\n",
       "RD_NO                     10457\n",
       "VEHICLE_ID                22459\n",
       "CRASH_DATE                    0\n",
       "SEAT_NO                  909295\n",
       "CITY                     300591\n",
       "STATE                    290836\n",
       "ZIPCODE                  373771\n",
       "SEX                       17137\n",
       "AGE                      327218\n",
       "DRIVERS_LICENSE_STATE    467279\n",
       "DRIVERS_LICENSE_CLASS    558959\n",
       "SAFETY_EQUIPMENT           3356\n",
       "AIRBAG_DEPLOYED           21493\n",
       "EJECTION                  13966\n",
       "INJURY_CLASSIFICATION       584\n",
       "HOSPITAL                 936362\n",
       "dtype: int64"
      ]
     },
     "execution_count": 7,
     "metadata": {},
     "output_type": "execute_result"
    }
   ],
   "source": [
    "people.isnull().sum().head(19)"
   ]
  },
  {
   "cell_type": "code",
   "execution_count": 8,
   "id": "49cb342c",
   "metadata": {},
   "outputs": [
    {
     "data": {
      "text/plain": [
       "NO INDICATION OF INJURY     1048927\n",
       "NONINCAPACITATING INJURY      52067\n",
       "REPORTED, NOT EVIDENT         30568\n",
       "INCAPACITATING INJURY         10211\n",
       "FATAL                           606\n",
       "Name: INJURY_CLASSIFICATION, dtype: int64"
      ]
     },
     "execution_count": 8,
     "metadata": {},
     "output_type": "execute_result"
    }
   ],
   "source": [
    "people['INJURY_CLASSIFICATION'].value_counts()"
   ]
  },
  {
   "cell_type": "code",
   "execution_count": 9,
   "id": "d7e2066b",
   "metadata": {},
   "outputs": [
    {
     "data": {
      "text/plain": [
       "NONE                  1061145\n",
       "UNKNOWN                 61977\n",
       "TOTALLY EJECTED          4114\n",
       "PARTIALLY EJECTED        1064\n",
       "TRAPPED/EXTRICATED        697\n",
       "Name: EJECTION, dtype: int64"
      ]
     },
     "execution_count": 9,
     "metadata": {},
     "output_type": "execute_result"
    }
   ],
   "source": [
    "people['EJECTION'].value_counts()"
   ]
  },
  {
   "cell_type": "code",
   "execution_count": 10,
   "id": "f4ec38e7",
   "metadata": {},
   "outputs": [
    {
     "data": {
      "text/plain": [
       "SAFETY BELT USED                              572270\n",
       "USAGE UNKNOWN                                 504043\n",
       "NONE PRESENT                                   35671\n",
       "CHILD RESTRAINT USED                            7814\n",
       "SAFETY BELT NOT USED                            6761\n",
       "HELMET NOT USED                                 4201\n",
       "CHILD RESTRAINT - FORWARD FACING                1993\n",
       "BICYCLE HELMET (PEDACYCLIST INVOLVED ONLY)      1464\n",
       "HELMET USED                                     1343\n",
       "CHILD RESTRAINT - TYPE UNKNOWN                  1021\n",
       "CHILD RESTRAINT - REAR FACING                    983\n",
       "CHILD RESTRAINT NOT USED                         555\n",
       "DOT COMPLIANT MOTORCYCLE HELMET                  551\n",
       "BOOSTER SEAT                                     528\n",
       "SHOULD/LAP BELT USED IMPROPERLY                  105\n",
       "NOT DOT COMPLIANT MOTORCYCLE HELMET              102\n",
       "WHEELCHAIR                                        97\n",
       "CHILD RESTRAINT USED IMPROPERLY                   85\n",
       "STRETCHER                                         20\n",
       "Name: SAFETY_EQUIPMENT, dtype: int64"
      ]
     },
     "execution_count": 10,
     "metadata": {},
     "output_type": "execute_result"
    }
   ],
   "source": [
    "people['SAFETY_EQUIPMENT'].value_counts()"
   ]
  },
  {
   "cell_type": "code",
   "execution_count": 11,
   "id": "20621a05",
   "metadata": {},
   "outputs": [
    {
     "data": {
      "text/plain": [
       "DRIVER                 887298\n",
       "PASSENGER              233668\n",
       "PEDESTRIAN              13078\n",
       "BICYCLE                  7714\n",
       "NON-MOTOR VEHICLE         995\n",
       "NON-CONTACT VEHICLE       210\n",
       "Name: PERSON_TYPE, dtype: int64"
      ]
     },
     "execution_count": 11,
     "metadata": {},
     "output_type": "execute_result"
    }
   ],
   "source": [
    "people['PERSON_TYPE'].value_counts()"
   ]
  },
  {
   "cell_type": "code",
   "execution_count": 12,
   "id": "a233752a",
   "metadata": {},
   "outputs": [
    {
     "data": {
      "text/plain": [
       "NOT OBSCURED              492623\n",
       "UNKNOWN                   390563\n",
       "OTHER                       9582\n",
       "MOVING VEHICLES             5632\n",
       "PARKED VEHICLES             3403\n",
       "WINDSHIELD (WATER/ICE)      2822\n",
       "BLINDED - SUNLIGHT          1083\n",
       "TREES, PLANTS                427\n",
       "BUILDINGS                    358\n",
       "BLINDED - HEADLIGHTS          87\n",
       "BLOWING MATERIALS             72\n",
       "HILLCREST                     69\n",
       "EMBANKMENT                    57\n",
       "SIGNBOARD                     24\n",
       "Name: DRIVER_VISION, dtype: int64"
      ]
     },
     "execution_count": 12,
     "metadata": {},
     "output_type": "execute_result"
    }
   ],
   "source": [
    "people['DRIVER_VISION'].value_counts()"
   ]
  },
  {
   "cell_type": "code",
   "execution_count": 13,
   "id": "d1417bde",
   "metadata": {},
   "outputs": [
    {
     "data": {
      "text/plain": [
       "DRIVER                 887298\n",
       "PASSENGER              233668\n",
       "PEDESTRIAN              13078\n",
       "BICYCLE                  7714\n",
       "NON-MOTOR VEHICLE         995\n",
       "NON-CONTACT VEHICLE       210\n",
       "Name: PERSON_TYPE, dtype: int64"
      ]
     },
     "execution_count": 13,
     "metadata": {},
     "output_type": "execute_result"
    }
   ],
   "source": [
    "people['PERSON_TYPE'].value_counts()"
   ]
  },
  {
   "cell_type": "code",
   "execution_count": 14,
   "id": "c45cf8ad",
   "metadata": {},
   "outputs": [],
   "source": [
    "people=people[people['INJURY_CLASSIFICATION'].isnull()==False]"
   ]
  },
  {
   "cell_type": "code",
   "execution_count": 15,
   "id": "ac121175",
   "metadata": {},
   "outputs": [
    {
     "data": {
      "text/html": [
       "<div>\n",
       "<style scoped>\n",
       "    .dataframe tbody tr th:only-of-type {\n",
       "        vertical-align: middle;\n",
       "    }\n",
       "\n",
       "    .dataframe tbody tr th {\n",
       "        vertical-align: top;\n",
       "    }\n",
       "\n",
       "    .dataframe thead th {\n",
       "        text-align: right;\n",
       "    }\n",
       "</style>\n",
       "<table border=\"1\" class=\"dataframe\">\n",
       "  <thead>\n",
       "    <tr style=\"text-align: right;\">\n",
       "      <th></th>\n",
       "      <th>VEHICLE_ID</th>\n",
       "      <th>SEAT_NO</th>\n",
       "      <th>AGE</th>\n",
       "      <th>BAC_RESULT VALUE</th>\n",
       "    </tr>\n",
       "  </thead>\n",
       "  <tbody>\n",
       "    <tr>\n",
       "      <th>count</th>\n",
       "      <td>1.120242e+06</td>\n",
       "      <td>233419.000000</td>\n",
       "      <td>815720.000000</td>\n",
       "      <td>1460.000000</td>\n",
       "    </tr>\n",
       "    <tr>\n",
       "      <th>mean</th>\n",
       "      <td>5.337761e+05</td>\n",
       "      <td>4.167030</td>\n",
       "      <td>37.847115</td>\n",
       "      <td>0.167473</td>\n",
       "    </tr>\n",
       "    <tr>\n",
       "      <th>std</th>\n",
       "      <td>3.072029e+05</td>\n",
       "      <td>2.186137</td>\n",
       "      <td>17.106371</td>\n",
       "      <td>0.099561</td>\n",
       "    </tr>\n",
       "    <tr>\n",
       "      <th>min</th>\n",
       "      <td>2.000000e+00</td>\n",
       "      <td>1.000000</td>\n",
       "      <td>-177.000000</td>\n",
       "      <td>0.000000</td>\n",
       "    </tr>\n",
       "    <tr>\n",
       "      <th>25%</th>\n",
       "      <td>2.691022e+05</td>\n",
       "      <td>3.000000</td>\n",
       "      <td>25.000000</td>\n",
       "      <td>0.120000</td>\n",
       "    </tr>\n",
       "    <tr>\n",
       "      <th>50%</th>\n",
       "      <td>5.331045e+05</td>\n",
       "      <td>3.000000</td>\n",
       "      <td>35.000000</td>\n",
       "      <td>0.170000</td>\n",
       "    </tr>\n",
       "    <tr>\n",
       "      <th>75%</th>\n",
       "      <td>7.969368e+05</td>\n",
       "      <td>6.000000</td>\n",
       "      <td>50.000000</td>\n",
       "      <td>0.220000</td>\n",
       "    </tr>\n",
       "    <tr>\n",
       "      <th>max</th>\n",
       "      <td>1.071291e+06</td>\n",
       "      <td>12.000000</td>\n",
       "      <td>110.000000</td>\n",
       "      <td>1.000000</td>\n",
       "    </tr>\n",
       "  </tbody>\n",
       "</table>\n",
       "</div>"
      ],
      "text/plain": [
       "         VEHICLE_ID        SEAT_NO            AGE  BAC_RESULT VALUE\n",
       "count  1.120242e+06  233419.000000  815720.000000       1460.000000\n",
       "mean   5.337761e+05       4.167030      37.847115          0.167473\n",
       "std    3.072029e+05       2.186137      17.106371          0.099561\n",
       "min    2.000000e+00       1.000000    -177.000000          0.000000\n",
       "25%    2.691022e+05       3.000000      25.000000          0.120000\n",
       "50%    5.331045e+05       3.000000      35.000000          0.170000\n",
       "75%    7.969368e+05       6.000000      50.000000          0.220000\n",
       "max    1.071291e+06      12.000000     110.000000          1.000000"
      ]
     },
     "execution_count": 15,
     "metadata": {},
     "output_type": "execute_result"
    }
   ],
   "source": [
    "people.describe()"
   ]
  },
  {
   "cell_type": "code",
   "execution_count": 16,
   "id": "a666b857",
   "metadata": {},
   "outputs": [
    {
     "data": {
      "text/plain": [
       "0.00    146\n",
       "0.18    101\n",
       "0.17    101\n",
       "0.21     86\n",
       "0.14     81\n",
       "0.20     78\n",
       "0.16     69\n",
       "0.15     66\n",
       "0.19     64\n",
       "0.23     63\n",
       "0.22     62\n",
       "0.13     54\n",
       "0.12     54\n",
       "0.11     51\n",
       "0.24     46\n",
       "0.26     30\n",
       "0.27     29\n",
       "0.10     27\n",
       "0.09     27\n",
       "0.25     26\n",
       "0.28     21\n",
       "0.30     15\n",
       "0.29     15\n",
       "0.04     15\n",
       "0.03     15\n",
       "0.08     14\n",
       "0.07     14\n",
       "0.33     12\n",
       "0.05     10\n",
       "0.32      8\n",
       "0.02      7\n",
       "0.06      7\n",
       "0.31      6\n",
       "0.38      6\n",
       "0.35      5\n",
       "0.34      4\n",
       "0.36      3\n",
       "0.01      3\n",
       "0.60      2\n",
       "0.44      2\n",
       "0.45      2\n",
       "0.39      2\n",
       "0.40      1\n",
       "1.00      1\n",
       "0.47      1\n",
       "0.80      1\n",
       "0.99      1\n",
       "0.79      1\n",
       "0.67      1\n",
       "0.95      1\n",
       "0.88      1\n",
       "0.41      1\n",
       "0.58      1\n",
       "Name: BAC_RESULT VALUE, dtype: int64"
      ]
     },
     "execution_count": 16,
     "metadata": {},
     "output_type": "execute_result"
    }
   ],
   "source": [
    "people['BAC_RESULT VALUE'].value_counts()"
   ]
  },
  {
   "cell_type": "code",
   "execution_count": 17,
   "id": "e568ecd8",
   "metadata": {},
   "outputs": [
    {
     "data": {
      "text/plain": [
       "NORMAL                          607512\n",
       "UNKNOWN                         282921\n",
       "IMPAIRED - ALCOHOL                4411\n",
       "REMOVED BY EMS                    3553\n",
       "OTHER                             2556\n",
       "FATIGUED/ASLEEP                   2416\n",
       "EMOTIONAL                         1937\n",
       "ILLNESS/FAINTED                    838\n",
       "HAD BEEN DRINKING                  712\n",
       "IMPAIRED - DRUGS                   530\n",
       "IMPAIRED - ALCOHOL AND DRUGS       214\n",
       "MEDICATED                          116\n",
       "Name: PHYSICAL_CONDITION, dtype: int64"
      ]
     },
     "execution_count": 17,
     "metadata": {},
     "output_type": "execute_result"
    }
   ],
   "source": [
    "people['PHYSICAL_CONDITION'].value_counts()"
   ]
  },
  {
   "cell_type": "code",
   "execution_count": 18,
   "id": "f22c6ec4",
   "metadata": {},
   "outputs": [],
   "source": [
    "clean_people = people[['PERSON_ID','PERSON_TYPE','CRASH_RECORD_ID',\"VEHICLE_ID\",'CRASH_DATE','SEX','AGE','EJECTION','INJURY_CLASSIFICATION',\"AIRBAG_DEPLOYED\",'DRIVER_ACTION','PEDPEDAL_ACTION','PHYSICAL_CONDITION','BAC_RESULT VALUE','SAFETY_EQUIPMENT']]"
   ]
  },
  {
   "cell_type": "code",
   "execution_count": 19,
   "id": "e9a72229",
   "metadata": {},
   "outputs": [
    {
     "data": {
      "text/html": [
       "<div>\n",
       "<style scoped>\n",
       "    .dataframe tbody tr th:only-of-type {\n",
       "        vertical-align: middle;\n",
       "    }\n",
       "\n",
       "    .dataframe tbody tr th {\n",
       "        vertical-align: top;\n",
       "    }\n",
       "\n",
       "    .dataframe thead th {\n",
       "        text-align: right;\n",
       "    }\n",
       "</style>\n",
       "<table border=\"1\" class=\"dataframe\">\n",
       "  <thead>\n",
       "    <tr style=\"text-align: right;\">\n",
       "      <th></th>\n",
       "      <th>PERSON_ID</th>\n",
       "      <th>PERSON_TYPE</th>\n",
       "      <th>CRASH_RECORD_ID</th>\n",
       "      <th>VEHICLE_ID</th>\n",
       "      <th>CRASH_DATE</th>\n",
       "      <th>SEX</th>\n",
       "      <th>AGE</th>\n",
       "      <th>EJECTION</th>\n",
       "      <th>INJURY_CLASSIFICATION</th>\n",
       "      <th>AIRBAG_DEPLOYED</th>\n",
       "      <th>DRIVER_ACTION</th>\n",
       "      <th>PEDPEDAL_ACTION</th>\n",
       "      <th>PHYSICAL_CONDITION</th>\n",
       "      <th>BAC_RESULT VALUE</th>\n",
       "      <th>SAFETY_EQUIPMENT</th>\n",
       "    </tr>\n",
       "  </thead>\n",
       "  <tbody>\n",
       "    <tr>\n",
       "      <th>0</th>\n",
       "      <td>O749947</td>\n",
       "      <td>DRIVER</td>\n",
       "      <td>81dc0de2ed92aa62baccab641fa377be7feb1cc47e6554...</td>\n",
       "      <td>834816.0</td>\n",
       "      <td>09/28/2019 03:30:00 AM</td>\n",
       "      <td>M</td>\n",
       "      <td>25.0</td>\n",
       "      <td>NONE</td>\n",
       "      <td>NO INDICATION OF INJURY</td>\n",
       "      <td>DEPLOYMENT UNKNOWN</td>\n",
       "      <td>UNKNOWN</td>\n",
       "      <td>NaN</td>\n",
       "      <td>UNKNOWN</td>\n",
       "      <td>NaN</td>\n",
       "      <td>NONE PRESENT</td>\n",
       "    </tr>\n",
       "    <tr>\n",
       "      <th>1</th>\n",
       "      <td>O871921</td>\n",
       "      <td>DRIVER</td>\n",
       "      <td>af84fb5c8d996fcd3aefd36593c3a02e6e7509eeb27568...</td>\n",
       "      <td>827212.0</td>\n",
       "      <td>04/13/2020 10:50:00 PM</td>\n",
       "      <td>M</td>\n",
       "      <td>37.0</td>\n",
       "      <td>NONE</td>\n",
       "      <td>NO INDICATION OF INJURY</td>\n",
       "      <td>DID NOT DEPLOY</td>\n",
       "      <td>NONE</td>\n",
       "      <td>NaN</td>\n",
       "      <td>NORMAL</td>\n",
       "      <td>NaN</td>\n",
       "      <td>SAFETY BELT USED</td>\n",
       "    </tr>\n",
       "    <tr>\n",
       "      <th>2</th>\n",
       "      <td>O10018</td>\n",
       "      <td>DRIVER</td>\n",
       "      <td>71162af7bf22799b776547132ebf134b5b438dcf3dac6b...</td>\n",
       "      <td>9579.0</td>\n",
       "      <td>11/01/2015 05:00:00 AM</td>\n",
       "      <td>X</td>\n",
       "      <td>NaN</td>\n",
       "      <td>NONE</td>\n",
       "      <td>NO INDICATION OF INJURY</td>\n",
       "      <td>DEPLOYMENT UNKNOWN</td>\n",
       "      <td>IMPROPER BACKING</td>\n",
       "      <td>NaN</td>\n",
       "      <td>UNKNOWN</td>\n",
       "      <td>NaN</td>\n",
       "      <td>USAGE UNKNOWN</td>\n",
       "    </tr>\n",
       "    <tr>\n",
       "      <th>3</th>\n",
       "      <td>O10038</td>\n",
       "      <td>DRIVER</td>\n",
       "      <td>c21c476e2ccc41af550b5d858d22aaac4ffc88745a1700...</td>\n",
       "      <td>9598.0</td>\n",
       "      <td>11/01/2015 08:00:00 AM</td>\n",
       "      <td>X</td>\n",
       "      <td>NaN</td>\n",
       "      <td>UNKNOWN</td>\n",
       "      <td>NO INDICATION OF INJURY</td>\n",
       "      <td>DEPLOYMENT UNKNOWN</td>\n",
       "      <td>UNKNOWN</td>\n",
       "      <td>NaN</td>\n",
       "      <td>UNKNOWN</td>\n",
       "      <td>NaN</td>\n",
       "      <td>USAGE UNKNOWN</td>\n",
       "    </tr>\n",
       "    <tr>\n",
       "      <th>4</th>\n",
       "      <td>O10039</td>\n",
       "      <td>DRIVER</td>\n",
       "      <td>eb390a4c8e114c69488f5fb8a097fe629f5a92fd528cf4...</td>\n",
       "      <td>9600.0</td>\n",
       "      <td>11/01/2015 10:15:00 AM</td>\n",
       "      <td>X</td>\n",
       "      <td>NaN</td>\n",
       "      <td>UNKNOWN</td>\n",
       "      <td>NO INDICATION OF INJURY</td>\n",
       "      <td>DEPLOYMENT UNKNOWN</td>\n",
       "      <td>UNKNOWN</td>\n",
       "      <td>NaN</td>\n",
       "      <td>UNKNOWN</td>\n",
       "      <td>NaN</td>\n",
       "      <td>USAGE UNKNOWN</td>\n",
       "    </tr>\n",
       "    <tr>\n",
       "      <th>...</th>\n",
       "      <td>...</td>\n",
       "      <td>...</td>\n",
       "      <td>...</td>\n",
       "      <td>...</td>\n",
       "      <td>...</td>\n",
       "      <td>...</td>\n",
       "      <td>...</td>\n",
       "      <td>...</td>\n",
       "      <td>...</td>\n",
       "      <td>...</td>\n",
       "      <td>...</td>\n",
       "      <td>...</td>\n",
       "      <td>...</td>\n",
       "      <td>...</td>\n",
       "      <td>...</td>\n",
       "    </tr>\n",
       "    <tr>\n",
       "      <th>1142958</th>\n",
       "      <td>P251311</td>\n",
       "      <td>PASSENGER</td>\n",
       "      <td>e45c49f1a682741b56d6a3e29785efdfe89255b7c16109...</td>\n",
       "      <td>1062338.0</td>\n",
       "      <td>06/14/2021 08:02:00 PM</td>\n",
       "      <td>F</td>\n",
       "      <td>18.0</td>\n",
       "      <td>NONE</td>\n",
       "      <td>NO INDICATION OF INJURY</td>\n",
       "      <td>DEPLOYED, FRONT</td>\n",
       "      <td>NaN</td>\n",
       "      <td>NaN</td>\n",
       "      <td>NaN</td>\n",
       "      <td>NaN</td>\n",
       "      <td>SAFETY BELT USED</td>\n",
       "    </tr>\n",
       "    <tr>\n",
       "      <th>1142959</th>\n",
       "      <td>P251312</td>\n",
       "      <td>PASSENGER</td>\n",
       "      <td>e45c49f1a682741b56d6a3e29785efdfe89255b7c16109...</td>\n",
       "      <td>1062338.0</td>\n",
       "      <td>06/14/2021 08:02:00 PM</td>\n",
       "      <td>F</td>\n",
       "      <td>21.0</td>\n",
       "      <td>NONE</td>\n",
       "      <td>NO INDICATION OF INJURY</td>\n",
       "      <td>DEPLOYED, FRONT</td>\n",
       "      <td>NaN</td>\n",
       "      <td>NaN</td>\n",
       "      <td>NaN</td>\n",
       "      <td>NaN</td>\n",
       "      <td>SAFETY BELT USED</td>\n",
       "    </tr>\n",
       "    <tr>\n",
       "      <th>1142960</th>\n",
       "      <td>P252181</td>\n",
       "      <td>PASSENGER</td>\n",
       "      <td>a23dc825b5744d811d9a0385cd3e5115cbdb8a8df53b28...</td>\n",
       "      <td>1065498.0</td>\n",
       "      <td>06/14/2021 11:00:00 AM</td>\n",
       "      <td>M</td>\n",
       "      <td>19.0</td>\n",
       "      <td>NONE</td>\n",
       "      <td>NO INDICATION OF INJURY</td>\n",
       "      <td>DID NOT DEPLOY</td>\n",
       "      <td>NaN</td>\n",
       "      <td>NaN</td>\n",
       "      <td>NaN</td>\n",
       "      <td>NaN</td>\n",
       "      <td>SAFETY BELT USED</td>\n",
       "    </tr>\n",
       "    <tr>\n",
       "      <th>1142961</th>\n",
       "      <td>P252937</td>\n",
       "      <td>PASSENGER</td>\n",
       "      <td>b0349a3b7af46c827f668dcf29040a8b6776dce3b3294f...</td>\n",
       "      <td>1068818.0</td>\n",
       "      <td>06/14/2021 02:35:00 PM</td>\n",
       "      <td>M</td>\n",
       "      <td>20.0</td>\n",
       "      <td>NONE</td>\n",
       "      <td>NO INDICATION OF INJURY</td>\n",
       "      <td>DID NOT DEPLOY</td>\n",
       "      <td>NaN</td>\n",
       "      <td>NaN</td>\n",
       "      <td>NaN</td>\n",
       "      <td>NaN</td>\n",
       "      <td>SAFETY BELT USED</td>\n",
       "    </tr>\n",
       "    <tr>\n",
       "      <th>1142962</th>\n",
       "      <td>P252938</td>\n",
       "      <td>PASSENGER</td>\n",
       "      <td>b0349a3b7af46c827f668dcf29040a8b6776dce3b3294f...</td>\n",
       "      <td>1068818.0</td>\n",
       "      <td>06/14/2021 02:35:00 PM</td>\n",
       "      <td>F</td>\n",
       "      <td>20.0</td>\n",
       "      <td>NONE</td>\n",
       "      <td>NONINCAPACITATING INJURY</td>\n",
       "      <td>DID NOT DEPLOY</td>\n",
       "      <td>NaN</td>\n",
       "      <td>NaN</td>\n",
       "      <td>NaN</td>\n",
       "      <td>NaN</td>\n",
       "      <td>SAFETY BELT USED</td>\n",
       "    </tr>\n",
       "  </tbody>\n",
       "</table>\n",
       "<p>1142379 rows × 15 columns</p>\n",
       "</div>"
      ],
      "text/plain": [
       "        PERSON_ID PERSON_TYPE  \\\n",
       "0         O749947      DRIVER   \n",
       "1         O871921      DRIVER   \n",
       "2          O10018      DRIVER   \n",
       "3          O10038      DRIVER   \n",
       "4          O10039      DRIVER   \n",
       "...           ...         ...   \n",
       "1142958   P251311   PASSENGER   \n",
       "1142959   P251312   PASSENGER   \n",
       "1142960   P252181   PASSENGER   \n",
       "1142961   P252937   PASSENGER   \n",
       "1142962   P252938   PASSENGER   \n",
       "\n",
       "                                           CRASH_RECORD_ID  VEHICLE_ID  \\\n",
       "0        81dc0de2ed92aa62baccab641fa377be7feb1cc47e6554...    834816.0   \n",
       "1        af84fb5c8d996fcd3aefd36593c3a02e6e7509eeb27568...    827212.0   \n",
       "2        71162af7bf22799b776547132ebf134b5b438dcf3dac6b...      9579.0   \n",
       "3        c21c476e2ccc41af550b5d858d22aaac4ffc88745a1700...      9598.0   \n",
       "4        eb390a4c8e114c69488f5fb8a097fe629f5a92fd528cf4...      9600.0   \n",
       "...                                                    ...         ...   \n",
       "1142958  e45c49f1a682741b56d6a3e29785efdfe89255b7c16109...   1062338.0   \n",
       "1142959  e45c49f1a682741b56d6a3e29785efdfe89255b7c16109...   1062338.0   \n",
       "1142960  a23dc825b5744d811d9a0385cd3e5115cbdb8a8df53b28...   1065498.0   \n",
       "1142961  b0349a3b7af46c827f668dcf29040a8b6776dce3b3294f...   1068818.0   \n",
       "1142962  b0349a3b7af46c827f668dcf29040a8b6776dce3b3294f...   1068818.0   \n",
       "\n",
       "                     CRASH_DATE SEX   AGE EJECTION     INJURY_CLASSIFICATION  \\\n",
       "0        09/28/2019 03:30:00 AM   M  25.0     NONE   NO INDICATION OF INJURY   \n",
       "1        04/13/2020 10:50:00 PM   M  37.0     NONE   NO INDICATION OF INJURY   \n",
       "2        11/01/2015 05:00:00 AM   X   NaN     NONE   NO INDICATION OF INJURY   \n",
       "3        11/01/2015 08:00:00 AM   X   NaN  UNKNOWN   NO INDICATION OF INJURY   \n",
       "4        11/01/2015 10:15:00 AM   X   NaN  UNKNOWN   NO INDICATION OF INJURY   \n",
       "...                         ...  ..   ...      ...                       ...   \n",
       "1142958  06/14/2021 08:02:00 PM   F  18.0     NONE   NO INDICATION OF INJURY   \n",
       "1142959  06/14/2021 08:02:00 PM   F  21.0     NONE   NO INDICATION OF INJURY   \n",
       "1142960  06/14/2021 11:00:00 AM   M  19.0     NONE   NO INDICATION OF INJURY   \n",
       "1142961  06/14/2021 02:35:00 PM   M  20.0     NONE   NO INDICATION OF INJURY   \n",
       "1142962  06/14/2021 02:35:00 PM   F  20.0     NONE  NONINCAPACITATING INJURY   \n",
       "\n",
       "            AIRBAG_DEPLOYED     DRIVER_ACTION PEDPEDAL_ACTION  \\\n",
       "0        DEPLOYMENT UNKNOWN           UNKNOWN             NaN   \n",
       "1            DID NOT DEPLOY              NONE             NaN   \n",
       "2        DEPLOYMENT UNKNOWN  IMPROPER BACKING             NaN   \n",
       "3        DEPLOYMENT UNKNOWN           UNKNOWN             NaN   \n",
       "4        DEPLOYMENT UNKNOWN           UNKNOWN             NaN   \n",
       "...                     ...               ...             ...   \n",
       "1142958     DEPLOYED, FRONT               NaN             NaN   \n",
       "1142959     DEPLOYED, FRONT               NaN             NaN   \n",
       "1142960      DID NOT DEPLOY               NaN             NaN   \n",
       "1142961      DID NOT DEPLOY               NaN             NaN   \n",
       "1142962      DID NOT DEPLOY               NaN             NaN   \n",
       "\n",
       "        PHYSICAL_CONDITION  BAC_RESULT VALUE  SAFETY_EQUIPMENT  \n",
       "0                  UNKNOWN               NaN      NONE PRESENT  \n",
       "1                   NORMAL               NaN  SAFETY BELT USED  \n",
       "2                  UNKNOWN               NaN     USAGE UNKNOWN  \n",
       "3                  UNKNOWN               NaN     USAGE UNKNOWN  \n",
       "4                  UNKNOWN               NaN     USAGE UNKNOWN  \n",
       "...                    ...               ...               ...  \n",
       "1142958                NaN               NaN  SAFETY BELT USED  \n",
       "1142959                NaN               NaN  SAFETY BELT USED  \n",
       "1142960                NaN               NaN  SAFETY BELT USED  \n",
       "1142961                NaN               NaN  SAFETY BELT USED  \n",
       "1142962                NaN               NaN  SAFETY BELT USED  \n",
       "\n",
       "[1142379 rows x 15 columns]"
      ]
     },
     "execution_count": 19,
     "metadata": {},
     "output_type": "execute_result"
    }
   ],
   "source": [
    "clean_people"
   ]
  },
  {
   "cell_type": "code",
   "execution_count": 20,
   "id": "9e109d42",
   "metadata": {},
   "outputs": [
    {
     "data": {
      "text/plain": [
       "PERSON_ID                      0\n",
       "PERSON_TYPE                    0\n",
       "CRASH_RECORD_ID                0\n",
       "VEHICLE_ID                 22137\n",
       "CRASH_DATE                     0\n",
       "SEX                        16684\n",
       "AGE                       326659\n",
       "EJECTION                   13462\n",
       "INJURY_CLASSIFICATION          0\n",
       "AIRBAG_DEPLOYED            20996\n",
       "DRIVER_ACTION             235342\n",
       "PEDPEDAL_ACTION          1121282\n",
       "PHYSICAL_CONDITION        234663\n",
       "BAC_RESULT VALUE         1140919\n",
       "SAFETY_EQUIPMENT            2856\n",
       "dtype: int64"
      ]
     },
     "execution_count": 20,
     "metadata": {},
     "output_type": "execute_result"
    }
   ],
   "source": [
    "clean_people.isnull().sum()"
   ]
  },
  {
   "cell_type": "code",
   "execution_count": 21,
   "id": "40b25135",
   "metadata": {},
   "outputs": [
    {
     "data": {
      "text/plain": [
       "DID NOT DEPLOY                            663464\n",
       "DEPLOYMENT UNKNOWN                        218630\n",
       "NOT APPLICABLE                            172296\n",
       "DEPLOYED, FRONT                            35073\n",
       "DEPLOYED, COMBINATION                      22338\n",
       "DEPLOYED, SIDE                              9120\n",
       "DEPLOYED OTHER (KNEE, AIR, BELT, ETC.)       462\n",
       "Name: AIRBAG_DEPLOYED, dtype: int64"
      ]
     },
     "execution_count": 21,
     "metadata": {},
     "output_type": "execute_result"
    }
   ],
   "source": [
    "clean_people['AIRBAG_DEPLOYED'].value_counts()"
   ]
  },
  {
   "cell_type": "code",
   "execution_count": 22,
   "id": "c22943dd",
   "metadata": {},
   "outputs": [
    {
     "data": {
      "text/plain": [
       "SAFETY BELT USED                              572263\n",
       "USAGE UNKNOWN                                 503982\n",
       "NONE PRESENT                                   35656\n",
       "CHILD RESTRAINT USED                            7814\n",
       "SAFETY BELT NOT USED                            6761\n",
       "HELMET NOT USED                                 4201\n",
       "CHILD RESTRAINT - FORWARD FACING                1993\n",
       "BICYCLE HELMET (PEDACYCLIST INVOLVED ONLY)      1464\n",
       "HELMET USED                                     1343\n",
       "CHILD RESTRAINT - TYPE UNKNOWN                  1021\n",
       "CHILD RESTRAINT - REAR FACING                    983\n",
       "CHILD RESTRAINT NOT USED                         555\n",
       "DOT COMPLIANT MOTORCYCLE HELMET                  551\n",
       "BOOSTER SEAT                                     528\n",
       "SHOULD/LAP BELT USED IMPROPERLY                  105\n",
       "NOT DOT COMPLIANT MOTORCYCLE HELMET              101\n",
       "WHEELCHAIR                                        97\n",
       "CHILD RESTRAINT USED IMPROPERLY                   85\n",
       "STRETCHER                                         20\n",
       "Name: SAFETY_EQUIPMENT, dtype: int64"
      ]
     },
     "execution_count": 22,
     "metadata": {},
     "output_type": "execute_result"
    }
   ],
   "source": [
    "clean_people['SAFETY_EQUIPMENT'].value_counts()"
   ]
  },
  {
   "cell_type": "code",
   "execution_count": 23,
   "id": "ad7ca799",
   "metadata": {},
   "outputs": [
    {
     "data": {
      "text/plain": [
       " 25.0     23542\n",
       " 26.0     23349\n",
       " 27.0     23138\n",
       " 24.0     22630\n",
       " 28.0     22602\n",
       "          ...  \n",
       "-49.0         1\n",
       "-40.0         1\n",
       "-177.0        1\n",
       " 106.0        1\n",
       "-47.0         1\n",
       "Name: AGE, Length: 115, dtype: int64"
      ]
     },
     "execution_count": 23,
     "metadata": {},
     "output_type": "execute_result"
    }
   ],
   "source": [
    "clean_people['AGE'].value_counts()"
   ]
  },
  {
   "cell_type": "code",
   "execution_count": 24,
   "id": "83014bf8",
   "metadata": {},
   "outputs": [
    {
     "data": {
      "text/plain": [
       "NONE                  1061084\n",
       "UNKNOWN                 61958\n",
       "TOTALLY EJECTED          4114\n",
       "PARTIALLY EJECTED        1064\n",
       "TRAPPED/EXTRICATED        697\n",
       "Name: EJECTION, dtype: int64"
      ]
     },
     "execution_count": 24,
     "metadata": {},
     "output_type": "execute_result"
    }
   ],
   "source": [
    "clean_people['EJECTION'].value_counts()"
   ]
  },
  {
   "cell_type": "code",
   "execution_count": 25,
   "id": "0300621c",
   "metadata": {},
   "outputs": [
    {
     "data": {
      "text/plain": [
       "DID NOT DEPLOY                            663464\n",
       "DEPLOYMENT UNKNOWN                        218630\n",
       "NOT APPLICABLE                            172296\n",
       "DEPLOYED, FRONT                            35073\n",
       "DEPLOYED, COMBINATION                      22338\n",
       "DEPLOYED, SIDE                              9120\n",
       "DEPLOYED OTHER (KNEE, AIR, BELT, ETC.)       462\n",
       "Name: AIRBAG_DEPLOYED, dtype: int64"
      ]
     },
     "execution_count": 25,
     "metadata": {},
     "output_type": "execute_result"
    }
   ],
   "source": [
    "clean_people['AIRBAG_DEPLOYED'].value_counts()"
   ]
  },
  {
   "cell_type": "code",
   "execution_count": 26,
   "id": "7eaf6abd",
   "metadata": {},
   "outputs": [
    {
     "name": "stderr",
     "output_type": "stream",
     "text": [
      "/var/folders/nt/rg8_jkq90v77r8l8dc_9wl0m0000gn/T/ipykernel_7947/1271909792.py:1: SettingWithCopyWarning: \n",
      "A value is trying to be set on a copy of a slice from a DataFrame.\n",
      "Try using .loc[row_indexer,col_indexer] = value instead\n",
      "\n",
      "See the caveats in the documentation: https://pandas.pydata.org/pandas-docs/stable/user_guide/indexing.html#returning-a-view-versus-a-copy\n",
      "  clean_people[\"SAFETY_EQUIPMENT\"] = clean_people[\"SAFETY_EQUIPMENT\"].fillna('NONE')\n"
     ]
    }
   ],
   "source": [
    "clean_people[\"SAFETY_EQUIPMENT\"] = clean_people[\"SAFETY_EQUIPMENT\"].fillna('NONE')"
   ]
  },
  {
   "cell_type": "code",
   "execution_count": 27,
   "id": "b9e880fb",
   "metadata": {},
   "outputs": [
    {
     "name": "stderr",
     "output_type": "stream",
     "text": [
      "/var/folders/nt/rg8_jkq90v77r8l8dc_9wl0m0000gn/T/ipykernel_7947/2153833290.py:1: SettingWithCopyWarning: \n",
      "A value is trying to be set on a copy of a slice from a DataFrame.\n",
      "Try using .loc[row_indexer,col_indexer] = value instead\n",
      "\n",
      "See the caveats in the documentation: https://pandas.pydata.org/pandas-docs/stable/user_guide/indexing.html#returning-a-view-versus-a-copy\n",
      "  clean_people[\"SEX\"] = clean_people[\"SEX\"].fillna('UNKNOWN')\n"
     ]
    }
   ],
   "source": [
    "clean_people[\"SEX\"] = clean_people[\"SEX\"].fillna('UNKNOWN')"
   ]
  },
  {
   "cell_type": "code",
   "execution_count": 28,
   "id": "aa2739f0",
   "metadata": {},
   "outputs": [
    {
     "name": "stderr",
     "output_type": "stream",
     "text": [
      "/var/folders/nt/rg8_jkq90v77r8l8dc_9wl0m0000gn/T/ipykernel_7947/379687588.py:1: SettingWithCopyWarning: \n",
      "A value is trying to be set on a copy of a slice from a DataFrame.\n",
      "Try using .loc[row_indexer,col_indexer] = value instead\n",
      "\n",
      "See the caveats in the documentation: https://pandas.pydata.org/pandas-docs/stable/user_guide/indexing.html#returning-a-view-versus-a-copy\n",
      "  clean_people[\"VEHICLE_ID\"] = clean_people[\"VEHICLE_ID\"].fillna('UNKNOWN')\n"
     ]
    }
   ],
   "source": [
    "clean_people[\"VEHICLE_ID\"] = clean_people[\"VEHICLE_ID\"].fillna('UNKNOWN')"
   ]
  },
  {
   "cell_type": "code",
   "execution_count": 29,
   "id": "e67f276a",
   "metadata": {},
   "outputs": [
    {
     "name": "stderr",
     "output_type": "stream",
     "text": [
      "/var/folders/nt/rg8_jkq90v77r8l8dc_9wl0m0000gn/T/ipykernel_7947/928250509.py:1: SettingWithCopyWarning: \n",
      "A value is trying to be set on a copy of a slice from a DataFrame.\n",
      "Try using .loc[row_indexer,col_indexer] = value instead\n",
      "\n",
      "See the caveats in the documentation: https://pandas.pydata.org/pandas-docs/stable/user_guide/indexing.html#returning-a-view-versus-a-copy\n",
      "  clean_people[\"EJECTION\"] = clean_people[\"EJECTION\"].fillna('NONE')\n"
     ]
    }
   ],
   "source": [
    "clean_people[\"EJECTION\"] = clean_people[\"EJECTION\"].fillna('NONE')"
   ]
  },
  {
   "cell_type": "code",
   "execution_count": 30,
   "id": "dbba1319",
   "metadata": {},
   "outputs": [
    {
     "name": "stderr",
     "output_type": "stream",
     "text": [
      "/var/folders/nt/rg8_jkq90v77r8l8dc_9wl0m0000gn/T/ipykernel_7947/2243105180.py:1: SettingWithCopyWarning: \n",
      "A value is trying to be set on a copy of a slice from a DataFrame.\n",
      "Try using .loc[row_indexer,col_indexer] = value instead\n",
      "\n",
      "See the caveats in the documentation: https://pandas.pydata.org/pandas-docs/stable/user_guide/indexing.html#returning-a-view-versus-a-copy\n",
      "  clean_people[\"AIRBAG_DEPLOYED\"] = clean_people[\"AIRBAG_DEPLOYED\"].fillna('DEPLOYMENT UNKNOWN')\n"
     ]
    }
   ],
   "source": [
    "clean_people[\"AIRBAG_DEPLOYED\"] = clean_people[\"AIRBAG_DEPLOYED\"].fillna('DEPLOYMENT UNKNOWN')"
   ]
  },
  {
   "cell_type": "code",
   "execution_count": 31,
   "id": "6958cb7d",
   "metadata": {},
   "outputs": [
    {
     "name": "stderr",
     "output_type": "stream",
     "text": [
      "/var/folders/nt/rg8_jkq90v77r8l8dc_9wl0m0000gn/T/ipykernel_7947/2738179663.py:1: SettingWithCopyWarning: \n",
      "A value is trying to be set on a copy of a slice from a DataFrame.\n",
      "Try using .loc[row_indexer,col_indexer] = value instead\n",
      "\n",
      "See the caveats in the documentation: https://pandas.pydata.org/pandas-docs/stable/user_guide/indexing.html#returning-a-view-versus-a-copy\n",
      "  clean_people['BAC_RESULT VALUE'] = clean_people['BAC_RESULT VALUE'].fillna('0')\n"
     ]
    }
   ],
   "source": [
    "clean_people['BAC_RESULT VALUE'] = clean_people['BAC_RESULT VALUE'].fillna('0')"
   ]
  },
  {
   "cell_type": "code",
   "execution_count": 32,
   "id": "aeffb497",
   "metadata": {},
   "outputs": [
    {
     "name": "stderr",
     "output_type": "stream",
     "text": [
      "/var/folders/nt/rg8_jkq90v77r8l8dc_9wl0m0000gn/T/ipykernel_7947/2243105180.py:1: SettingWithCopyWarning: \n",
      "A value is trying to be set on a copy of a slice from a DataFrame.\n",
      "Try using .loc[row_indexer,col_indexer] = value instead\n",
      "\n",
      "See the caveats in the documentation: https://pandas.pydata.org/pandas-docs/stable/user_guide/indexing.html#returning-a-view-versus-a-copy\n",
      "  clean_people[\"AIRBAG_DEPLOYED\"] = clean_people[\"AIRBAG_DEPLOYED\"].fillna('DEPLOYMENT UNKNOWN')\n"
     ]
    }
   ],
   "source": [
    "clean_people[\"AIRBAG_DEPLOYED\"] = clean_people[\"AIRBAG_DEPLOYED\"].fillna('DEPLOYMENT UNKNOWN')"
   ]
  },
  {
   "cell_type": "code",
   "execution_count": 33,
   "id": "11c0d1a9",
   "metadata": {},
   "outputs": [
    {
     "name": "stderr",
     "output_type": "stream",
     "text": [
      "/var/folders/nt/rg8_jkq90v77r8l8dc_9wl0m0000gn/T/ipykernel_7947/2243105180.py:1: SettingWithCopyWarning: \n",
      "A value is trying to be set on a copy of a slice from a DataFrame.\n",
      "Try using .loc[row_indexer,col_indexer] = value instead\n",
      "\n",
      "See the caveats in the documentation: https://pandas.pydata.org/pandas-docs/stable/user_guide/indexing.html#returning-a-view-versus-a-copy\n",
      "  clean_people[\"AIRBAG_DEPLOYED\"] = clean_people[\"AIRBAG_DEPLOYED\"].fillna('DEPLOYMENT UNKNOWN')\n"
     ]
    }
   ],
   "source": [
    "clean_people[\"AIRBAG_DEPLOYED\"] = clean_people[\"AIRBAG_DEPLOYED\"].fillna('DEPLOYMENT UNKNOWN')"
   ]
  },
  {
   "cell_type": "code",
   "execution_count": 34,
   "id": "0f01cdab",
   "metadata": {},
   "outputs": [
    {
     "name": "stderr",
     "output_type": "stream",
     "text": [
      "/var/folders/nt/rg8_jkq90v77r8l8dc_9wl0m0000gn/T/ipykernel_7947/2243105180.py:1: SettingWithCopyWarning: \n",
      "A value is trying to be set on a copy of a slice from a DataFrame.\n",
      "Try using .loc[row_indexer,col_indexer] = value instead\n",
      "\n",
      "See the caveats in the documentation: https://pandas.pydata.org/pandas-docs/stable/user_guide/indexing.html#returning-a-view-versus-a-copy\n",
      "  clean_people[\"AIRBAG_DEPLOYED\"] = clean_people[\"AIRBAG_DEPLOYED\"].fillna('DEPLOYMENT UNKNOWN')\n"
     ]
    }
   ],
   "source": [
    "clean_people[\"AIRBAG_DEPLOYED\"] = clean_people[\"AIRBAG_DEPLOYED\"].fillna('DEPLOYMENT UNKNOWN')"
   ]
  },
  {
   "cell_type": "code",
   "execution_count": 35,
   "id": "927ccd81",
   "metadata": {},
   "outputs": [
    {
     "name": "stderr",
     "output_type": "stream",
     "text": [
      "/var/folders/nt/rg8_jkq90v77r8l8dc_9wl0m0000gn/T/ipykernel_7947/2243105180.py:1: SettingWithCopyWarning: \n",
      "A value is trying to be set on a copy of a slice from a DataFrame.\n",
      "Try using .loc[row_indexer,col_indexer] = value instead\n",
      "\n",
      "See the caveats in the documentation: https://pandas.pydata.org/pandas-docs/stable/user_guide/indexing.html#returning-a-view-versus-a-copy\n",
      "  clean_people[\"AIRBAG_DEPLOYED\"] = clean_people[\"AIRBAG_DEPLOYED\"].fillna('DEPLOYMENT UNKNOWN')\n"
     ]
    }
   ],
   "source": [
    "clean_people[\"AIRBAG_DEPLOYED\"] = clean_people[\"AIRBAG_DEPLOYED\"].fillna('DEPLOYMENT UNKNOWN')"
   ]
  },
  {
   "cell_type": "code",
   "execution_count": 36,
   "id": "e00a80da",
   "metadata": {},
   "outputs": [
    {
     "name": "stderr",
     "output_type": "stream",
     "text": [
      "/var/folders/nt/rg8_jkq90v77r8l8dc_9wl0m0000gn/T/ipykernel_7947/1341549772.py:1: SettingWithCopyWarning: \n",
      "A value is trying to be set on a copy of a slice from a DataFrame.\n",
      "Try using .loc[row_indexer,col_indexer] = value instead\n",
      "\n",
      "See the caveats in the documentation: https://pandas.pydata.org/pandas-docs/stable/user_guide/indexing.html#returning-a-view-versus-a-copy\n",
      "  clean_people['PEDPEDAL_ACTION']= clean_people['PEDPEDAL_ACTION'].fillna('UNKNOWN/NA')\n"
     ]
    }
   ],
   "source": [
    "clean_people['PEDPEDAL_ACTION']= clean_people['PEDPEDAL_ACTION'].fillna('UNKNOWN/NA')"
   ]
  },
  {
   "cell_type": "code",
   "execution_count": 37,
   "id": "d2da1e89",
   "metadata": {},
   "outputs": [
    {
     "name": "stderr",
     "output_type": "stream",
     "text": [
      "/var/folders/nt/rg8_jkq90v77r8l8dc_9wl0m0000gn/T/ipykernel_7947/98161819.py:1: SettingWithCopyWarning: \n",
      "A value is trying to be set on a copy of a slice from a DataFrame.\n",
      "Try using .loc[row_indexer,col_indexer] = value instead\n",
      "\n",
      "See the caveats in the documentation: https://pandas.pydata.org/pandas-docs/stable/user_guide/indexing.html#returning-a-view-versus-a-copy\n",
      "  clean_people['PHYSICAL_CONDITION']= clean_people['PHYSICAL_CONDITION'].fillna('UNKNOWN')\n"
     ]
    }
   ],
   "source": [
    "clean_people['PHYSICAL_CONDITION']= clean_people['PHYSICAL_CONDITION'].fillna('UNKNOWN')"
   ]
  },
  {
   "cell_type": "code",
   "execution_count": 38,
   "id": "5265f6a4",
   "metadata": {},
   "outputs": [
    {
     "data": {
      "text/plain": [
       "PERSON_ID                     0\n",
       "PERSON_TYPE                   0\n",
       "CRASH_RECORD_ID               0\n",
       "VEHICLE_ID                    0\n",
       "CRASH_DATE                    0\n",
       "SEX                           0\n",
       "AGE                      326659\n",
       "EJECTION                      0\n",
       "INJURY_CLASSIFICATION         0\n",
       "AIRBAG_DEPLOYED               0\n",
       "DRIVER_ACTION            235342\n",
       "PEDPEDAL_ACTION               0\n",
       "PHYSICAL_CONDITION            0\n",
       "BAC_RESULT VALUE              0\n",
       "SAFETY_EQUIPMENT              0\n",
       "dtype: int64"
      ]
     },
     "execution_count": 38,
     "metadata": {},
     "output_type": "execute_result"
    }
   ],
   "source": [
    "clean_people.isnull().sum()"
   ]
  },
  {
   "cell_type": "code",
   "execution_count": 39,
   "id": "eaf3074a",
   "metadata": {},
   "outputs": [
    {
     "data": {
      "text/plain": [
       "Index(['PERSON_ID', 'PERSON_TYPE', 'CRASH_RECORD_ID', 'VEHICLE_ID',\n",
       "       'CRASH_DATE', 'SEX', 'AGE', 'EJECTION', 'INJURY_CLASSIFICATION',\n",
       "       'AIRBAG_DEPLOYED', 'DRIVER_ACTION', 'PEDPEDAL_ACTION',\n",
       "       'PHYSICAL_CONDITION', 'BAC_RESULT VALUE', 'SAFETY_EQUIPMENT'],\n",
       "      dtype='object')"
      ]
     },
     "execution_count": 39,
     "metadata": {},
     "output_type": "execute_result"
    }
   ],
   "source": [
    "clean_people.columns"
   ]
  },
  {
   "cell_type": "code",
   "execution_count": 45,
   "id": "8c13695f",
   "metadata": {},
   "outputs": [],
   "source": [
    "dum_clean_people = pd.get_dummies(clean_people,columns = ['SEX','EJECTION', 'INJURY_CLASSIFICATION',\n",
    "       'AIRBAG_DEPLOYED', 'PEDPEDAL_ACTION',\n",
    "       'PHYSICAL_CONDITION', 'BAC_RESULT VALUE', 'SAFETY_EQUIPMENT'], drop_first = True)"
   ]
  },
  {
   "cell_type": "code",
   "execution_count": 46,
   "id": "27b9750e",
   "metadata": {},
   "outputs": [
    {
     "name": "stderr",
     "output_type": "stream",
     "text": [
      "/var/folders/nt/rg8_jkq90v77r8l8dc_9wl0m0000gn/T/ipykernel_7947/2521967114.py:2: DeprecationWarning: `np.bool` is a deprecated alias for the builtin `bool`. To silence this warning, use `bool` by itself. Doing this will not modify any behavior and is safe. If you specifically wanted the numpy scalar type, use `np.bool_` here.\n",
      "Deprecated in NumPy 1.20; for more details and guidance: https://numpy.org/devdocs/release/1.20.0-notes.html#deprecations\n",
      "  mask = np.triu(np.ones_like(corr,dtype = np.bool))\n"
     ]
    },
    {
     "data": {
      "text/plain": [
       "<AxesSubplot:>"
      ]
     },
     "execution_count": 46,
     "metadata": {},
     "output_type": "execute_result"
    },
    {
     "data": {
      "image/png": "[encoded data removed]",
      "text/plain": [
       "<Figure size 720x720 with 2 Axes>"
      ]
     },
     "metadata": {},
     "output_type": "display_data"
    }
   ],
   "source": [
    "corr = dum_clean_people.corr()\n",
    "mask = np.triu(np.ones_like(corr,dtype = np.bool))\n",
    "sns.set_style(style = 'white')\n",
    "f,ax = plt.subplots(figsize=(10,10))\n",
    "cmap = sns.diverging_palette(10,250,as_cmap = True)\n",
    "sns.heatmap(corr,mask=mask,cmap=cmap,\n",
    "           square = True\n",
    "           )"
   ]
  },
  {
   "cell_type": "code",
   "execution_count": 47,
   "id": "19fc27d1",
   "metadata": {},
   "outputs": [],
   "source": [
    "clean_people.to_csv('clean_people.csv')"
   ]
  }
 ],
 "metadata": {
  "kernelspec": {
   "display_name": "Python 3 (ipykernel)",
   "language": "python",
   "name": "python3"
  },
  "language_info": {
   "codemirror_mode": {
    "name": "ipython",
    "version": 3
   },
   "file_extension": ".py",
   "mimetype": "text/x-python",
   "name": "python",
   "nbconvert_exporter": "python",
   "pygments_lexer": "ipython3",
   "version": "3.8.2"
  }
 },
 "nbformat": 4,
 "nbformat_minor": 5
}
