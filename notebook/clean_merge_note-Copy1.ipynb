{
 "cells": [
  {
   "cell_type": "code",
   "execution_count": 69,
   "id": "fcac44e4",
   "metadata": {},
   "outputs": [],
   "source": [
    "import numpy as np\n",
    "import pandas as pd\n",
    "import sklearn\n",
    "import matplotlib.pyplot as plt\n",
    "from sklearn.linear_model import LogisticRegression\n",
    "from sklearn.model_selection import train_test_split\n",
    "from sklearn.ensemble import RandomForestRegressor, RandomForestClassifier\n",
    "from sklearn.datasets import make_blobs\n",
    "from sklearn.model_selection import RepeatedStratifiedKFold\n",
    "from sklearn.model_selection import GridSearchCV\n",
    "from sklearn.linear_model import LogisticRegression\n",
    "from sklearn import metrics"
   ]
  },
  {
   "cell_type": "code",
   "execution_count": 13,
   "id": "1d9fdd9a",
   "metadata": {},
   "outputs": [],
   "source": [
    "ten_rand = ten_samp.sample(n= 50000) "
   ]
  },
  {
   "cell_type": "code",
   "execution_count": 16,
   "id": "2eb8524a",
   "metadata": {},
   "outputs": [],
   "source": [
    "ten_rand.to_csv('ten_rand.csv')"
   ]
  },
  {
   "cell_type": "code",
   "execution_count": 17,
   "id": "f1da7180",
   "metadata": {},
   "outputs": [],
   "source": [
    "ten_dum = pd.get_dummies(ten_rand, columns = ['EJECTION','AIRBAG_DEPLOYED',\n",
    "       'SAFETY_EQUIPMENT',\n",
    "       'MODEL','FIRST_CONTACT_POINT','SEX','AGE','CRASH_HOUR','CRASH_MONTH'])"
   ]
  },
  {
   "cell_type": "code",
   "execution_count": 18,
   "id": "efc0a45c",
   "metadata": {},
   "outputs": [
    {
     "data": {
      "text/plain": [
       "Index(['EJECTION', 'AIRBAG_DEPLOYED', 'SAFETY_EQUIPMENT', 'MODEL',\n",
       "       'FIRST_CONTACT_POINT', 'INJURIES_TOTAL', 'SEX', 'AGE', 'CRASH_HOUR',\n",
       "       'CRASH_MONTH'],\n",
       "      dtype='object')"
      ]
     },
     "execution_count": 18,
     "metadata": {},
     "output_type": "execute_result"
    }
   ],
   "source": [
    "ten_samp.columns\n"
   ]
  },
  {
   "cell_type": "code",
   "execution_count": 19,
   "id": "60f35e05",
   "metadata": {},
   "outputs": [
    {
     "data": {
      "text/plain": [
       "Index(['EJECTION', 'AIRBAG_DEPLOYED', 'SAFETY_EQUIPMENT', 'MODEL',\n",
       "       'FIRST_CONTACT_POINT', 'INJURIES_TOTAL', 'SEX', 'AGE', 'CRASH_HOUR',\n",
       "       'CRASH_MONTH'],\n",
       "      dtype='object')"
      ]
     },
     "execution_count": 19,
     "metadata": {},
     "output_type": "execute_result"
    }
   ],
   "source": [
    "ten_rand.columns"
   ]
  },
  {
   "cell_type": "code",
   "execution_count": 29,
   "id": "df6f6de1",
   "metadata": {},
   "outputs": [
    {
     "data": {
      "text/plain": [
       "Index(['INJURIES_TOTAL', 'EJECTION_NONE', 'EJECTION_PARTIALLY EJECTED',\n",
       "       'EJECTION_TOTALLY EJECTED', 'EJECTION_TRAPPED/EXTRICATED',\n",
       "       'EJECTION_UNKNOWN',\n",
       "       'AIRBAG_DEPLOYED_DEPLOYED OTHER (KNEE, AIR, BELT, ETC.)',\n",
       "       'AIRBAG_DEPLOYED_DEPLOYED, COMBINATION',\n",
       "       'AIRBAG_DEPLOYED_DEPLOYED, FRONT', 'AIRBAG_DEPLOYED_DEPLOYED, SIDE',\n",
       "       ...\n",
       "       'CRASH_MONTH_3', 'CRASH_MONTH_4', 'CRASH_MONTH_5', 'CRASH_MONTH_6',\n",
       "       'CRASH_MONTH_7', 'CRASH_MONTH_8', 'CRASH_MONTH_9', 'CRASH_MONTH_10',\n",
       "       'CRASH_MONTH_11', 'CRASH_MONTH_12'],\n",
       "      dtype='object', length=1312)"
      ]
     },
     "execution_count": 29,
     "metadata": {},
     "output_type": "execute_result"
    }
   ],
   "source": [
    "ten_dum.columns"
   ]
  },
  {
   "cell_type": "code",
   "execution_count": 28,
   "id": "5ad19e99",
   "metadata": {},
   "outputs": [],
   "source": [
    "y = ten_dum['INJURIES_TOTAL']\n",
    "X = ten_dum.drop(columns = ['INJURIES_TOTAL'])\n",
    "X_train, X_test, y_train, y_test = train_test_split(X, y, test_size=0.20, random_state=0)\n",
    "model = LogisticRegression(n_jobs= -1)\n",
    "model.fit(X_train,y_train)\n",
    "\n",
    "samp_pred = model.predict(X_test)\n",
    "samp_score = model.score(X_test,y_test)"
   ]
  },
  {
   "cell_type": "code",
   "execution_count": 30,
   "id": "9de3a355",
   "metadata": {},
   "outputs": [
    {
     "name": "stdout",
     "output_type": "stream",
     "text": [
      "0.8474\n"
     ]
    }
   ],
   "source": [
    "print(samp_score)"
   ]
  },
  {
   "cell_type": "code",
   "execution_count": 70,
   "id": "ab18e70c",
   "metadata": {},
   "outputs": [],
   "source": [
    "y = ten_dum['INJURIES_TOTAL']\n",
    "X = ten_dum.drop(columns = ['INJURIES_TOTAL'])\n",
    "X_train,X_test,y_train,y_test = train_test_split(X,y,test_size = .2 , random_state = 0)\n",
    "regressor = RandomForestClassifier(n_estimators = 20,random_state = 0)\n",
    "regressor.fit(X_train,y_train)\n",
    "y_pred = regressor.predict(X_test)"
   ]
  },
  {
   "cell_type": "code",
   "execution_count": 71,
   "id": "bfeaafad",
   "metadata": {},
   "outputs": [
    {
     "data": {
      "text/plain": [
       "0.8432"
      ]
     },
     "execution_count": 71,
     "metadata": {},
     "output_type": "execute_result"
    }
   ],
   "source": [
    "random_score = regressor.score(X_test,y_test)\n",
    "random_score"
   ]
  },
  {
   "cell_type": "code",
   "execution_count": 72,
   "id": "2c2ccbdf",
   "metadata": {},
   "outputs": [
    {
     "data": {
      "text/plain": [
       "117920     0.0\n",
       "1138165    0.0\n",
       "415412     0.0\n",
       "382726     0.0\n",
       "2104423    1.0\n",
       "          ... \n",
       "2411525    0.0\n",
       "2310329    0.0\n",
       "2263328    0.0\n",
       "1249757    1.0\n",
       "2058707    0.0\n",
       "Name: INJURIES_TOTAL, Length: 10000, dtype: float64"
      ]
     },
     "execution_count": 72,
     "metadata": {},
     "output_type": "execute_result"
    }
   ],
   "source": [
    "y_test"
   ]
  },
  {
   "cell_type": "code",
   "execution_count": 96,
   "id": "3a1ca53b",
   "metadata": {},
   "outputs": [
    {
     "name": "stdout",
     "output_type": "stream",
     "text": [
      "0.6369327073552425 0.23350545037292025\n"
     ]
    }
   ],
   "source": [
    "print(metrics.precision_score(y_test,y_pred),metrics.recall_score(y_test,y_pred))"
   ]
  },
  {
   "cell_type": "code",
   "execution_count": 79,
   "id": "86d6334c",
   "metadata": {},
   "outputs": [
    {
     "ename": "NameError",
     "evalue": "name 'svc_disp' is not defined",
     "output_type": "error",
     "traceback": [
      "\u001b[0;31m---------------------------------------------------------------------------\u001b[0m",
      "\u001b[0;31mNameError\u001b[0m                                 Traceback (most recent call last)",
      "\u001b[0;32m/var/folders/nt/rg8_jkq90v77r8l8dc_9wl0m0000gn/T/ipykernel_15139/361840000.py\u001b[0m in \u001b[0;36m<module>\u001b[0;34m\u001b[0m\n\u001b[1;32m      6\u001b[0m \u001b[0max\u001b[0m \u001b[0;34m=\u001b[0m \u001b[0mplt\u001b[0m\u001b[0;34m.\u001b[0m\u001b[0mgca\u001b[0m\u001b[0;34m(\u001b[0m\u001b[0;34m)\u001b[0m\u001b[0;34m\u001b[0m\u001b[0;34m\u001b[0m\u001b[0m\n\u001b[1;32m      7\u001b[0m \u001b[0mrfc_disp\u001b[0m \u001b[0;34m=\u001b[0m \u001b[0mplot_roc_curve\u001b[0m\u001b[0;34m(\u001b[0m\u001b[0mrfc\u001b[0m\u001b[0;34m,\u001b[0m \u001b[0mX_test\u001b[0m\u001b[0;34m,\u001b[0m \u001b[0my_test\u001b[0m\u001b[0;34m,\u001b[0m \u001b[0max\u001b[0m\u001b[0;34m=\u001b[0m\u001b[0max\u001b[0m\u001b[0;34m,\u001b[0m \u001b[0malpha\u001b[0m\u001b[0;34m=\u001b[0m\u001b[0;36m0.8\u001b[0m\u001b[0;34m)\u001b[0m\u001b[0;34m\u001b[0m\u001b[0;34m\u001b[0m\u001b[0m\n\u001b[0;32m----> 8\u001b[0;31m \u001b[0msvc_disp\u001b[0m\u001b[0;34m.\u001b[0m\u001b[0mplot\u001b[0m\u001b[0;34m(\u001b[0m\u001b[0max\u001b[0m\u001b[0;34m=\u001b[0m\u001b[0max\u001b[0m\u001b[0;34m,\u001b[0m \u001b[0malpha\u001b[0m\u001b[0;34m=\u001b[0m\u001b[0;36m0.8\u001b[0m\u001b[0;34m)\u001b[0m\u001b[0;34m\u001b[0m\u001b[0;34m\u001b[0m\u001b[0m\n\u001b[0m\u001b[1;32m      9\u001b[0m \u001b[0mplt\u001b[0m\u001b[0;34m.\u001b[0m\u001b[0mshow\u001b[0m\u001b[0;34m(\u001b[0m\u001b[0;34m)\u001b[0m\u001b[0;34m\u001b[0m\u001b[0;34m\u001b[0m\u001b[0m\n",
      "\u001b[0;31mNameError\u001b[0m: name 'svc_disp' is not defined"
     ]
    },
    {
     "data": {
      "image/png": "[encoded data removed]",
      "text/plain": [
       "<Figure size 432x288 with 1 Axes>"
      ]
     },
     "metadata": {
      "needs_background": "light"
     },
     "output_type": "display_data"
    }
   ],
   "source": [
    "from sklearn.ensemble import RandomForestClassifier\n",
    "from sklearn.metrics import plot_roc_curve\n",
    "from sklearn.model_selection import train_test_split\n",
    "rfc = RandomForestClassifier(n_estimators=10, random_state=0)\n",
    "rfc.fit(X_train, y_train)\n",
    "ax = plt.gca()\n",
    "rfc_disp = plot_roc_curve(rfc, X_test, y_test, ax=ax, alpha=0.8)\n",
    "svc_disp.plot(ax=ax, alpha=0.8)\n",
    "plt.show()"
   ]
  },
  {
   "cell_type": "code",
   "execution_count": 73,
   "id": "cdb8d828",
   "metadata": {},
   "outputs": [
    {
     "data": {
      "text/plain": [
       "array([0., 0., 0., ..., 1., 1., 0.])"
      ]
     },
     "execution_count": 73,
     "metadata": {},
     "output_type": "execute_result"
    }
   ],
   "source": [
    "y_pred"
   ]
  },
  {
   "cell_type": "code",
   "execution_count": 74,
   "id": "8334b074",
   "metadata": {},
   "outputs": [
    {
     "data": {
      "text/plain": [
       "array([[8025,  232],\n",
       "       [1336,  407]])"
      ]
     },
     "execution_count": 74,
     "metadata": {},
     "output_type": "execute_result"
    }
   ],
   "source": [
    "confusion_matrix(y_test,y_pred)"
   ]
  },
  {
   "cell_type": "code",
   "execution_count": 82,
   "id": "7c8813a2",
   "metadata": {},
   "outputs": [
    {
     "name": "stdout",
     "output_type": "stream",
     "text": [
      "Mean Absolute Error: 0.1568\n",
      "Mean Squared Error: 0.1568\n",
      "Root Mean Squared Error: 0.3959797974644666\n"
     ]
    }
   ],
   "source": [
    "print('Mean Absolute Error:', metrics.mean_absolute_error(y_test, y_pred))  \n",
    "print('Mean Squared Error:', metrics.mean_squared_error(y_test, y_pred))  \n",
    "print('Root Mean Squared Error:', np.sqrt(metrics.mean_squared_error(y_test, y_pred)))"
   ]
  },
  {
   "cell_type": "code",
   "execution_count": 84,
   "id": "34d48c12",
   "metadata": {},
   "outputs": [
    {
     "data": {
      "text/plain": [
       "(0.6369327073552425, 0.23350545037292025)"
      ]
     },
     "execution_count": 84,
     "metadata": {},
     "output_type": "execute_result"
    }
   ],
   "source": [
    "\n",
    "# Function to calculate Precision and Recall\n",
    "\n",
    "def calc_precision_recall(y_true, y_pred):\n",
    "    \n",
    "    # Convert predictions to series with index matching y_true\n",
    "    y_pred = pd.Series(y_pred, index=y_true.index)\n",
    "    \n",
    "    # Instantiate counters\n",
    "    TP = 0\n",
    "    FP = 0\n",
    "    FN = 0\n",
    "\n",
    "    # Determine whether each prediction is TP, FP, TN, or FN\n",
    "    for i in y_true.index: \n",
    "        if y_true[i]==y_pred[i]==1:\n",
    "           TP += 1\n",
    "        if y_pred[i]==1 and y_true[i]!=y_pred[i]:\n",
    "           FP += 1\n",
    "        if y_pred[i]==0 and y_test[i]!=y_pred[i]:\n",
    "           FN += 1\n",
    "    \n",
    "    # Calculate true positive rate and false positive rate\n",
    "    # Use try-except statements to avoid problem of dividing by 0\n",
    "    try:\n",
    "        precision = TP / (TP + FP)\n",
    "    except:\n",
    "        precision = 1\n",
    "    \n",
    "    try:\n",
    "        recall = TP / (TP + FN)\n",
    "    except:\n",
    "        recall = 1\n",
    "\n",
    "    return precision, recall\n",
    "\n",
    "# Test function\n",
    "\n",
    "calc_precision_recall(y_test, y_pred)"
   ]
  },
  {
   "cell_type": "code",
   "execution_count": 94,
   "id": "4d5c1f15",
   "metadata": {},
   "outputs": [
    {
     "data": {
      "text/plain": [
       "<sklearn.metrics._plot.precision_recall_curve.PrecisionRecallDisplay at 0x7fba6b77b460>"
      ]
     },
     "execution_count": 94,
     "metadata": {},
     "output_type": "execute_result"
    },
    {
     "data": {
      "image/png": "[encoded data removed]",
      "text/plain": [
       "<Figure size 432x288 with 1 Axes>"
      ]
     },
     "metadata": {
      "needs_background": "light"
     },
     "output_type": "display_data"
    }
   ],
   "source": [
    "\n",
    "# Use sklearn to plot precision-recall curves\n",
    "\n",
    "from sklearn.metrics import plot_precision_recall_curve\n",
    "\n",
    "plot_precision_recall_curve(regressor, X_test, y_test, name = 'Random Classifer')\n",
    "\n",
    "\n"
   ]
  },
  {
   "cell_type": "code",
   "execution_count": 106,
   "id": "949ca903",
   "metadata": {},
   "outputs": [
    {
     "data": {
      "image/png": "[encoded data removed]",
      "text/plain": [
       "<Figure size 432x288 with 1 Axes>"
      ]
     },
     "metadata": {
      "needs_background": "light"
     },
     "output_type": "display_data"
    }
   ],
   "source": [
    "\n",
    "from sklearn.metrics import precision_recall_curve\n",
    "from sklearn.metrics import plot_precision_recall_curve\n",
    "import matplotlib.pyplot as plt\n",
    "\n",
    "disp = plot_precision_recall_curve(rfc, X_test, y_test)\n"
   ]
  },
  {
   "cell_type": "code",
   "execution_count": null,
   "id": "5aff6b57",
   "metadata": {},
   "outputs": [],
   "source": []
  }
 ],
 "metadata": {
  "interpreter": {
   "hash": "d6623524af55dac0a94ed6c117337fe8fd6caa56444ef9dd3b780d92b0c716f8"
  },
  "kernelspec": {
   "display_name": "Python 3 (ipykernel)",
   "language": "python",
   "name": "python3"
  },
  "language_info": {
   "codemirror_mode": {
    "name": "ipython",
    "version": 3
   },
   "file_extension": ".py",
   "mimetype": "text/x-python",
   "name": "python",
   "nbconvert_exporter": "python",
   "pygments_lexer": "ipython3",
   "version": "3.8.2"
  }
 },
 "nbformat": 4,
 "nbformat_minor": 5
}
