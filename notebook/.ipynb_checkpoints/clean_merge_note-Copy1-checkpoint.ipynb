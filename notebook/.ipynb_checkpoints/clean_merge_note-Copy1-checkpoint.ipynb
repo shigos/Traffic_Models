{
 "cells": [
  {
   "cell_type": "code",
   "execution_count": 2,
   "id": "fcac44e4",
   "metadata": {},
   "outputs": [],
   "source": [
    "import numpy as np\n",
    "import pandas as pd\n",
    "import sklearn\n",
    "import geopandas as gpd \n",
    "from geopandas import GeoDataFrame\n",
    "from shapely.geometry import Point, Polygon\n",
    "import matplotlib.pyplot as plt\n",
    "from sklearn.linear_model import LogisticRegression\n",
    "from sklearn.model_selection import train_test_split\n",
    "from sklearn.ensemble import RandomForestRegressor\n",
    "from sklearn.datasets import make_blobs\n",
    "from sklearn.model_selection import RepeatedStratifiedKFold\n",
    "from sklearn.model_selection import GridSearchCV\n",
    "from sklearn.linear_model import LogisticRegression\n"
   ]
  },
  {
   "cell_type": "code",
   "execution_count": 3,
   "id": "5403acdc",
   "metadata": {},
   "outputs": [
    {
     "name": "stderr",
     "output_type": "stream",
     "text": [
      "/Users/winsometang/opt/anaconda3/lib/python3.8/site-packages/IPython/core/interactiveshell.py:3169: DtypeWarning: Columns (14) have mixed types.Specify dtype option on import or set low_memory=False.\n",
      "  has_raised = await self.run_ast_nodes(code_ast.body, cell_name,\n"
     ]
    }
   ],
   "source": [
    "clean_crash = pd.read_csv('crash_clean.csv')"
   ]
  },
  {
   "cell_type": "code",
   "execution_count": 4,
   "id": "a16a6cd2",
   "metadata": {},
   "outputs": [],
   "source": [
    "clean_vehicles = pd.read_csv('clean_vehicles.csv')"
   ]
  },
  {
   "cell_type": "code",
   "execution_count": 5,
   "id": "549ed1f0",
   "metadata": {},
   "outputs": [
    {
     "name": "stderr",
     "output_type": "stream",
     "text": [
      "/Users/winsometang/opt/anaconda3/lib/python3.8/site-packages/IPython/core/interactiveshell.py:3169: DtypeWarning: Columns (4,11) have mixed types.Specify dtype option on import or set low_memory=False.\n",
      "  has_raised = await self.run_ast_nodes(code_ast.body, cell_name,\n"
     ]
    }
   ],
   "source": [
    "clean_people = pd.read_csv('clean_people.csv')"
   ]
  },
  {
   "cell_type": "code",
   "execution_count": 6,
   "id": "08c17786",
   "metadata": {},
   "outputs": [
    {
     "data": {
      "text/html": [
       "<div>\n",
       "<style scoped>\n",
       "    .dataframe tbody tr th:only-of-type {\n",
       "        vertical-align: middle;\n",
       "    }\n",
       "\n",
       "    .dataframe tbody tr th {\n",
       "        vertical-align: top;\n",
       "    }\n",
       "\n",
       "    .dataframe thead th {\n",
       "        text-align: right;\n",
       "    }\n",
       "</style>\n",
       "<table border=\"1\" class=\"dataframe\">\n",
       "  <thead>\n",
       "    <tr style=\"text-align: right;\">\n",
       "      <th></th>\n",
       "      <th>Unnamed: 0</th>\n",
       "      <th>POSTED_SPEED_LIMIT</th>\n",
       "      <th>CRASH_HOUR</th>\n",
       "      <th>CRASH_DAY_OF_WEEK</th>\n",
       "      <th>CRASH_MONTH</th>\n",
       "      <th>LATITUDE</th>\n",
       "      <th>LONGITUDE</th>\n",
       "      <th>LANE_CNT</th>\n",
       "    </tr>\n",
       "  </thead>\n",
       "  <tbody>\n",
       "    <tr>\n",
       "      <th>count</th>\n",
       "      <td>517282.00000</td>\n",
       "      <td>517282.000000</td>\n",
       "      <td>517282.000000</td>\n",
       "      <td>517282.000000</td>\n",
       "      <td>517282.000000</td>\n",
       "      <td>514382.000000</td>\n",
       "      <td>514382.000000</td>\n",
       "      <td>1.989660e+05</td>\n",
       "    </tr>\n",
       "    <tr>\n",
       "      <th>mean</th>\n",
       "      <td>258640.50000</td>\n",
       "      <td>28.302120</td>\n",
       "      <td>13.242158</td>\n",
       "      <td>4.126892</td>\n",
       "      <td>6.573674</td>\n",
       "      <td>41.855046</td>\n",
       "      <td>-87.673046</td>\n",
       "      <td>1.333242e+01</td>\n",
       "    </tr>\n",
       "    <tr>\n",
       "      <th>std</th>\n",
       "      <td>149326.59531</td>\n",
       "      <td>6.444674</td>\n",
       "      <td>5.506523</td>\n",
       "      <td>1.977442</td>\n",
       "      <td>3.438811</td>\n",
       "      <td>0.336088</td>\n",
       "      <td>0.683169</td>\n",
       "      <td>2.961921e+03</td>\n",
       "    </tr>\n",
       "    <tr>\n",
       "      <th>min</th>\n",
       "      <td>0.00000</td>\n",
       "      <td>0.000000</td>\n",
       "      <td>0.000000</td>\n",
       "      <td>1.000000</td>\n",
       "      <td>1.000000</td>\n",
       "      <td>0.000000</td>\n",
       "      <td>-87.934763</td>\n",
       "      <td>0.000000e+00</td>\n",
       "    </tr>\n",
       "    <tr>\n",
       "      <th>25%</th>\n",
       "      <td>129320.25000</td>\n",
       "      <td>30.000000</td>\n",
       "      <td>9.000000</td>\n",
       "      <td>2.000000</td>\n",
       "      <td>4.000000</td>\n",
       "      <td>41.782219</td>\n",
       "      <td>-87.721285</td>\n",
       "      <td>2.000000e+00</td>\n",
       "    </tr>\n",
       "    <tr>\n",
       "      <th>50%</th>\n",
       "      <td>258640.50000</td>\n",
       "      <td>30.000000</td>\n",
       "      <td>14.000000</td>\n",
       "      <td>4.000000</td>\n",
       "      <td>7.000000</td>\n",
       "      <td>41.875409</td>\n",
       "      <td>-87.673455</td>\n",
       "      <td>2.000000e+00</td>\n",
       "    </tr>\n",
       "    <tr>\n",
       "      <th>75%</th>\n",
       "      <td>387960.75000</td>\n",
       "      <td>30.000000</td>\n",
       "      <td>17.000000</td>\n",
       "      <td>6.000000</td>\n",
       "      <td>10.000000</td>\n",
       "      <td>41.924046</td>\n",
       "      <td>-87.632828</td>\n",
       "      <td>4.000000e+00</td>\n",
       "    </tr>\n",
       "    <tr>\n",
       "      <th>max</th>\n",
       "      <td>517281.00000</td>\n",
       "      <td>99.000000</td>\n",
       "      <td>23.000000</td>\n",
       "      <td>7.000000</td>\n",
       "      <td>12.000000</td>\n",
       "      <td>42.022780</td>\n",
       "      <td>0.000000</td>\n",
       "      <td>1.191625e+06</td>\n",
       "    </tr>\n",
       "  </tbody>\n",
       "</table>\n",
       "</div>"
      ],
      "text/plain": [
       "         Unnamed: 0  POSTED_SPEED_LIMIT     CRASH_HOUR  CRASH_DAY_OF_WEEK  \\\n",
       "count  517282.00000       517282.000000  517282.000000      517282.000000   \n",
       "mean   258640.50000           28.302120      13.242158           4.126892   \n",
       "std    149326.59531            6.444674       5.506523           1.977442   \n",
       "min         0.00000            0.000000       0.000000           1.000000   \n",
       "25%    129320.25000           30.000000       9.000000           2.000000   \n",
       "50%    258640.50000           30.000000      14.000000           4.000000   \n",
       "75%    387960.75000           30.000000      17.000000           6.000000   \n",
       "max    517281.00000           99.000000      23.000000           7.000000   \n",
       "\n",
       "         CRASH_MONTH       LATITUDE      LONGITUDE      LANE_CNT  \n",
       "count  517282.000000  514382.000000  514382.000000  1.989660e+05  \n",
       "mean        6.573674      41.855046     -87.673046  1.333242e+01  \n",
       "std         3.438811       0.336088       0.683169  2.961921e+03  \n",
       "min         1.000000       0.000000     -87.934763  0.000000e+00  \n",
       "25%         4.000000      41.782219     -87.721285  2.000000e+00  \n",
       "50%         7.000000      41.875409     -87.673455  2.000000e+00  \n",
       "75%        10.000000      41.924046     -87.632828  4.000000e+00  \n",
       "max        12.000000      42.022780       0.000000  1.191625e+06  "
      ]
     },
     "execution_count": 6,
     "metadata": {},
     "output_type": "execute_result"
    }
   ],
   "source": [
    "clean_crash.describe()"
   ]
  },
  {
   "cell_type": "code",
   "execution_count": 7,
   "id": "0b8d0d6b",
   "metadata": {},
   "outputs": [
    {
     "data": {
      "text/html": [
       "<div>\n",
       "<style scoped>\n",
       "    .dataframe tbody tr th:only-of-type {\n",
       "        vertical-align: middle;\n",
       "    }\n",
       "\n",
       "    .dataframe tbody tr th {\n",
       "        vertical-align: top;\n",
       "    }\n",
       "\n",
       "    .dataframe thead th {\n",
       "        text-align: right;\n",
       "    }\n",
       "</style>\n",
       "<table border=\"1\" class=\"dataframe\">\n",
       "  <thead>\n",
       "    <tr style=\"text-align: right;\">\n",
       "      <th></th>\n",
       "      <th>Unnamed: 0</th>\n",
       "      <th>AGE</th>\n",
       "      <th>BAC_RESULT VALUE</th>\n",
       "    </tr>\n",
       "  </thead>\n",
       "  <tbody>\n",
       "    <tr>\n",
       "      <th>count</th>\n",
       "      <td>1.142379e+06</td>\n",
       "      <td>815720.000000</td>\n",
       "      <td>1.142379e+06</td>\n",
       "    </tr>\n",
       "    <tr>\n",
       "      <th>mean</th>\n",
       "      <td>5.715878e+05</td>\n",
       "      <td>37.847115</td>\n",
       "      <td>2.140358e-04</td>\n",
       "    </tr>\n",
       "    <tr>\n",
       "      <th>std</th>\n",
       "      <td>3.299286e+05</td>\n",
       "      <td>17.106371</td>\n",
       "      <td>6.961254e-03</td>\n",
       "    </tr>\n",
       "    <tr>\n",
       "      <th>min</th>\n",
       "      <td>0.000000e+00</td>\n",
       "      <td>-177.000000</td>\n",
       "      <td>0.000000e+00</td>\n",
       "    </tr>\n",
       "    <tr>\n",
       "      <th>25%</th>\n",
       "      <td>2.858925e+05</td>\n",
       "      <td>25.000000</td>\n",
       "      <td>0.000000e+00</td>\n",
       "    </tr>\n",
       "    <tr>\n",
       "      <th>50%</th>\n",
       "      <td>5.716430e+05</td>\n",
       "      <td>35.000000</td>\n",
       "      <td>0.000000e+00</td>\n",
       "    </tr>\n",
       "    <tr>\n",
       "      <th>75%</th>\n",
       "      <td>8.573105e+05</td>\n",
       "      <td>50.000000</td>\n",
       "      <td>0.000000e+00</td>\n",
       "    </tr>\n",
       "    <tr>\n",
       "      <th>max</th>\n",
       "      <td>1.142962e+06</td>\n",
       "      <td>110.000000</td>\n",
       "      <td>1.000000e+00</td>\n",
       "    </tr>\n",
       "  </tbody>\n",
       "</table>\n",
       "</div>"
      ],
      "text/plain": [
       "         Unnamed: 0            AGE  BAC_RESULT VALUE\n",
       "count  1.142379e+06  815720.000000      1.142379e+06\n",
       "mean   5.715878e+05      37.847115      2.140358e-04\n",
       "std    3.299286e+05      17.106371      6.961254e-03\n",
       "min    0.000000e+00    -177.000000      0.000000e+00\n",
       "25%    2.858925e+05      25.000000      0.000000e+00\n",
       "50%    5.716430e+05      35.000000      0.000000e+00\n",
       "75%    8.573105e+05      50.000000      0.000000e+00\n",
       "max    1.142962e+06     110.000000      1.000000e+00"
      ]
     },
     "execution_count": 7,
     "metadata": {},
     "output_type": "execute_result"
    }
   ],
   "source": [
    "clean_people.describe()"
   ]
  },
  {
   "cell_type": "code",
   "execution_count": 8,
   "id": "3efd3fd0",
   "metadata": {},
   "outputs": [
    {
     "data": {
      "text/html": [
       "<div>\n",
       "<style scoped>\n",
       "    .dataframe tbody tr th:only-of-type {\n",
       "        vertical-align: middle;\n",
       "    }\n",
       "\n",
       "    .dataframe tbody tr th {\n",
       "        vertical-align: top;\n",
       "    }\n",
       "\n",
       "    .dataframe thead th {\n",
       "        text-align: right;\n",
       "    }\n",
       "</style>\n",
       "<table border=\"1\" class=\"dataframe\">\n",
       "  <thead>\n",
       "    <tr style=\"text-align: right;\">\n",
       "      <th></th>\n",
       "      <th>Unnamed: 0</th>\n",
       "      <th>CRASH_UNIT_ID</th>\n",
       "    </tr>\n",
       "  </thead>\n",
       "  <tbody>\n",
       "    <tr>\n",
       "      <th>count</th>\n",
       "      <td>1.057474e+06</td>\n",
       "      <td>1.057474e+06</td>\n",
       "    </tr>\n",
       "    <tr>\n",
       "      <th>mean</th>\n",
       "      <td>5.287365e+05</td>\n",
       "      <td>5.642652e+05</td>\n",
       "    </tr>\n",
       "    <tr>\n",
       "      <th>std</th>\n",
       "      <td>3.052666e+05</td>\n",
       "      <td>3.276157e+05</td>\n",
       "    </tr>\n",
       "    <tr>\n",
       "      <th>min</th>\n",
       "      <td>0.000000e+00</td>\n",
       "      <td>2.000000e+00</td>\n",
       "    </tr>\n",
       "    <tr>\n",
       "      <th>25%</th>\n",
       "      <td>2.643682e+05</td>\n",
       "      <td>2.790312e+05</td>\n",
       "    </tr>\n",
       "    <tr>\n",
       "      <th>50%</th>\n",
       "      <td>5.287365e+05</td>\n",
       "      <td>5.645995e+05</td>\n",
       "    </tr>\n",
       "    <tr>\n",
       "      <th>75%</th>\n",
       "      <td>7.931048e+05</td>\n",
       "      <td>8.490518e+05</td>\n",
       "    </tr>\n",
       "    <tr>\n",
       "      <th>max</th>\n",
       "      <td>1.057473e+06</td>\n",
       "      <td>1.129364e+06</td>\n",
       "    </tr>\n",
       "  </tbody>\n",
       "</table>\n",
       "</div>"
      ],
      "text/plain": [
       "         Unnamed: 0  CRASH_UNIT_ID\n",
       "count  1.057474e+06   1.057474e+06\n",
       "mean   5.287365e+05   5.642652e+05\n",
       "std    3.052666e+05   3.276157e+05\n",
       "min    0.000000e+00   2.000000e+00\n",
       "25%    2.643682e+05   2.790312e+05\n",
       "50%    5.287365e+05   5.645995e+05\n",
       "75%    7.931048e+05   8.490518e+05\n",
       "max    1.057473e+06   1.129364e+06"
      ]
     },
     "execution_count": 8,
     "metadata": {},
     "output_type": "execute_result"
    }
   ],
   "source": [
    "clean_vehicles.describe()"
   ]
  },
  {
   "cell_type": "code",
   "execution_count": 9,
   "id": "62157a11",
   "metadata": {},
   "outputs": [
    {
     "data": {
      "text/html": [
       "<div>\n",
       "<style scoped>\n",
       "    .dataframe tbody tr th:only-of-type {\n",
       "        vertical-align: middle;\n",
       "    }\n",
       "\n",
       "    .dataframe tbody tr th {\n",
       "        vertical-align: top;\n",
       "    }\n",
       "\n",
       "    .dataframe thead th {\n",
       "        text-align: right;\n",
       "    }\n",
       "</style>\n",
       "<table border=\"1\" class=\"dataframe\">\n",
       "  <thead>\n",
       "    <tr style=\"text-align: right;\">\n",
       "      <th></th>\n",
       "      <th>Unnamed: 0</th>\n",
       "      <th>CRASH_UNIT_ID</th>\n",
       "      <th>CRASH_RECORD_ID</th>\n",
       "      <th>CRASH_DATE</th>\n",
       "      <th>MAKE</th>\n",
       "      <th>MODEL</th>\n",
       "      <th>VEHICLE_TYPE</th>\n",
       "      <th>VEHICLE_DEFECT</th>\n",
       "      <th>TRAVEL_DIRECTION</th>\n",
       "      <th>MANEUVER</th>\n",
       "      <th>FIRST_CONTACT_POINT</th>\n",
       "      <th>FIRE_I</th>\n",
       "    </tr>\n",
       "  </thead>\n",
       "  <tbody>\n",
       "    <tr>\n",
       "      <th>0</th>\n",
       "      <td>0</td>\n",
       "      <td>829999</td>\n",
       "      <td>24ddf9fd8542199d832e1c223cc474e5601b356f1d77a6...</td>\n",
       "      <td>01/22/2020 06:25:00 AM</td>\n",
       "      <td>INFINITI</td>\n",
       "      <td>UNKNOWN</td>\n",
       "      <td>PASSENGER</td>\n",
       "      <td>NONE</td>\n",
       "      <td>N</td>\n",
       "      <td>STRAIGHT AHEAD</td>\n",
       "      <td>FRONT</td>\n",
       "      <td>N</td>\n",
       "    </tr>\n",
       "    <tr>\n",
       "      <th>1</th>\n",
       "      <td>1</td>\n",
       "      <td>749947</td>\n",
       "      <td>81dc0de2ed92aa62baccab641fa377be7feb1cc47e6554...</td>\n",
       "      <td>09/28/2019 03:30:00 AM</td>\n",
       "      <td>HONDA</td>\n",
       "      <td>CIVIC</td>\n",
       "      <td>PASSENGER</td>\n",
       "      <td>UNKNOWN</td>\n",
       "      <td>N</td>\n",
       "      <td>STRAIGHT AHEAD</td>\n",
       "      <td>FRONT</td>\n",
       "      <td>N</td>\n",
       "    </tr>\n",
       "    <tr>\n",
       "      <th>2</th>\n",
       "      <td>2</td>\n",
       "      <td>749949</td>\n",
       "      <td>81dc0de2ed92aa62baccab641fa377be7feb1cc47e6554...</td>\n",
       "      <td>09/28/2019 03:30:00 AM</td>\n",
       "      <td>TOYOTA</td>\n",
       "      <td>YARIS</td>\n",
       "      <td>UNKNOWN/NA</td>\n",
       "      <td>NONE</td>\n",
       "      <td>N</td>\n",
       "      <td>PARKED</td>\n",
       "      <td>ROOF</td>\n",
       "      <td>N</td>\n",
       "    </tr>\n",
       "    <tr>\n",
       "      <th>3</th>\n",
       "      <td>3</td>\n",
       "      <td>749950</td>\n",
       "      <td>81dc0de2ed92aa62baccab641fa377be7feb1cc47e6554...</td>\n",
       "      <td>09/28/2019 03:30:00 AM</td>\n",
       "      <td>GENERAL MOTORS CORPORATION (GMC)</td>\n",
       "      <td>SIERRA</td>\n",
       "      <td>UNKNOWN/NA</td>\n",
       "      <td>UNKNOWN</td>\n",
       "      <td>N</td>\n",
       "      <td>PARKED</td>\n",
       "      <td>ROOF</td>\n",
       "      <td>N</td>\n",
       "    </tr>\n",
       "    <tr>\n",
       "      <th>4</th>\n",
       "      <td>4</td>\n",
       "      <td>871921</td>\n",
       "      <td>af84fb5c8d996fcd3aefd36593c3a02e6e7509eeb27568...</td>\n",
       "      <td>04/13/2020 10:50:00 PM</td>\n",
       "      <td>BUICK</td>\n",
       "      <td>ENCORE</td>\n",
       "      <td>PASSENGER</td>\n",
       "      <td>NONE</td>\n",
       "      <td>W</td>\n",
       "      <td>STRAIGHT AHEAD</td>\n",
       "      <td>FRONT-RIGHT</td>\n",
       "      <td>N</td>\n",
       "    </tr>\n",
       "    <tr>\n",
       "      <th>5</th>\n",
       "      <td>5</td>\n",
       "      <td>473653</td>\n",
       "      <td>80f5b6eff349a72094c9c7a11745549caa8bd39b57cedd...</td>\n",
       "      <td>09/09/2018 08:50:00 AM</td>\n",
       "      <td>LINCOLN-CONTINENTAL</td>\n",
       "      <td>MKT</td>\n",
       "      <td>PASSENGER</td>\n",
       "      <td>NONE</td>\n",
       "      <td>S</td>\n",
       "      <td>PARKED</td>\n",
       "      <td>FRONT-LEFT</td>\n",
       "      <td>N</td>\n",
       "    </tr>\n",
       "    <tr>\n",
       "      <th>6</th>\n",
       "      <td>6</td>\n",
       "      <td>834812</td>\n",
       "      <td>ecf9e646f89a73ed3df0f373e4fbd18e91f5a595004019...</td>\n",
       "      <td>02/03/2020 03:45:00 PM</td>\n",
       "      <td>HONDA</td>\n",
       "      <td>CRV</td>\n",
       "      <td>PASSENGER</td>\n",
       "      <td>NONE</td>\n",
       "      <td>W</td>\n",
       "      <td>STRAIGHT AHEAD</td>\n",
       "      <td>OTHER</td>\n",
       "      <td>N</td>\n",
       "    </tr>\n",
       "    <tr>\n",
       "      <th>7</th>\n",
       "      <td>7</td>\n",
       "      <td>834813</td>\n",
       "      <td>ecf9e646f89a73ed3df0f373e4fbd18e91f5a595004019...</td>\n",
       "      <td>02/03/2020 03:45:00 PM</td>\n",
       "      <td>SUBARU</td>\n",
       "      <td>FORESTER</td>\n",
       "      <td>PASSENGER</td>\n",
       "      <td>NONE</td>\n",
       "      <td>S</td>\n",
       "      <td>STRAIGHT AHEAD</td>\n",
       "      <td>ROOF</td>\n",
       "      <td>N</td>\n",
       "    </tr>\n",
       "    <tr>\n",
       "      <th>8</th>\n",
       "      <td>8</td>\n",
       "      <td>837380</td>\n",
       "      <td>c7c57a49274b3aa953d0b76346f68e116ed8c3d72a683a...</td>\n",
       "      <td>02/06/2020 12:00:00 AM</td>\n",
       "      <td>UNKNOWN</td>\n",
       "      <td>UNKNOWN</td>\n",
       "      <td>UNKNOWN/NA</td>\n",
       "      <td>UNKNOWN</td>\n",
       "      <td>UNKNOWN</td>\n",
       "      <td>UNKNOWN/NA</td>\n",
       "      <td>UNKNOWN</td>\n",
       "      <td>N</td>\n",
       "    </tr>\n",
       "    <tr>\n",
       "      <th>9</th>\n",
       "      <td>9</td>\n",
       "      <td>837381</td>\n",
       "      <td>c7c57a49274b3aa953d0b76346f68e116ed8c3d72a683a...</td>\n",
       "      <td>02/06/2020 12:00:00 AM</td>\n",
       "      <td>INFINITI</td>\n",
       "      <td>UNKNOWN</td>\n",
       "      <td>PASSENGER</td>\n",
       "      <td>UNKNOWN</td>\n",
       "      <td>UNKNOWN</td>\n",
       "      <td>PARKED</td>\n",
       "      <td>TOTAL (ALL AREAS)</td>\n",
       "      <td>N</td>\n",
       "    </tr>\n",
       "  </tbody>\n",
       "</table>\n",
       "</div>"
      ],
      "text/plain": [
       "   Unnamed: 0  CRASH_UNIT_ID  \\\n",
       "0           0         829999   \n",
       "1           1         749947   \n",
       "2           2         749949   \n",
       "3           3         749950   \n",
       "4           4         871921   \n",
       "5           5         473653   \n",
       "6           6         834812   \n",
       "7           7         834813   \n",
       "8           8         837380   \n",
       "9           9         837381   \n",
       "\n",
       "                                     CRASH_RECORD_ID              CRASH_DATE  \\\n",
       "0  24ddf9fd8542199d832e1c223cc474e5601b356f1d77a6...  01/22/2020 06:25:00 AM   \n",
       "1  81dc0de2ed92aa62baccab641fa377be7feb1cc47e6554...  09/28/2019 03:30:00 AM   \n",
       "2  81dc0de2ed92aa62baccab641fa377be7feb1cc47e6554...  09/28/2019 03:30:00 AM   \n",
       "3  81dc0de2ed92aa62baccab641fa377be7feb1cc47e6554...  09/28/2019 03:30:00 AM   \n",
       "4  af84fb5c8d996fcd3aefd36593c3a02e6e7509eeb27568...  04/13/2020 10:50:00 PM   \n",
       "5  80f5b6eff349a72094c9c7a11745549caa8bd39b57cedd...  09/09/2018 08:50:00 AM   \n",
       "6  ecf9e646f89a73ed3df0f373e4fbd18e91f5a595004019...  02/03/2020 03:45:00 PM   \n",
       "7  ecf9e646f89a73ed3df0f373e4fbd18e91f5a595004019...  02/03/2020 03:45:00 PM   \n",
       "8  c7c57a49274b3aa953d0b76346f68e116ed8c3d72a683a...  02/06/2020 12:00:00 AM   \n",
       "9  c7c57a49274b3aa953d0b76346f68e116ed8c3d72a683a...  02/06/2020 12:00:00 AM   \n",
       "\n",
       "                               MAKE     MODEL VEHICLE_TYPE VEHICLE_DEFECT  \\\n",
       "0                          INFINITI   UNKNOWN    PASSENGER           NONE   \n",
       "1                             HONDA     CIVIC    PASSENGER        UNKNOWN   \n",
       "2                            TOYOTA     YARIS   UNKNOWN/NA           NONE   \n",
       "3  GENERAL MOTORS CORPORATION (GMC)    SIERRA   UNKNOWN/NA        UNKNOWN   \n",
       "4                             BUICK    ENCORE    PASSENGER           NONE   \n",
       "5               LINCOLN-CONTINENTAL       MKT    PASSENGER           NONE   \n",
       "6                             HONDA       CRV    PASSENGER           NONE   \n",
       "7                            SUBARU  FORESTER    PASSENGER           NONE   \n",
       "8                           UNKNOWN   UNKNOWN   UNKNOWN/NA        UNKNOWN   \n",
       "9                          INFINITI   UNKNOWN    PASSENGER        UNKNOWN   \n",
       "\n",
       "  TRAVEL_DIRECTION        MANEUVER FIRST_CONTACT_POINT FIRE_I  \n",
       "0                N  STRAIGHT AHEAD               FRONT      N  \n",
       "1                N  STRAIGHT AHEAD               FRONT      N  \n",
       "2                N          PARKED                ROOF      N  \n",
       "3                N          PARKED                ROOF      N  \n",
       "4                W  STRAIGHT AHEAD         FRONT-RIGHT      N  \n",
       "5                S          PARKED          FRONT-LEFT      N  \n",
       "6                W  STRAIGHT AHEAD               OTHER      N  \n",
       "7                S  STRAIGHT AHEAD                ROOF      N  \n",
       "8          UNKNOWN      UNKNOWN/NA             UNKNOWN      N  \n",
       "9          UNKNOWN          PARKED   TOTAL (ALL AREAS)      N  "
      ]
     },
     "execution_count": 9,
     "metadata": {},
     "output_type": "execute_result"
    }
   ],
   "source": [
    "clean_vehicles.head(10)"
   ]
  },
  {
   "cell_type": "code",
   "execution_count": 10,
   "id": "3b44ea89",
   "metadata": {},
   "outputs": [
    {
     "data": {
      "text/html": [
       "<div>\n",
       "<style scoped>\n",
       "    .dataframe tbody tr th:only-of-type {\n",
       "        vertical-align: middle;\n",
       "    }\n",
       "\n",
       "    .dataframe tbody tr th {\n",
       "        vertical-align: top;\n",
       "    }\n",
       "\n",
       "    .dataframe thead th {\n",
       "        text-align: right;\n",
       "    }\n",
       "</style>\n",
       "<table border=\"1\" class=\"dataframe\">\n",
       "  <thead>\n",
       "    <tr style=\"text-align: right;\">\n",
       "      <th></th>\n",
       "      <th>Unnamed: 0</th>\n",
       "      <th>CRASH_RECORD_ID</th>\n",
       "      <th>CRASH_DATE</th>\n",
       "      <th>POSTED_SPEED_LIMIT</th>\n",
       "      <th>WEATHER_CONDITION</th>\n",
       "      <th>LIGHTING_CONDITION</th>\n",
       "      <th>FIRST_CRASH_TYPE</th>\n",
       "      <th>ALIGNMENT</th>\n",
       "      <th>ROADWAY_SURFACE_COND</th>\n",
       "      <th>ROAD_DEFECT</th>\n",
       "      <th>...</th>\n",
       "      <th>INJURIES_TOTAL</th>\n",
       "      <th>INJURIES_FATAL</th>\n",
       "      <th>CRASH_HOUR</th>\n",
       "      <th>CRASH_DAY_OF_WEEK</th>\n",
       "      <th>CRASH_MONTH</th>\n",
       "      <th>LATITUDE</th>\n",
       "      <th>LONGITUDE</th>\n",
       "      <th>LOCATION</th>\n",
       "      <th>TRAFFICWAY_TYPE</th>\n",
       "      <th>LANE_CNT</th>\n",
       "    </tr>\n",
       "  </thead>\n",
       "  <tbody>\n",
       "    <tr>\n",
       "      <th>0</th>\n",
       "      <td>0</td>\n",
       "      <td>4fd0a3e0897b3335b94cd8d5b2d2b350eb691add56c62d...</td>\n",
       "      <td>07/10/2019 05:56:00 PM</td>\n",
       "      <td>35</td>\n",
       "      <td>CLEAR</td>\n",
       "      <td>DAYLIGHT</td>\n",
       "      <td>TURNING</td>\n",
       "      <td>STRAIGHT AND LEVEL</td>\n",
       "      <td>DRY</td>\n",
       "      <td>NO DEFECTS</td>\n",
       "      <td>...</td>\n",
       "      <td>0.0</td>\n",
       "      <td>0.0</td>\n",
       "      <td>17</td>\n",
       "      <td>4</td>\n",
       "      <td>7</td>\n",
       "      <td>41.919664</td>\n",
       "      <td>-87.773288</td>\n",
       "      <td>POINT (-87.773287883007 41.919663832993)</td>\n",
       "      <td>ONE-WAY</td>\n",
       "      <td>NaN</td>\n",
       "    </tr>\n",
       "    <tr>\n",
       "      <th>1</th>\n",
       "      <td>1</td>\n",
       "      <td>009e9e67203442370272e1a13d6ee51a4155dac65e583d...</td>\n",
       "      <td>06/30/2017 04:00:00 PM</td>\n",
       "      <td>35</td>\n",
       "      <td>CLEAR</td>\n",
       "      <td>DAYLIGHT</td>\n",
       "      <td>TURNING</td>\n",
       "      <td>STRAIGHT AND LEVEL</td>\n",
       "      <td>DRY</td>\n",
       "      <td>NO DEFECTS</td>\n",
       "      <td>...</td>\n",
       "      <td>0.0</td>\n",
       "      <td>0.0</td>\n",
       "      <td>16</td>\n",
       "      <td>6</td>\n",
       "      <td>6</td>\n",
       "      <td>41.741804</td>\n",
       "      <td>-87.740954</td>\n",
       "      <td>POINT (-87.740953581987 41.741803598989)</td>\n",
       "      <td>NOT DIVIDED</td>\n",
       "      <td>4.0</td>\n",
       "    </tr>\n",
       "    <tr>\n",
       "      <th>2</th>\n",
       "      <td>2</td>\n",
       "      <td>ee9283eff3a55ac50ee58f3d9528ce1d689b1c4180b4c4...</td>\n",
       "      <td>07/10/2020 10:25:00 AM</td>\n",
       "      <td>30</td>\n",
       "      <td>CLEAR</td>\n",
       "      <td>DAYLIGHT</td>\n",
       "      <td>REAR END</td>\n",
       "      <td>STRAIGHT AND LEVEL</td>\n",
       "      <td>DRY</td>\n",
       "      <td>NO DEFECTS</td>\n",
       "      <td>...</td>\n",
       "      <td>0.0</td>\n",
       "      <td>0.0</td>\n",
       "      <td>10</td>\n",
       "      <td>6</td>\n",
       "      <td>7</td>\n",
       "      <td>41.773456</td>\n",
       "      <td>-87.585022</td>\n",
       "      <td>POINT (-87.585022352022 41.773455972008)</td>\n",
       "      <td>FOUR WAY</td>\n",
       "      <td>NaN</td>\n",
       "    </tr>\n",
       "    <tr>\n",
       "      <th>3</th>\n",
       "      <td>3</td>\n",
       "      <td>f8960f698e870ebdc60b521b2a141a5395556bc3704191...</td>\n",
       "      <td>07/11/2020 01:00:00 AM</td>\n",
       "      <td>30</td>\n",
       "      <td>CLEAR</td>\n",
       "      <td>DARKNESS</td>\n",
       "      <td>PARKED MOTOR VEHICLE</td>\n",
       "      <td>STRAIGHT AND LEVEL</td>\n",
       "      <td>DRY</td>\n",
       "      <td>NO DEFECTS</td>\n",
       "      <td>...</td>\n",
       "      <td>0.0</td>\n",
       "      <td>0.0</td>\n",
       "      <td>1</td>\n",
       "      <td>7</td>\n",
       "      <td>7</td>\n",
       "      <td>41.802119</td>\n",
       "      <td>-87.622115</td>\n",
       "      <td>POINT (-87.622114914961 41.802118543011)</td>\n",
       "      <td>DIVIDED - W/MEDIAN (NOT RAISED)</td>\n",
       "      <td>NaN</td>\n",
       "    </tr>\n",
       "    <tr>\n",
       "      <th>4</th>\n",
       "      <td>4</td>\n",
       "      <td>8eaa2678d1a127804ee9b8c35ddf7d63d913c14eda61d6...</td>\n",
       "      <td>07/08/2020 02:00:00 PM</td>\n",
       "      <td>20</td>\n",
       "      <td>CLEAR</td>\n",
       "      <td>DAYLIGHT</td>\n",
       "      <td>PARKED MOTOR VEHICLE</td>\n",
       "      <td>STRAIGHT AND LEVEL</td>\n",
       "      <td>DRY</td>\n",
       "      <td>NO DEFECTS</td>\n",
       "      <td>...</td>\n",
       "      <td>0.0</td>\n",
       "      <td>0.0</td>\n",
       "      <td>14</td>\n",
       "      <td>4</td>\n",
       "      <td>7</td>\n",
       "      <td>NaN</td>\n",
       "      <td>NaN</td>\n",
       "      <td>NaN</td>\n",
       "      <td>DRIVEWAY</td>\n",
       "      <td>NaN</td>\n",
       "    </tr>\n",
       "    <tr>\n",
       "      <th>5</th>\n",
       "      <td>5</td>\n",
       "      <td>00e47f189660cd8ba1e85fc63061bf1d8465184393f134...</td>\n",
       "      <td>03/21/2019 10:50:00 PM</td>\n",
       "      <td>30</td>\n",
       "      <td>CLEAR</td>\n",
       "      <td>DARKNESS, LIGHTED ROAD</td>\n",
       "      <td>TURNING</td>\n",
       "      <td>STRAIGHT AND LEVEL</td>\n",
       "      <td>DRY</td>\n",
       "      <td>NO DEFECTS</td>\n",
       "      <td>...</td>\n",
       "      <td>0.0</td>\n",
       "      <td>0.0</td>\n",
       "      <td>22</td>\n",
       "      <td>5</td>\n",
       "      <td>3</td>\n",
       "      <td>41.741804</td>\n",
       "      <td>-87.740954</td>\n",
       "      <td>POINT (-87.740953581987 41.741803598989)</td>\n",
       "      <td>NOT DIVIDED</td>\n",
       "      <td>4.0</td>\n",
       "    </tr>\n",
       "    <tr>\n",
       "      <th>6</th>\n",
       "      <td>6</td>\n",
       "      <td>0126747fc9ffc0edc9a38abb83d80034f897db0f739eef...</td>\n",
       "      <td>03/26/2018 02:23:00 PM</td>\n",
       "      <td>35</td>\n",
       "      <td>CLEAR</td>\n",
       "      <td>DAYLIGHT</td>\n",
       "      <td>PARKED MOTOR VEHICLE</td>\n",
       "      <td>STRAIGHT AND LEVEL</td>\n",
       "      <td>DRY</td>\n",
       "      <td>NO DEFECTS</td>\n",
       "      <td>...</td>\n",
       "      <td>0.0</td>\n",
       "      <td>0.0</td>\n",
       "      <td>14</td>\n",
       "      <td>2</td>\n",
       "      <td>3</td>\n",
       "      <td>41.953647</td>\n",
       "      <td>-87.732082</td>\n",
       "      <td>POINT (-87.732081736006 41.953646899951)</td>\n",
       "      <td>NOT DIVIDED</td>\n",
       "      <td>NaN</td>\n",
       "    </tr>\n",
       "    <tr>\n",
       "      <th>7</th>\n",
       "      <td>7</td>\n",
       "      <td>f636d4a51a88015ac89031159b1f1952b8d92e49d11aeb...</td>\n",
       "      <td>07/10/2020 10:20:00 PM</td>\n",
       "      <td>30</td>\n",
       "      <td>CLEAR</td>\n",
       "      <td>DARKNESS, LIGHTED ROAD</td>\n",
       "      <td>SIDESWIPE OPPOSITE DIRECTION</td>\n",
       "      <td>STRAIGHT AND LEVEL</td>\n",
       "      <td>DRY</td>\n",
       "      <td>NO DEFECTS</td>\n",
       "      <td>...</td>\n",
       "      <td>1.0</td>\n",
       "      <td>0.0</td>\n",
       "      <td>22</td>\n",
       "      <td>6</td>\n",
       "      <td>7</td>\n",
       "      <td>41.880386</td>\n",
       "      <td>-87.725807</td>\n",
       "      <td>POINT (-87.725807044026 41.880385884998)</td>\n",
       "      <td>NOT DIVIDED</td>\n",
       "      <td>NaN</td>\n",
       "    </tr>\n",
       "    <tr>\n",
       "      <th>8</th>\n",
       "      <td>8</td>\n",
       "      <td>76aabcf7c2219a5c90259c96fe94b33834ddb53e0dbcd3...</td>\n",
       "      <td>07/09/2020 05:06:00 PM</td>\n",
       "      <td>10</td>\n",
       "      <td>CLEAR</td>\n",
       "      <td>DAYLIGHT</td>\n",
       "      <td>PARKED MOTOR VEHICLE</td>\n",
       "      <td>STRAIGHT AND LEVEL</td>\n",
       "      <td>UNKNOWN</td>\n",
       "      <td>UNKNOWN</td>\n",
       "      <td>...</td>\n",
       "      <td>0.0</td>\n",
       "      <td>0.0</td>\n",
       "      <td>17</td>\n",
       "      <td>5</td>\n",
       "      <td>7</td>\n",
       "      <td>NaN</td>\n",
       "      <td>NaN</td>\n",
       "      <td>NaN</td>\n",
       "      <td>PARKING LOT</td>\n",
       "      <td>NaN</td>\n",
       "    </tr>\n",
       "    <tr>\n",
       "      <th>9</th>\n",
       "      <td>9</td>\n",
       "      <td>9c974548026c1b962569040bd8fa08ae643ffc28c15ebd...</td>\n",
       "      <td>06/29/2020 05:55:00 PM</td>\n",
       "      <td>10</td>\n",
       "      <td>CLOUDY/OVERCAST</td>\n",
       "      <td>DAWN</td>\n",
       "      <td>PARKED MOTOR VEHICLE</td>\n",
       "      <td>STRAIGHT AND LEVEL</td>\n",
       "      <td>DRY</td>\n",
       "      <td>NO DEFECTS</td>\n",
       "      <td>...</td>\n",
       "      <td>0.0</td>\n",
       "      <td>0.0</td>\n",
       "      <td>17</td>\n",
       "      <td>2</td>\n",
       "      <td>6</td>\n",
       "      <td>NaN</td>\n",
       "      <td>NaN</td>\n",
       "      <td>NaN</td>\n",
       "      <td>PARKING LOT</td>\n",
       "      <td>NaN</td>\n",
       "    </tr>\n",
       "  </tbody>\n",
       "</table>\n",
       "<p>10 rows × 27 columns</p>\n",
       "</div>"
      ],
      "text/plain": [
       "   Unnamed: 0                                    CRASH_RECORD_ID  \\\n",
       "0           0  4fd0a3e0897b3335b94cd8d5b2d2b350eb691add56c62d...   \n",
       "1           1  009e9e67203442370272e1a13d6ee51a4155dac65e583d...   \n",
       "2           2  ee9283eff3a55ac50ee58f3d9528ce1d689b1c4180b4c4...   \n",
       "3           3  f8960f698e870ebdc60b521b2a141a5395556bc3704191...   \n",
       "4           4  8eaa2678d1a127804ee9b8c35ddf7d63d913c14eda61d6...   \n",
       "5           5  00e47f189660cd8ba1e85fc63061bf1d8465184393f134...   \n",
       "6           6  0126747fc9ffc0edc9a38abb83d80034f897db0f739eef...   \n",
       "7           7  f636d4a51a88015ac89031159b1f1952b8d92e49d11aeb...   \n",
       "8           8  76aabcf7c2219a5c90259c96fe94b33834ddb53e0dbcd3...   \n",
       "9           9  9c974548026c1b962569040bd8fa08ae643ffc28c15ebd...   \n",
       "\n",
       "               CRASH_DATE  POSTED_SPEED_LIMIT WEATHER_CONDITION  \\\n",
       "0  07/10/2019 05:56:00 PM                  35             CLEAR   \n",
       "1  06/30/2017 04:00:00 PM                  35             CLEAR   \n",
       "2  07/10/2020 10:25:00 AM                  30             CLEAR   \n",
       "3  07/11/2020 01:00:00 AM                  30             CLEAR   \n",
       "4  07/08/2020 02:00:00 PM                  20             CLEAR   \n",
       "5  03/21/2019 10:50:00 PM                  30             CLEAR   \n",
       "6  03/26/2018 02:23:00 PM                  35             CLEAR   \n",
       "7  07/10/2020 10:20:00 PM                  30             CLEAR   \n",
       "8  07/09/2020 05:06:00 PM                  10             CLEAR   \n",
       "9  06/29/2020 05:55:00 PM                  10   CLOUDY/OVERCAST   \n",
       "\n",
       "       LIGHTING_CONDITION              FIRST_CRASH_TYPE           ALIGNMENT  \\\n",
       "0                DAYLIGHT                       TURNING  STRAIGHT AND LEVEL   \n",
       "1                DAYLIGHT                       TURNING  STRAIGHT AND LEVEL   \n",
       "2                DAYLIGHT                      REAR END  STRAIGHT AND LEVEL   \n",
       "3                DARKNESS          PARKED MOTOR VEHICLE  STRAIGHT AND LEVEL   \n",
       "4                DAYLIGHT          PARKED MOTOR VEHICLE  STRAIGHT AND LEVEL   \n",
       "5  DARKNESS, LIGHTED ROAD                       TURNING  STRAIGHT AND LEVEL   \n",
       "6                DAYLIGHT          PARKED MOTOR VEHICLE  STRAIGHT AND LEVEL   \n",
       "7  DARKNESS, LIGHTED ROAD  SIDESWIPE OPPOSITE DIRECTION  STRAIGHT AND LEVEL   \n",
       "8                DAYLIGHT          PARKED MOTOR VEHICLE  STRAIGHT AND LEVEL   \n",
       "9                    DAWN          PARKED MOTOR VEHICLE  STRAIGHT AND LEVEL   \n",
       "\n",
       "  ROADWAY_SURFACE_COND ROAD_DEFECT  ... INJURIES_TOTAL INJURIES_FATAL  \\\n",
       "0                  DRY  NO DEFECTS  ...            0.0            0.0   \n",
       "1                  DRY  NO DEFECTS  ...            0.0            0.0   \n",
       "2                  DRY  NO DEFECTS  ...            0.0            0.0   \n",
       "3                  DRY  NO DEFECTS  ...            0.0            0.0   \n",
       "4                  DRY  NO DEFECTS  ...            0.0            0.0   \n",
       "5                  DRY  NO DEFECTS  ...            0.0            0.0   \n",
       "6                  DRY  NO DEFECTS  ...            0.0            0.0   \n",
       "7                  DRY  NO DEFECTS  ...            1.0            0.0   \n",
       "8              UNKNOWN     UNKNOWN  ...            0.0            0.0   \n",
       "9                  DRY  NO DEFECTS  ...            0.0            0.0   \n",
       "\n",
       "  CRASH_HOUR CRASH_DAY_OF_WEEK CRASH_MONTH   LATITUDE  LONGITUDE  \\\n",
       "0         17                 4           7  41.919664 -87.773288   \n",
       "1         16                 6           6  41.741804 -87.740954   \n",
       "2         10                 6           7  41.773456 -87.585022   \n",
       "3          1                 7           7  41.802119 -87.622115   \n",
       "4         14                 4           7        NaN        NaN   \n",
       "5         22                 5           3  41.741804 -87.740954   \n",
       "6         14                 2           3  41.953647 -87.732082   \n",
       "7         22                 6           7  41.880386 -87.725807   \n",
       "8         17                 5           7        NaN        NaN   \n",
       "9         17                 2           6        NaN        NaN   \n",
       "\n",
       "                                   LOCATION                  TRAFFICWAY_TYPE  \\\n",
       "0  POINT (-87.773287883007 41.919663832993)                          ONE-WAY   \n",
       "1  POINT (-87.740953581987 41.741803598989)                      NOT DIVIDED   \n",
       "2  POINT (-87.585022352022 41.773455972008)                         FOUR WAY   \n",
       "3  POINT (-87.622114914961 41.802118543011)  DIVIDED - W/MEDIAN (NOT RAISED)   \n",
       "4                                       NaN                         DRIVEWAY   \n",
       "5  POINT (-87.740953581987 41.741803598989)                      NOT DIVIDED   \n",
       "6  POINT (-87.732081736006 41.953646899951)                      NOT DIVIDED   \n",
       "7  POINT (-87.725807044026 41.880385884998)                      NOT DIVIDED   \n",
       "8                                       NaN                      PARKING LOT   \n",
       "9                                       NaN                      PARKING LOT   \n",
       "\n",
       "   LANE_CNT  \n",
       "0       NaN  \n",
       "1       4.0  \n",
       "2       NaN  \n",
       "3       NaN  \n",
       "4       NaN  \n",
       "5       4.0  \n",
       "6       NaN  \n",
       "7       NaN  \n",
       "8       NaN  \n",
       "9       NaN  \n",
       "\n",
       "[10 rows x 27 columns]"
      ]
     },
     "execution_count": 10,
     "metadata": {},
     "output_type": "execute_result"
    }
   ],
   "source": [
    "clean_crash.head(10)"
   ]
  },
  {
   "cell_type": "code",
   "execution_count": 11,
   "id": "f31823b3",
   "metadata": {},
   "outputs": [
    {
     "data": {
      "text/html": [
       "<div>\n",
       "<style scoped>\n",
       "    .dataframe tbody tr th:only-of-type {\n",
       "        vertical-align: middle;\n",
       "    }\n",
       "\n",
       "    .dataframe tbody tr th {\n",
       "        vertical-align: top;\n",
       "    }\n",
       "\n",
       "    .dataframe thead th {\n",
       "        text-align: right;\n",
       "    }\n",
       "</style>\n",
       "<table border=\"1\" class=\"dataframe\">\n",
       "  <thead>\n",
       "    <tr style=\"text-align: right;\">\n",
       "      <th></th>\n",
       "      <th>Unnamed: 0</th>\n",
       "      <th>CRASH_UNIT_ID</th>\n",
       "      <th>CRASH_RECORD_ID</th>\n",
       "      <th>CRASH_DATE</th>\n",
       "      <th>MAKE</th>\n",
       "      <th>MODEL</th>\n",
       "      <th>VEHICLE_TYPE</th>\n",
       "      <th>VEHICLE_DEFECT</th>\n",
       "      <th>TRAVEL_DIRECTION</th>\n",
       "      <th>MANEUVER</th>\n",
       "      <th>FIRST_CONTACT_POINT</th>\n",
       "      <th>FIRE_I</th>\n",
       "    </tr>\n",
       "  </thead>\n",
       "  <tbody>\n",
       "    <tr>\n",
       "      <th>0</th>\n",
       "      <td>0</td>\n",
       "      <td>829999</td>\n",
       "      <td>24ddf9fd8542199d832e1c223cc474e5601b356f1d77a6...</td>\n",
       "      <td>01/22/2020 06:25:00 AM</td>\n",
       "      <td>INFINITI</td>\n",
       "      <td>UNKNOWN</td>\n",
       "      <td>PASSENGER</td>\n",
       "      <td>NONE</td>\n",
       "      <td>N</td>\n",
       "      <td>STRAIGHT AHEAD</td>\n",
       "      <td>FRONT</td>\n",
       "      <td>N</td>\n",
       "    </tr>\n",
       "    <tr>\n",
       "      <th>1</th>\n",
       "      <td>1</td>\n",
       "      <td>749947</td>\n",
       "      <td>81dc0de2ed92aa62baccab641fa377be7feb1cc47e6554...</td>\n",
       "      <td>09/28/2019 03:30:00 AM</td>\n",
       "      <td>HONDA</td>\n",
       "      <td>CIVIC</td>\n",
       "      <td>PASSENGER</td>\n",
       "      <td>UNKNOWN</td>\n",
       "      <td>N</td>\n",
       "      <td>STRAIGHT AHEAD</td>\n",
       "      <td>FRONT</td>\n",
       "      <td>N</td>\n",
       "    </tr>\n",
       "    <tr>\n",
       "      <th>2</th>\n",
       "      <td>2</td>\n",
       "      <td>749949</td>\n",
       "      <td>81dc0de2ed92aa62baccab641fa377be7feb1cc47e6554...</td>\n",
       "      <td>09/28/2019 03:30:00 AM</td>\n",
       "      <td>TOYOTA</td>\n",
       "      <td>YARIS</td>\n",
       "      <td>UNKNOWN/NA</td>\n",
       "      <td>NONE</td>\n",
       "      <td>N</td>\n",
       "      <td>PARKED</td>\n",
       "      <td>ROOF</td>\n",
       "      <td>N</td>\n",
       "    </tr>\n",
       "    <tr>\n",
       "      <th>3</th>\n",
       "      <td>3</td>\n",
       "      <td>749950</td>\n",
       "      <td>81dc0de2ed92aa62baccab641fa377be7feb1cc47e6554...</td>\n",
       "      <td>09/28/2019 03:30:00 AM</td>\n",
       "      <td>GENERAL MOTORS CORPORATION (GMC)</td>\n",
       "      <td>SIERRA</td>\n",
       "      <td>UNKNOWN/NA</td>\n",
       "      <td>UNKNOWN</td>\n",
       "      <td>N</td>\n",
       "      <td>PARKED</td>\n",
       "      <td>ROOF</td>\n",
       "      <td>N</td>\n",
       "    </tr>\n",
       "    <tr>\n",
       "      <th>4</th>\n",
       "      <td>4</td>\n",
       "      <td>871921</td>\n",
       "      <td>af84fb5c8d996fcd3aefd36593c3a02e6e7509eeb27568...</td>\n",
       "      <td>04/13/2020 10:50:00 PM</td>\n",
       "      <td>BUICK</td>\n",
       "      <td>ENCORE</td>\n",
       "      <td>PASSENGER</td>\n",
       "      <td>NONE</td>\n",
       "      <td>W</td>\n",
       "      <td>STRAIGHT AHEAD</td>\n",
       "      <td>FRONT-RIGHT</td>\n",
       "      <td>N</td>\n",
       "    </tr>\n",
       "    <tr>\n",
       "      <th>5</th>\n",
       "      <td>5</td>\n",
       "      <td>473653</td>\n",
       "      <td>80f5b6eff349a72094c9c7a11745549caa8bd39b57cedd...</td>\n",
       "      <td>09/09/2018 08:50:00 AM</td>\n",
       "      <td>LINCOLN-CONTINENTAL</td>\n",
       "      <td>MKT</td>\n",
       "      <td>PASSENGER</td>\n",
       "      <td>NONE</td>\n",
       "      <td>S</td>\n",
       "      <td>PARKED</td>\n",
       "      <td>FRONT-LEFT</td>\n",
       "      <td>N</td>\n",
       "    </tr>\n",
       "    <tr>\n",
       "      <th>6</th>\n",
       "      <td>6</td>\n",
       "      <td>834812</td>\n",
       "      <td>ecf9e646f89a73ed3df0f373e4fbd18e91f5a595004019...</td>\n",
       "      <td>02/03/2020 03:45:00 PM</td>\n",
       "      <td>HONDA</td>\n",
       "      <td>CRV</td>\n",
       "      <td>PASSENGER</td>\n",
       "      <td>NONE</td>\n",
       "      <td>W</td>\n",
       "      <td>STRAIGHT AHEAD</td>\n",
       "      <td>OTHER</td>\n",
       "      <td>N</td>\n",
       "    </tr>\n",
       "    <tr>\n",
       "      <th>7</th>\n",
       "      <td>7</td>\n",
       "      <td>834813</td>\n",
       "      <td>ecf9e646f89a73ed3df0f373e4fbd18e91f5a595004019...</td>\n",
       "      <td>02/03/2020 03:45:00 PM</td>\n",
       "      <td>SUBARU</td>\n",
       "      <td>FORESTER</td>\n",
       "      <td>PASSENGER</td>\n",
       "      <td>NONE</td>\n",
       "      <td>S</td>\n",
       "      <td>STRAIGHT AHEAD</td>\n",
       "      <td>ROOF</td>\n",
       "      <td>N</td>\n",
       "    </tr>\n",
       "    <tr>\n",
       "      <th>8</th>\n",
       "      <td>8</td>\n",
       "      <td>837380</td>\n",
       "      <td>c7c57a49274b3aa953d0b76346f68e116ed8c3d72a683a...</td>\n",
       "      <td>02/06/2020 12:00:00 AM</td>\n",
       "      <td>UNKNOWN</td>\n",
       "      <td>UNKNOWN</td>\n",
       "      <td>UNKNOWN/NA</td>\n",
       "      <td>UNKNOWN</td>\n",
       "      <td>UNKNOWN</td>\n",
       "      <td>UNKNOWN/NA</td>\n",
       "      <td>UNKNOWN</td>\n",
       "      <td>N</td>\n",
       "    </tr>\n",
       "    <tr>\n",
       "      <th>9</th>\n",
       "      <td>9</td>\n",
       "      <td>837381</td>\n",
       "      <td>c7c57a49274b3aa953d0b76346f68e116ed8c3d72a683a...</td>\n",
       "      <td>02/06/2020 12:00:00 AM</td>\n",
       "      <td>INFINITI</td>\n",
       "      <td>UNKNOWN</td>\n",
       "      <td>PASSENGER</td>\n",
       "      <td>UNKNOWN</td>\n",
       "      <td>UNKNOWN</td>\n",
       "      <td>PARKED</td>\n",
       "      <td>TOTAL (ALL AREAS)</td>\n",
       "      <td>N</td>\n",
       "    </tr>\n",
       "  </tbody>\n",
       "</table>\n",
       "</div>"
      ],
      "text/plain": [
       "   Unnamed: 0  CRASH_UNIT_ID  \\\n",
       "0           0         829999   \n",
       "1           1         749947   \n",
       "2           2         749949   \n",
       "3           3         749950   \n",
       "4           4         871921   \n",
       "5           5         473653   \n",
       "6           6         834812   \n",
       "7           7         834813   \n",
       "8           8         837380   \n",
       "9           9         837381   \n",
       "\n",
       "                                     CRASH_RECORD_ID              CRASH_DATE  \\\n",
       "0  24ddf9fd8542199d832e1c223cc474e5601b356f1d77a6...  01/22/2020 06:25:00 AM   \n",
       "1  81dc0de2ed92aa62baccab641fa377be7feb1cc47e6554...  09/28/2019 03:30:00 AM   \n",
       "2  81dc0de2ed92aa62baccab641fa377be7feb1cc47e6554...  09/28/2019 03:30:00 AM   \n",
       "3  81dc0de2ed92aa62baccab641fa377be7feb1cc47e6554...  09/28/2019 03:30:00 AM   \n",
       "4  af84fb5c8d996fcd3aefd36593c3a02e6e7509eeb27568...  04/13/2020 10:50:00 PM   \n",
       "5  80f5b6eff349a72094c9c7a11745549caa8bd39b57cedd...  09/09/2018 08:50:00 AM   \n",
       "6  ecf9e646f89a73ed3df0f373e4fbd18e91f5a595004019...  02/03/2020 03:45:00 PM   \n",
       "7  ecf9e646f89a73ed3df0f373e4fbd18e91f5a595004019...  02/03/2020 03:45:00 PM   \n",
       "8  c7c57a49274b3aa953d0b76346f68e116ed8c3d72a683a...  02/06/2020 12:00:00 AM   \n",
       "9  c7c57a49274b3aa953d0b76346f68e116ed8c3d72a683a...  02/06/2020 12:00:00 AM   \n",
       "\n",
       "                               MAKE     MODEL VEHICLE_TYPE VEHICLE_DEFECT  \\\n",
       "0                          INFINITI   UNKNOWN    PASSENGER           NONE   \n",
       "1                             HONDA     CIVIC    PASSENGER        UNKNOWN   \n",
       "2                            TOYOTA     YARIS   UNKNOWN/NA           NONE   \n",
       "3  GENERAL MOTORS CORPORATION (GMC)    SIERRA   UNKNOWN/NA        UNKNOWN   \n",
       "4                             BUICK    ENCORE    PASSENGER           NONE   \n",
       "5               LINCOLN-CONTINENTAL       MKT    PASSENGER           NONE   \n",
       "6                             HONDA       CRV    PASSENGER           NONE   \n",
       "7                            SUBARU  FORESTER    PASSENGER           NONE   \n",
       "8                           UNKNOWN   UNKNOWN   UNKNOWN/NA        UNKNOWN   \n",
       "9                          INFINITI   UNKNOWN    PASSENGER        UNKNOWN   \n",
       "\n",
       "  TRAVEL_DIRECTION        MANEUVER FIRST_CONTACT_POINT FIRE_I  \n",
       "0                N  STRAIGHT AHEAD               FRONT      N  \n",
       "1                N  STRAIGHT AHEAD               FRONT      N  \n",
       "2                N          PARKED                ROOF      N  \n",
       "3                N          PARKED                ROOF      N  \n",
       "4                W  STRAIGHT AHEAD         FRONT-RIGHT      N  \n",
       "5                S          PARKED          FRONT-LEFT      N  \n",
       "6                W  STRAIGHT AHEAD               OTHER      N  \n",
       "7                S  STRAIGHT AHEAD                ROOF      N  \n",
       "8          UNKNOWN      UNKNOWN/NA             UNKNOWN      N  \n",
       "9          UNKNOWN          PARKED   TOTAL (ALL AREAS)      N  "
      ]
     },
     "execution_count": 11,
     "metadata": {},
     "output_type": "execute_result"
    }
   ],
   "source": [
    "clean_vehicles.head(10)"
   ]
  },
  {
   "cell_type": "code",
   "execution_count": 12,
   "id": "a893fe7c",
   "metadata": {},
   "outputs": [
    {
     "data": {
      "text/plain": [
       "(1142379, 16)"
      ]
     },
     "execution_count": 12,
     "metadata": {},
     "output_type": "execute_result"
    }
   ],
   "source": [
    "clean_people.shape"
   ]
  },
  {
   "cell_type": "code",
   "execution_count": 13,
   "id": "7b0b9d59",
   "metadata": {},
   "outputs": [
    {
     "data": {
      "text/plain": [
       "(1057474, 12)"
      ]
     },
     "execution_count": 13,
     "metadata": {},
     "output_type": "execute_result"
    }
   ],
   "source": [
    "clean_vehicles.shape"
   ]
  },
  {
   "cell_type": "code",
   "execution_count": 14,
   "id": "fda606bf",
   "metadata": {},
   "outputs": [
    {
     "data": {
      "text/plain": [
       "(517282, 27)"
      ]
     },
     "execution_count": 14,
     "metadata": {},
     "output_type": "execute_result"
    }
   ],
   "source": [
    "clean_crash.shape"
   ]
  },
  {
   "cell_type": "code",
   "execution_count": 15,
   "id": "556b54d3",
   "metadata": {},
   "outputs": [],
   "source": [
    "mergeddf=clean_people.merge(clean_vehicles,on='CRASH_RECORD_ID').merge(clean_crash,on='CRASH_RECORD_ID')"
   ]
  },
  {
   "cell_type": "code",
   "execution_count": 16,
   "id": "5ed81df1",
   "metadata": {},
   "outputs": [
    {
     "data": {
      "text/html": [
       "<div>\n",
       "<style scoped>\n",
       "    .dataframe tbody tr th:only-of-type {\n",
       "        vertical-align: middle;\n",
       "    }\n",
       "\n",
       "    .dataframe tbody tr th {\n",
       "        vertical-align: top;\n",
       "    }\n",
       "\n",
       "    .dataframe thead th {\n",
       "        text-align: right;\n",
       "    }\n",
       "</style>\n",
       "<table border=\"1\" class=\"dataframe\">\n",
       "  <thead>\n",
       "    <tr style=\"text-align: right;\">\n",
       "      <th></th>\n",
       "      <th>Unnamed: 0_x</th>\n",
       "      <th>AGE</th>\n",
       "      <th>BAC_RESULT VALUE</th>\n",
       "      <th>Unnamed: 0_y</th>\n",
       "      <th>CRASH_UNIT_ID</th>\n",
       "      <th>Unnamed: 0</th>\n",
       "      <th>POSTED_SPEED_LIMIT</th>\n",
       "      <th>CRASH_HOUR</th>\n",
       "      <th>CRASH_DAY_OF_WEEK</th>\n",
       "      <th>CRASH_MONTH</th>\n",
       "      <th>LATITUDE</th>\n",
       "      <th>LONGITUDE</th>\n",
       "      <th>LANE_CNT</th>\n",
       "    </tr>\n",
       "  </thead>\n",
       "  <tbody>\n",
       "    <tr>\n",
       "      <th>count</th>\n",
       "      <td>2.412776e+06</td>\n",
       "      <td>1.727995e+06</td>\n",
       "      <td>2.412776e+06</td>\n",
       "      <td>2.412776e+06</td>\n",
       "      <td>2.412776e+06</td>\n",
       "      <td>2.412776e+06</td>\n",
       "      <td>2.412776e+06</td>\n",
       "      <td>2.412776e+06</td>\n",
       "      <td>2.412776e+06</td>\n",
       "      <td>2.412776e+06</td>\n",
       "      <td>2.399324e+06</td>\n",
       "      <td>2.399324e+06</td>\n",
       "      <td>9.296760e+05</td>\n",
       "    </tr>\n",
       "    <tr>\n",
       "      <th>mean</th>\n",
       "      <td>5.702466e+05</td>\n",
       "      <td>3.773590e+01</td>\n",
       "      <td>2.414066e-04</td>\n",
       "      <td>5.250276e+05</td>\n",
       "      <td>5.676385e+05</td>\n",
       "      <td>2.542429e+05</td>\n",
       "      <td>2.886386e+01</td>\n",
       "      <td>1.350763e+01</td>\n",
       "      <td>4.148680e+00</td>\n",
       "      <td>6.590377e+00</td>\n",
       "      <td>4.185222e+01</td>\n",
       "      <td>-8.766854e+01</td>\n",
       "      <td>9.349354e+00</td>\n",
       "    </tr>\n",
       "    <tr>\n",
       "      <th>std</th>\n",
       "      <td>3.327499e+05</td>\n",
       "      <td>1.710756e+01</td>\n",
       "      <td>7.356951e-03</td>\n",
       "      <td>3.068851e+05</td>\n",
       "      <td>3.259501e+05</td>\n",
       "      <td>1.514699e+05</td>\n",
       "      <td>5.905738e+00</td>\n",
       "      <td>5.394394e+00</td>\n",
       "      <td>1.988100e+00</td>\n",
       "      <td>3.423331e+00</td>\n",
       "      <td>4.496020e-01</td>\n",
       "      <td>9.267125e-01</td>\n",
       "      <td>2.110810e+03</td>\n",
       "    </tr>\n",
       "    <tr>\n",
       "      <th>min</th>\n",
       "      <td>0.000000e+00</td>\n",
       "      <td>-1.770000e+02</td>\n",
       "      <td>0.000000e+00</td>\n",
       "      <td>0.000000e+00</td>\n",
       "      <td>2.000000e+00</td>\n",
       "      <td>0.000000e+00</td>\n",
       "      <td>0.000000e+00</td>\n",
       "      <td>0.000000e+00</td>\n",
       "      <td>1.000000e+00</td>\n",
       "      <td>1.000000e+00</td>\n",
       "      <td>0.000000e+00</td>\n",
       "      <td>-8.793476e+01</td>\n",
       "      <td>0.000000e+00</td>\n",
       "    </tr>\n",
       "    <tr>\n",
       "      <th>25%</th>\n",
       "      <td>2.797910e+05</td>\n",
       "      <td>2.500000e+01</td>\n",
       "      <td>0.000000e+00</td>\n",
       "      <td>2.577478e+05</td>\n",
       "      <td>2.850108e+05</td>\n",
       "      <td>1.219690e+05</td>\n",
       "      <td>3.000000e+01</td>\n",
       "      <td>1.000000e+01</td>\n",
       "      <td>2.000000e+00</td>\n",
       "      <td>4.000000e+00</td>\n",
       "      <td>4.178215e+01</td>\n",
       "      <td>-8.772162e+01</td>\n",
       "      <td>2.000000e+00</td>\n",
       "    </tr>\n",
       "    <tr>\n",
       "      <th>50%</th>\n",
       "      <td>5.696345e+05</td>\n",
       "      <td>3.500000e+01</td>\n",
       "      <td>0.000000e+00</td>\n",
       "      <td>5.244035e+05</td>\n",
       "      <td>5.697720e+05</td>\n",
       "      <td>2.540475e+05</td>\n",
       "      <td>3.000000e+01</td>\n",
       "      <td>1.400000e+01</td>\n",
       "      <td>4.000000e+00</td>\n",
       "      <td>7.000000e+00</td>\n",
       "      <td>4.187489e+01</td>\n",
       "      <td>-8.767357e+01</td>\n",
       "      <td>2.000000e+00</td>\n",
       "    </tr>\n",
       "    <tr>\n",
       "      <th>75%</th>\n",
       "      <td>8.599260e+05</td>\n",
       "      <td>5.000000e+01</td>\n",
       "      <td>0.000000e+00</td>\n",
       "      <td>7.905772e+05</td>\n",
       "      <td>8.496552e+05</td>\n",
       "      <td>3.854432e+05</td>\n",
       "      <td>3.000000e+01</td>\n",
       "      <td>1.700000e+01</td>\n",
       "      <td>6.000000e+00</td>\n",
       "      <td>1.000000e+01</td>\n",
       "      <td>4.192198e+01</td>\n",
       "      <td>-8.763256e+01</td>\n",
       "      <td>4.000000e+00</td>\n",
       "    </tr>\n",
       "    <tr>\n",
       "      <th>max</th>\n",
       "      <td>1.142962e+06</td>\n",
       "      <td>1.100000e+02</td>\n",
       "      <td>1.000000e+00</td>\n",
       "      <td>1.057473e+06</td>\n",
       "      <td>1.129364e+06</td>\n",
       "      <td>5.172810e+05</td>\n",
       "      <td>9.900000e+01</td>\n",
       "      <td>2.300000e+01</td>\n",
       "      <td>7.000000e+00</td>\n",
       "      <td>1.200000e+01</td>\n",
       "      <td>4.202278e+01</td>\n",
       "      <td>0.000000e+00</td>\n",
       "      <td>1.191625e+06</td>\n",
       "    </tr>\n",
       "  </tbody>\n",
       "</table>\n",
       "</div>"
      ],
      "text/plain": [
       "       Unnamed: 0_x           AGE  BAC_RESULT VALUE  Unnamed: 0_y  \\\n",
       "count  2.412776e+06  1.727995e+06      2.412776e+06  2.412776e+06   \n",
       "mean   5.702466e+05  3.773590e+01      2.414066e-04  5.250276e+05   \n",
       "std    3.327499e+05  1.710756e+01      7.356951e-03  3.068851e+05   \n",
       "min    0.000000e+00 -1.770000e+02      0.000000e+00  0.000000e+00   \n",
       "25%    2.797910e+05  2.500000e+01      0.000000e+00  2.577478e+05   \n",
       "50%    5.696345e+05  3.500000e+01      0.000000e+00  5.244035e+05   \n",
       "75%    8.599260e+05  5.000000e+01      0.000000e+00  7.905772e+05   \n",
       "max    1.142962e+06  1.100000e+02      1.000000e+00  1.057473e+06   \n",
       "\n",
       "       CRASH_UNIT_ID    Unnamed: 0  POSTED_SPEED_LIMIT    CRASH_HOUR  \\\n",
       "count   2.412776e+06  2.412776e+06        2.412776e+06  2.412776e+06   \n",
       "mean    5.676385e+05  2.542429e+05        2.886386e+01  1.350763e+01   \n",
       "std     3.259501e+05  1.514699e+05        5.905738e+00  5.394394e+00   \n",
       "min     2.000000e+00  0.000000e+00        0.000000e+00  0.000000e+00   \n",
       "25%     2.850108e+05  1.219690e+05        3.000000e+01  1.000000e+01   \n",
       "50%     5.697720e+05  2.540475e+05        3.000000e+01  1.400000e+01   \n",
       "75%     8.496552e+05  3.854432e+05        3.000000e+01  1.700000e+01   \n",
       "max     1.129364e+06  5.172810e+05        9.900000e+01  2.300000e+01   \n",
       "\n",
       "       CRASH_DAY_OF_WEEK   CRASH_MONTH      LATITUDE     LONGITUDE  \\\n",
       "count       2.412776e+06  2.412776e+06  2.399324e+06  2.399324e+06   \n",
       "mean        4.148680e+00  6.590377e+00  4.185222e+01 -8.766854e+01   \n",
       "std         1.988100e+00  3.423331e+00  4.496020e-01  9.267125e-01   \n",
       "min         1.000000e+00  1.000000e+00  0.000000e+00 -8.793476e+01   \n",
       "25%         2.000000e+00  4.000000e+00  4.178215e+01 -8.772162e+01   \n",
       "50%         4.000000e+00  7.000000e+00  4.187489e+01 -8.767357e+01   \n",
       "75%         6.000000e+00  1.000000e+01  4.192198e+01 -8.763256e+01   \n",
       "max         7.000000e+00  1.200000e+01  4.202278e+01  0.000000e+00   \n",
       "\n",
       "           LANE_CNT  \n",
       "count  9.296760e+05  \n",
       "mean   9.349354e+00  \n",
       "std    2.110810e+03  \n",
       "min    0.000000e+00  \n",
       "25%    2.000000e+00  \n",
       "50%    2.000000e+00  \n",
       "75%    4.000000e+00  \n",
       "max    1.191625e+06  "
      ]
     },
     "execution_count": 16,
     "metadata": {},
     "output_type": "execute_result"
    }
   ],
   "source": [
    "mergeddf.describe()"
   ]
  },
  {
   "cell_type": "code",
   "execution_count": 17,
   "id": "3031341a",
   "metadata": {},
   "outputs": [
    {
     "name": "stdout",
     "output_type": "stream",
     "text": [
      "<class 'pandas.core.frame.DataFrame'>\n",
      "Int64Index: 2412776 entries, 0 to 2412775\n",
      "Data columns (total 53 columns):\n",
      " #   Column                   Dtype  \n",
      "---  ------                   -----  \n",
      " 0   Unnamed: 0_x             int64  \n",
      " 1   PERSON_ID                object \n",
      " 2   PERSON_TYPE              object \n",
      " 3   CRASH_RECORD_ID          object \n",
      " 4   VEHICLE_ID               object \n",
      " 5   CRASH_DATE_x             object \n",
      " 6   SEX                      object \n",
      " 7   AGE                      float64\n",
      " 8   EJECTION                 object \n",
      " 9   INJURY_CLASSIFICATION    object \n",
      " 10  AIRBAG_DEPLOYED          object \n",
      " 11  DRIVER_ACTION            object \n",
      " 12  PEDPEDAL_ACTION          object \n",
      " 13  PHYSICAL_CONDITION       object \n",
      " 14  BAC_RESULT VALUE         float64\n",
      " 15  SAFETY_EQUIPMENT         object \n",
      " 16  Unnamed: 0_y             int64  \n",
      " 17  CRASH_UNIT_ID            int64  \n",
      " 18  CRASH_DATE_y             object \n",
      " 19  MAKE                     object \n",
      " 20  MODEL                    object \n",
      " 21  VEHICLE_TYPE             object \n",
      " 22  VEHICLE_DEFECT           object \n",
      " 23  TRAVEL_DIRECTION         object \n",
      " 24  MANEUVER                 object \n",
      " 25  FIRST_CONTACT_POINT      object \n",
      " 26  FIRE_I                   object \n",
      " 27  Unnamed: 0               int64  \n",
      " 28  CRASH_DATE               object \n",
      " 29  POSTED_SPEED_LIMIT       int64  \n",
      " 30  WEATHER_CONDITION        object \n",
      " 31  LIGHTING_CONDITION       object \n",
      " 32  FIRST_CRASH_TYPE         object \n",
      " 33  ALIGNMENT                object \n",
      " 34  ROADWAY_SURFACE_COND     object \n",
      " 35  ROAD_DEFECT              object \n",
      " 36  CRASH_TYPE               object \n",
      " 37  PRIM_CONTRIBUTORY_CAUSE  object \n",
      " 38  SEC_CONTRIBUTORY_CAUSE   object \n",
      " 39  STREET_DIRECTION         object \n",
      " 40  BEAT_OF_OCCURRENCE       object \n",
      " 41  WORK_ZONE_I              object \n",
      " 42  MOST_SEVERE_INJURY       object \n",
      " 43  INJURIES_TOTAL           object \n",
      " 44  INJURIES_FATAL           object \n",
      " 45  CRASH_HOUR               int64  \n",
      " 46  CRASH_DAY_OF_WEEK        int64  \n",
      " 47  CRASH_MONTH              int64  \n",
      " 48  LATITUDE                 float64\n",
      " 49  LONGITUDE                float64\n",
      " 50  LOCATION                 object \n",
      " 51  TRAFFICWAY_TYPE          object \n",
      " 52  LANE_CNT                 float64\n",
      "dtypes: float64(5), int64(8), object(40)\n",
      "memory usage: 994.0+ MB\n"
     ]
    }
   ],
   "source": [
    "mergeddf.info()"
   ]
  },
  {
   "cell_type": "code",
   "execution_count": 18,
   "id": "79a2e7ce",
   "metadata": {},
   "outputs": [
    {
     "data": {
      "text/plain": [
       "(2412776, 53)"
      ]
     },
     "execution_count": 18,
     "metadata": {},
     "output_type": "execute_result"
    }
   ],
   "source": [
    "mergeddf.shape"
   ]
  },
  {
   "cell_type": "code",
   "execution_count": 19,
   "id": "eef0cb78",
   "metadata": {},
   "outputs": [
    {
     "data": {
      "text/plain": [
       "NO INDICATION OF INJURY     1975459\n",
       "NONINCAPACITATING INJURY     239348\n",
       "REPORTED, NOT EVIDENT        136521\n",
       "INCAPACITATING INJURY         57052\n",
       "FATAL                          4396\n",
       "Name: MOST_SEVERE_INJURY, dtype: int64"
      ]
     },
     "execution_count": 19,
     "metadata": {},
     "output_type": "execute_result"
    }
   ],
   "source": [
    "mergeddf['MOST_SEVERE_INJURY'].value_counts()\n"
   ]
  },
  {
   "cell_type": "code",
   "execution_count": 20,
   "id": "14327c75",
   "metadata": {},
   "outputs": [
    {
     "data": {
      "text/plain": [
       "0.0    2408380\n",
       "1.0       3991\n",
       "2.0        297\n",
       "3.0         68\n",
       "4.0         40\n",
       "Name: INJURIES_FATAL, dtype: int64"
      ]
     },
     "execution_count": 20,
     "metadata": {},
     "output_type": "execute_result"
    }
   ],
   "source": [
    "mergeddf['INJURIES_FATAL'].value_counts()"
   ]
  },
  {
   "cell_type": "code",
   "execution_count": 21,
   "id": "a15ad96c",
   "metadata": {},
   "outputs": [],
   "source": [
    "mergeddf[\"FATAL\"]= pd.to_numeric(mergeddf[\"INJURIES_FATAL\"])\n"
   ]
  },
  {
   "cell_type": "code",
   "execution_count": 22,
   "id": "129d78e7",
   "metadata": {},
   "outputs": [
    {
     "data": {
      "text/plain": [
       "0.0    2408380\n",
       "1.0       3991\n",
       "2.0        297\n",
       "3.0         68\n",
       "4.0         40\n",
       "Name: FATAL, dtype: int64"
      ]
     },
     "execution_count": 22,
     "metadata": {},
     "output_type": "execute_result"
    }
   ],
   "source": [
    "mergeddf['FATAL'].value_counts()\n",
    "\n"
   ]
  },
  {
   "cell_type": "code",
   "execution_count": 23,
   "id": "0950035c",
   "metadata": {},
   "outputs": [
    {
     "data": {
      "text/plain": [
       "Unnamed: 0_x                     0\n",
       "PERSON_ID                        0\n",
       "PERSON_TYPE                      0\n",
       "CRASH_RECORD_ID                  0\n",
       "VEHICLE_ID                       0\n",
       "CRASH_DATE_x                     0\n",
       "SEX                              0\n",
       "AGE                         684781\n",
       "EJECTION                         0\n",
       "INJURY_CLASSIFICATION            0\n",
       "AIRBAG_DEPLOYED                  0\n",
       "DRIVER_ACTION               501731\n",
       "PEDPEDAL_ACTION                  0\n",
       "PHYSICAL_CONDITION               0\n",
       "BAC_RESULT VALUE                 0\n",
       "SAFETY_EQUIPMENT                 0\n",
       "Unnamed: 0_y                     0\n",
       "CRASH_UNIT_ID                    0\n",
       "CRASH_DATE_y                     0\n",
       "MAKE                             0\n",
       "MODEL                            0\n",
       "VEHICLE_TYPE                     0\n",
       "VEHICLE_DEFECT                   0\n",
       "TRAVEL_DIRECTION                 0\n",
       "MANEUVER                         0\n",
       "FIRST_CONTACT_POINT              0\n",
       "FIRE_I                           0\n",
       "Unnamed: 0                       0\n",
       "CRASH_DATE                       0\n",
       "POSTED_SPEED_LIMIT               0\n",
       "WEATHER_CONDITION                0\n",
       "LIGHTING_CONDITION               0\n",
       "FIRST_CRASH_TYPE                 0\n",
       "ALIGNMENT                        0\n",
       "ROADWAY_SURFACE_COND             0\n",
       "ROAD_DEFECT                      0\n",
       "CRASH_TYPE                       0\n",
       "PRIM_CONTRIBUTORY_CAUSE          0\n",
       "SEC_CONTRIBUTORY_CAUSE           0\n",
       "STREET_DIRECTION                10\n",
       "BEAT_OF_OCCURRENCE               0\n",
       "WORK_ZONE_I                      0\n",
       "MOST_SEVERE_INJURY               0\n",
       "INJURIES_TOTAL                   0\n",
       "INJURIES_FATAL                   0\n",
       "CRASH_HOUR                       0\n",
       "CRASH_DAY_OF_WEEK                0\n",
       "CRASH_MONTH                      0\n",
       "LATITUDE                     13452\n",
       "LONGITUDE                    13452\n",
       "LOCATION                     13452\n",
       "TRAFFICWAY_TYPE                  0\n",
       "LANE_CNT                   1483100\n",
       "FATAL                            0\n",
       "dtype: int64"
      ]
     },
     "execution_count": 23,
     "metadata": {},
     "output_type": "execute_result"
    }
   ],
   "source": [
    "mergeddf.isnull().sum()"
   ]
  },
  {
   "cell_type": "code",
   "execution_count": 24,
   "id": "775fe259",
   "metadata": {},
   "outputs": [
    {
     "name": "stderr",
     "output_type": "stream",
     "text": [
      "/var/folders/nt/rg8_jkq90v77r8l8dc_9wl0m0000gn/T/ipykernel_14717/2906185067.py:1: SettingWithCopyWarning: \n",
      "A value is trying to be set on a copy of a slice from a DataFrame\n",
      "\n",
      "See the caveats in the documentation: https://pandas.pydata.org/pandas-docs/stable/user_guide/indexing.html#returning-a-view-versus-a-copy\n",
      "  mergeddf.FATAL[mergeddf.FATAL > 0] = 1\n",
      "/var/folders/nt/rg8_jkq90v77r8l8dc_9wl0m0000gn/T/ipykernel_14717/2906185067.py:2: SettingWithCopyWarning: \n",
      "A value is trying to be set on a copy of a slice from a DataFrame\n",
      "\n",
      "See the caveats in the documentation: https://pandas.pydata.org/pandas-docs/stable/user_guide/indexing.html#returning-a-view-versus-a-copy\n",
      "  mergeddf.FATAL[mergeddf.FATAL == 0] = 0\n"
     ]
    }
   ],
   "source": [
    "mergeddf.FATAL[mergeddf.FATAL > 0] = 1\n",
    "mergeddf.FATAL[mergeddf.FATAL == 0] = 0"
   ]
  },
  {
   "cell_type": "code",
   "execution_count": 25,
   "id": "f98d880a",
   "metadata": {},
   "outputs": [
    {
     "data": {
      "text/plain": [
       "0.0    2408380\n",
       "1.0       4396\n",
       "Name: FATAL, dtype: int64"
      ]
     },
     "execution_count": 25,
     "metadata": {},
     "output_type": "execute_result"
    }
   ],
   "source": [
    "mergeddf.FATAL.value_counts()\n",
    "\n"
   ]
  },
  {
   "cell_type": "code",
   "execution_count": 26,
   "id": "847414cb",
   "metadata": {},
   "outputs": [],
   "source": [
    "model_data =mergeddf.drop(columns=['Unnamed: 0_x','Unnamed: 0','CRASH_DATE_x','CRASH_DATE_y','CRASH_DATE_y','Unnamed: 0_y','PERSON_ID','CRASH_RECORD_ID', 'VEHICLE_ID','CRASH_DATE','INJURIES_FATAL','LATITUDE', 'LONGITUDE', 'LOCATION','MOST_SEVERE_INJURY','INJURY_CLASSIFICATION'])\n"
   ]
  },
  {
   "cell_type": "code",
   "execution_count": 107,
   "id": "0510443e",
   "metadata": {},
   "outputs": [],
   "source": [
    "ten_samp = model_data[['EJECTION','AIRBAG_DEPLOYED',\n",
    "       'SAFETY_EQUIPMENT',\n",
    "       'MODEL','FIRST_CONTACT_POINT','INJURIES_TOTAL','SEX','AGE','CRASH_HOUR','CRASH_MONTH']]\n"
   ]
  },
  {
   "cell_type": "code",
   "execution_count": 28,
   "id": "8e37b6a4",
   "metadata": {},
   "outputs": [
    {
     "data": {
      "text/plain": [
       "Index(['PERSON_TYPE', 'SEX', 'AGE', 'EJECTION', 'AIRBAG_DEPLOYED',\n",
       "       'DRIVER_ACTION', 'PEDPEDAL_ACTION', 'PHYSICAL_CONDITION',\n",
       "       'BAC_RESULT VALUE', 'SAFETY_EQUIPMENT', 'CRASH_UNIT_ID', 'MAKE',\n",
       "       'MODEL', 'VEHICLE_TYPE', 'VEHICLE_DEFECT', 'TRAVEL_DIRECTION',\n",
       "       'MANEUVER', 'FIRST_CONTACT_POINT', 'FIRE_I', 'POSTED_SPEED_LIMIT',\n",
       "       'WEATHER_CONDITION', 'LIGHTING_CONDITION', 'FIRST_CRASH_TYPE',\n",
       "       'ALIGNMENT', 'ROADWAY_SURFACE_COND', 'ROAD_DEFECT', 'CRASH_TYPE',\n",
       "       'PRIM_CONTRIBUTORY_CAUSE', 'SEC_CONTRIBUTORY_CAUSE', 'STREET_DIRECTION',\n",
       "       'BEAT_OF_OCCURRENCE', 'WORK_ZONE_I', 'INJURIES_TOTAL', 'CRASH_HOUR',\n",
       "       'CRASH_DAY_OF_WEEK', 'CRASH_MONTH', 'TRAFFICWAY_TYPE', 'LANE_CNT',\n",
       "       'FATAL'],\n",
       "      dtype='object')"
      ]
     },
     "execution_count": 28,
     "metadata": {},
     "output_type": "execute_result"
    }
   ],
   "source": [
    "model_data.columns"
   ]
  },
  {
   "cell_type": "code",
   "execution_count": 29,
   "id": "9e5e9f30",
   "metadata": {},
   "outputs": [
    {
     "name": "stderr",
     "output_type": "stream",
     "text": [
      "/var/folders/nt/rg8_jkq90v77r8l8dc_9wl0m0000gn/T/ipykernel_14717/2086929565.py:2: SettingWithCopyWarning: \n",
      "A value is trying to be set on a copy of a slice from a DataFrame\n",
      "\n",
      "See the caveats in the documentation: https://pandas.pydata.org/pandas-docs/stable/user_guide/indexing.html#returning-a-view-versus-a-copy\n",
      "  model_data.INJURIES_TOTAL[model_data.INJURIES_TOTAL > 0] = 1\n",
      "/var/folders/nt/rg8_jkq90v77r8l8dc_9wl0m0000gn/T/ipykernel_14717/2086929565.py:3: SettingWithCopyWarning: \n",
      "A value is trying to be set on a copy of a slice from a DataFrame\n",
      "\n",
      "See the caveats in the documentation: https://pandas.pydata.org/pandas-docs/stable/user_guide/indexing.html#returning-a-view-versus-a-copy\n",
      "  model_data.INJURIES_TOTAL[model_data.INJURIES_TOTAL == 0] = 0\n"
     ]
    }
   ],
   "source": [
    "model_data['INJURIES_TOTAL'] = pd.to_numeric(model_data['INJURIES_TOTAL'])\n",
    "model_data.INJURIES_TOTAL[model_data.INJURIES_TOTAL > 0] = 1\n",
    "model_data.INJURIES_TOTAL[model_data.INJURIES_TOTAL == 0] = 0\n"
   ]
  },
  {
   "cell_type": "code",
   "execution_count": 30,
   "id": "4c4adaf5",
   "metadata": {},
   "outputs": [
    {
     "data": {
      "text/plain": [
       "(2412776, 39)"
      ]
     },
     "execution_count": 30,
     "metadata": {},
     "output_type": "execute_result"
    }
   ],
   "source": [
    "model_data.shape"
   ]
  },
  {
   "cell_type": "code",
   "execution_count": 31,
   "id": "34727646",
   "metadata": {},
   "outputs": [
    {
     "data": {
      "text/plain": [
       "0.0    1975459\n",
       "1.0     437317\n",
       "Name: INJURIES_TOTAL, dtype: int64"
      ]
     },
     "execution_count": 31,
     "metadata": {},
     "output_type": "execute_result"
    }
   ],
   "source": [
    "model_data['INJURIES_TOTAL'].value_counts()"
   ]
  },
  {
   "cell_type": "code",
   "execution_count": 32,
   "id": "5089d6af",
   "metadata": {},
   "outputs": [],
   "source": [
    "injured_df = model_data[model_data['INJURIES_TOTAL']>0]\n",
    "non_injured_df = model_data[model_data['INJURIES_TOTAL']==0]\n",
    "fata_sub = model_data[model_data['FATAL']>0]"
   ]
  },
  {
   "cell_type": "code",
   "execution_count": 33,
   "id": "178c05a3",
   "metadata": {},
   "outputs": [
    {
     "data": {
      "text/plain": [
       "<AxesSubplot:>"
      ]
     },
     "execution_count": 33,
     "metadata": {},
     "output_type": "execute_result"
    },
    {
     "data": {
      "image/png": "[encoded data removed]",
      "text/plain": [
       "<Figure size 432x288 with 1 Axes>"
      ]
     },
     "metadata": {
      "needs_background": "light"
     },
     "output_type": "display_data"
    }
   ],
   "source": [
    "model_data[\"BEAT_OF_OCCURRENCE\"].value_counts().sort_values().plot(kind = 'bar')"
   ]
  },
  {
   "cell_type": "code",
   "execution_count": 34,
   "id": "c1ab92ed",
   "metadata": {},
   "outputs": [
    {
     "data": {
      "text/plain": [
       "<AxesSubplot:>"
      ]
     },
     "execution_count": 34,
     "metadata": {},
     "output_type": "execute_result"
    },
    {
     "data": {
      "image/png": "[encoded data removed]",
      "text/plain": [
       "<Figure size 432x288 with 1 Axes>"
      ]
     },
     "metadata": {
      "needs_background": "light"
     },
     "output_type": "display_data"
    }
   ],
   "source": [
    "model_data[\"CRASH_MONTH\"].value_counts().sort_values().plot(kind = 'bar')"
   ]
  },
  {
   "cell_type": "code",
   "execution_count": 35,
   "id": "4ef4fefa",
   "metadata": {},
   "outputs": [
    {
     "data": {
      "text/plain": [
       "<AxesSubplot:title={'center':'Time When Most Crash Occur in 24 Hrs'}, xlabel='Hour of Day', ylabel='Counts'>"
      ]
     },
     "execution_count": 35,
     "metadata": {},
     "output_type": "execute_result"
    },
    {
     "data": {
      "image/png": "[encoded data removed]",
      "text/plain": [
       "<Figure size 432x288 with 1 Axes>"
      ]
     },
     "metadata": {
      "needs_background": "light"
     },
     "output_type": "display_data"
    }
   ],
   "source": [
    "model_data['CRASH_HOUR'].value_counts().sort_values().plot(kind = 'bar',title = 'Time When Most Crash Occur in 24 Hrs',xlabel = \"Hour of Day\", ylabel = \"Counts\")"
   ]
  },
  {
   "cell_type": "code",
   "execution_count": 36,
   "id": "90b64c25",
   "metadata": {},
   "outputs": [
    {
     "data": {
      "text/plain": [
       "CLEAR                       1929834\n",
       "RAIN                         222811\n",
       "SNOW                          88970\n",
       "UNKNOWN                       76338\n",
       "CLOUDY/OVERCAST               75660\n",
       "OTHER                          7434\n",
       "FOG/SMOKE/HAZE                 3995\n",
       "SLEET/HAIL                     3428\n",
       "FREEZING RAIN/DRIZZLE          3163\n",
       "BLOWING SNOW                    730\n",
       "SEVERE CROSS WIND GATE          405\n",
       "BLOWING SAND, SOIL, DIRT          8\n",
       "Name: WEATHER_CONDITION, dtype: int64"
      ]
     },
     "execution_count": 36,
     "metadata": {},
     "output_type": "execute_result"
    }
   ],
   "source": [
    "model_data['WEATHER_CONDITION'].value_counts()"
   ]
  },
  {
   "cell_type": "code",
   "execution_count": 37,
   "id": "e7439868",
   "metadata": {},
   "outputs": [
    {
     "data": {
      "text/plain": [
       "<AxesSubplot:title={'center':'Common Crash Month'}, xlabel='Month by Number', ylabel='Crash Count'>"
      ]
     },
     "execution_count": 37,
     "metadata": {},
     "output_type": "execute_result"
    },
    {
     "data": {
      "image/png": "[encoded data removed]",
      "text/plain": [
       "<Figure size 432x288 with 1 Axes>"
      ]
     },
     "metadata": {
      "needs_background": "light"
     },
     "output_type": "display_data"
    }
   ],
   "source": [
    "injured_df[\"CRASH_MONTH\"].value_counts().sort_values().plot(kind = 'bar',title = 'Common Crash Month',xlabel= 'Month by Number', ylabel = 'Crash Count')"
   ]
  },
  {
   "cell_type": "code",
   "execution_count": 38,
   "id": "171b248b",
   "metadata": {},
   "outputs": [
    {
     "data": {
      "text/plain": [
       "<AxesSubplot:ylabel='Density'>"
      ]
     },
     "execution_count": 38,
     "metadata": {},
     "output_type": "execute_result"
    },
    {
     "data": {
      "image/png": "[encoded data removed]",
      "text/plain": [
       "<Figure size 432x288 with 1 Axes>"
      ]
     },
     "metadata": {
      "needs_background": "light"
     },
     "output_type": "display_data"
    }
   ],
   "source": [
    "model_data[\"AGE\"].plot(kind = 'density',xlim = (0,100))"
   ]
  },
  {
   "cell_type": "code",
   "execution_count": 39,
   "id": "add68a91",
   "metadata": {},
   "outputs": [
    {
     "data": {
      "text/plain": [
       "16    33361\n",
       "17    32523\n",
       "15    32345\n",
       "18    28586\n",
       "14    28340\n",
       "13    26106\n",
       "12    22921\n",
       "19    22663\n",
       "11    20640\n",
       "8     19609\n",
       "20    18192\n",
       "21    17632\n",
       "10    17416\n",
       "9     17149\n",
       "22    16981\n",
       "7     16511\n",
       "23    13477\n",
       "0     11359\n",
       "6      9174\n",
       "1      8530\n",
       "2      7668\n",
       "3      5661\n",
       "5      5520\n",
       "4      4953\n",
       "Name: CRASH_HOUR, dtype: int64"
      ]
     },
     "execution_count": 39,
     "metadata": {},
     "output_type": "execute_result"
    }
   ],
   "source": [
    "injured_df[\"CRASH_HOUR\"].value_counts()"
   ]
  },
  {
   "cell_type": "code",
   "execution_count": 40,
   "id": "07a22059",
   "metadata": {},
   "outputs": [
    {
     "data": {
      "text/plain": [
       "CLEAR                     350984\n",
       "RAIN                       46642\n",
       "CLOUDY/OVERCAST            15092\n",
       "SNOW                       14564\n",
       "UNKNOWN                     5600\n",
       "OTHER                       1768\n",
       "FREEZING RAIN/DRIZZLE        852\n",
       "FOG/SMOKE/HAZE               806\n",
       "SLEET/HAIL                   749\n",
       "BLOWING SNOW                 159\n",
       "SEVERE CROSS WIND GATE       101\n",
       "Name: WEATHER_CONDITION, dtype: int64"
      ]
     },
     "execution_count": 40,
     "metadata": {},
     "output_type": "execute_result"
    }
   ],
   "source": [
    "injured_df['WEATHER_CONDITION'].value_counts()"
   ]
  },
  {
   "cell_type": "code",
   "execution_count": 42,
   "id": "cba5133c",
   "metadata": {},
   "outputs": [
    {
     "data": {
      "text/plain": [
       "5     845\n",
       "7     462\n",
       "6     452\n",
       "11    368\n",
       "10    357\n",
       "3     343\n",
       "8     334\n",
       "9     287\n",
       "4     276\n",
       "1     274\n",
       "12    252\n",
       "2     146\n",
       "Name: CRASH_MONTH, dtype: int64"
      ]
     },
     "execution_count": 42,
     "metadata": {},
     "output_type": "execute_result"
    }
   ],
   "source": [
    "fata_sub['CRASH_MONTH'].value_counts()"
   ]
  },
  {
   "cell_type": "code",
   "execution_count": 43,
   "id": "9648e446",
   "metadata": {},
   "outputs": [
    {
     "data": {
      "text/plain": [
       "0     560\n",
       "23    392\n",
       "21    320\n",
       "22    221\n",
       "1     219\n",
       "16    213\n",
       "13    196\n",
       "12    196\n",
       "20    195\n",
       "19    189\n",
       "2     187\n",
       "10    173\n",
       "3     162\n",
       "18    162\n",
       "4     146\n",
       "17    142\n",
       "15    123\n",
       "11    117\n",
       "9     113\n",
       "7      92\n",
       "14     89\n",
       "5      81\n",
       "8      78\n",
       "6      30\n",
       "Name: CRASH_HOUR, dtype: int64"
      ]
     },
     "execution_count": 43,
     "metadata": {},
     "output_type": "execute_result"
    }
   ],
   "source": [
    "fata_sub['CRASH_HOUR'].value_counts()"
   ]
  },
  {
   "cell_type": "code",
   "execution_count": 44,
   "id": "b160387b",
   "metadata": {},
   "outputs": [
    {
     "data": {
      "text/plain": [
       "CLEAR              3813\n",
       "RAIN                352\n",
       "CLOUDY/OVERCAST      90\n",
       "SNOW                 65\n",
       "UNKNOWN              64\n",
       "FOG/SMOKE/HAZE        8\n",
       "OTHER                 4\n",
       "Name: WEATHER_CONDITION, dtype: int64"
      ]
     },
     "execution_count": 44,
     "metadata": {},
     "output_type": "execute_result"
    }
   ],
   "source": [
    "fata_sub[\"WEATHER_CONDITION\"].value_counts()"
   ]
  },
  {
   "cell_type": "code",
   "execution_count": 45,
   "id": "0348f126",
   "metadata": {},
   "outputs": [
    {
     "data": {
      "text/plain": [
       "USAGE UNKNOWN                                 2098\n",
       "SAFETY BELT USED                              1258\n",
       "NONE PRESENT                                   427\n",
       "NONE                                           244\n",
       "SAFETY BELT NOT USED                           196\n",
       "HELMET NOT USED                                 64\n",
       "DOT COMPLIANT MOTORCYCLE HELMET                 42\n",
       "HELMET USED                                     16\n",
       "CHILD RESTRAINT USED                            10\n",
       "CHILD RESTRAINT - REAR FACING                    9\n",
       "WHEELCHAIR                                       8\n",
       "CHILD RESTRAINT - FORWARD FACING                 8\n",
       "CHILD RESTRAINT NOT USED                         8\n",
       "BICYCLE HELMET (PEDACYCLIST INVOLVED ONLY)       4\n",
       "CHILD RESTRAINT - TYPE UNKNOWN                   2\n",
       "NOT DOT COMPLIANT MOTORCYCLE HELMET              2\n",
       "Name: SAFETY_EQUIPMENT, dtype: int64"
      ]
     },
     "execution_count": 45,
     "metadata": {},
     "output_type": "execute_result"
    }
   ],
   "source": [
    "fata_sub[\"SAFETY_EQUIPMENT\"].value_counts()"
   ]
  },
  {
   "cell_type": "code",
   "execution_count": 46,
   "id": "f45cfbaa",
   "metadata": {},
   "outputs": [
    {
     "data": {
      "text/html": [
       "<div>\n",
       "<style scoped>\n",
       "    .dataframe tbody tr th:only-of-type {\n",
       "        vertical-align: middle;\n",
       "    }\n",
       "\n",
       "    .dataframe tbody tr th {\n",
       "        vertical-align: top;\n",
       "    }\n",
       "\n",
       "    .dataframe thead th {\n",
       "        text-align: right;\n",
       "    }\n",
       "</style>\n",
       "<table border=\"1\" class=\"dataframe\">\n",
       "  <thead>\n",
       "    <tr style=\"text-align: right;\">\n",
       "      <th></th>\n",
       "      <th>PERSON_TYPE</th>\n",
       "      <th>SEX</th>\n",
       "      <th>AGE</th>\n",
       "      <th>EJECTION</th>\n",
       "      <th>AIRBAG_DEPLOYED</th>\n",
       "      <th>DRIVER_ACTION</th>\n",
       "      <th>PEDPEDAL_ACTION</th>\n",
       "      <th>PHYSICAL_CONDITION</th>\n",
       "      <th>BAC_RESULT VALUE</th>\n",
       "      <th>SAFETY_EQUIPMENT</th>\n",
       "      <th>...</th>\n",
       "      <th>STREET_DIRECTION</th>\n",
       "      <th>BEAT_OF_OCCURRENCE</th>\n",
       "      <th>WORK_ZONE_I</th>\n",
       "      <th>INJURIES_TOTAL</th>\n",
       "      <th>CRASH_HOUR</th>\n",
       "      <th>CRASH_DAY_OF_WEEK</th>\n",
       "      <th>CRASH_MONTH</th>\n",
       "      <th>TRAFFICWAY_TYPE</th>\n",
       "      <th>LANE_CNT</th>\n",
       "      <th>FATAL</th>\n",
       "    </tr>\n",
       "  </thead>\n",
       "  <tbody>\n",
       "    <tr>\n",
       "      <th>0</th>\n",
       "      <td>DRIVER</td>\n",
       "      <td>M</td>\n",
       "      <td>25.0</td>\n",
       "      <td>NONE</td>\n",
       "      <td>DEPLOYMENT UNKNOWN</td>\n",
       "      <td>UNKNOWN</td>\n",
       "      <td>UNKNOWN/NA</td>\n",
       "      <td>UNKNOWN</td>\n",
       "      <td>0.0</td>\n",
       "      <td>NONE PRESENT</td>\n",
       "      <td>...</td>\n",
       "      <td>N</td>\n",
       "      <td>1531.0</td>\n",
       "      <td>N</td>\n",
       "      <td>0.0</td>\n",
       "      <td>3</td>\n",
       "      <td>7</td>\n",
       "      <td>9</td>\n",
       "      <td>NOT DIVIDED</td>\n",
       "      <td>NaN</td>\n",
       "      <td>0.0</td>\n",
       "    </tr>\n",
       "    <tr>\n",
       "      <th>1</th>\n",
       "      <td>DRIVER</td>\n",
       "      <td>M</td>\n",
       "      <td>25.0</td>\n",
       "      <td>NONE</td>\n",
       "      <td>DEPLOYMENT UNKNOWN</td>\n",
       "      <td>UNKNOWN</td>\n",
       "      <td>UNKNOWN/NA</td>\n",
       "      <td>UNKNOWN</td>\n",
       "      <td>0.0</td>\n",
       "      <td>NONE PRESENT</td>\n",
       "      <td>...</td>\n",
       "      <td>N</td>\n",
       "      <td>1531.0</td>\n",
       "      <td>N</td>\n",
       "      <td>0.0</td>\n",
       "      <td>3</td>\n",
       "      <td>7</td>\n",
       "      <td>9</td>\n",
       "      <td>NOT DIVIDED</td>\n",
       "      <td>NaN</td>\n",
       "      <td>0.0</td>\n",
       "    </tr>\n",
       "    <tr>\n",
       "      <th>2</th>\n",
       "      <td>DRIVER</td>\n",
       "      <td>M</td>\n",
       "      <td>25.0</td>\n",
       "      <td>NONE</td>\n",
       "      <td>DEPLOYMENT UNKNOWN</td>\n",
       "      <td>UNKNOWN</td>\n",
       "      <td>UNKNOWN/NA</td>\n",
       "      <td>UNKNOWN</td>\n",
       "      <td>0.0</td>\n",
       "      <td>NONE PRESENT</td>\n",
       "      <td>...</td>\n",
       "      <td>N</td>\n",
       "      <td>1531.0</td>\n",
       "      <td>N</td>\n",
       "      <td>0.0</td>\n",
       "      <td>3</td>\n",
       "      <td>7</td>\n",
       "      <td>9</td>\n",
       "      <td>NOT DIVIDED</td>\n",
       "      <td>NaN</td>\n",
       "      <td>0.0</td>\n",
       "    </tr>\n",
       "    <tr>\n",
       "      <th>3</th>\n",
       "      <td>DRIVER</td>\n",
       "      <td>M</td>\n",
       "      <td>37.0</td>\n",
       "      <td>NONE</td>\n",
       "      <td>DID NOT DEPLOY</td>\n",
       "      <td>NONE</td>\n",
       "      <td>UNKNOWN/NA</td>\n",
       "      <td>NORMAL</td>\n",
       "      <td>0.0</td>\n",
       "      <td>SAFETY BELT USED</td>\n",
       "      <td>...</td>\n",
       "      <td>W</td>\n",
       "      <td>613.0</td>\n",
       "      <td>N</td>\n",
       "      <td>0.0</td>\n",
       "      <td>22</td>\n",
       "      <td>2</td>\n",
       "      <td>4</td>\n",
       "      <td>DIVIDED - W/MEDIAN (NOT RAISED)</td>\n",
       "      <td>NaN</td>\n",
       "      <td>0.0</td>\n",
       "    </tr>\n",
       "    <tr>\n",
       "      <th>4</th>\n",
       "      <td>DRIVER</td>\n",
       "      <td>M</td>\n",
       "      <td>37.0</td>\n",
       "      <td>NONE</td>\n",
       "      <td>DID NOT DEPLOY</td>\n",
       "      <td>NONE</td>\n",
       "      <td>UNKNOWN/NA</td>\n",
       "      <td>NORMAL</td>\n",
       "      <td>0.0</td>\n",
       "      <td>SAFETY BELT USED</td>\n",
       "      <td>...</td>\n",
       "      <td>W</td>\n",
       "      <td>613.0</td>\n",
       "      <td>N</td>\n",
       "      <td>0.0</td>\n",
       "      <td>22</td>\n",
       "      <td>2</td>\n",
       "      <td>4</td>\n",
       "      <td>DIVIDED - W/MEDIAN (NOT RAISED)</td>\n",
       "      <td>NaN</td>\n",
       "      <td>0.0</td>\n",
       "    </tr>\n",
       "    <tr>\n",
       "      <th>...</th>\n",
       "      <td>...</td>\n",
       "      <td>...</td>\n",
       "      <td>...</td>\n",
       "      <td>...</td>\n",
       "      <td>...</td>\n",
       "      <td>...</td>\n",
       "      <td>...</td>\n",
       "      <td>...</td>\n",
       "      <td>...</td>\n",
       "      <td>...</td>\n",
       "      <td>...</td>\n",
       "      <td>...</td>\n",
       "      <td>...</td>\n",
       "      <td>...</td>\n",
       "      <td>...</td>\n",
       "      <td>...</td>\n",
       "      <td>...</td>\n",
       "      <td>...</td>\n",
       "      <td>...</td>\n",
       "      <td>...</td>\n",
       "      <td>...</td>\n",
       "    </tr>\n",
       "    <tr>\n",
       "      <th>2412771</th>\n",
       "      <td>DRIVER</td>\n",
       "      <td>F</td>\n",
       "      <td>74.0</td>\n",
       "      <td>NONE</td>\n",
       "      <td>DID NOT DEPLOY</td>\n",
       "      <td>UNKNOWN</td>\n",
       "      <td>UNKNOWN/NA</td>\n",
       "      <td>UNKNOWN</td>\n",
       "      <td>0.0</td>\n",
       "      <td>USAGE UNKNOWN</td>\n",
       "      <td>...</td>\n",
       "      <td>N</td>\n",
       "      <td>1422.0</td>\n",
       "      <td>N</td>\n",
       "      <td>0.0</td>\n",
       "      <td>16</td>\n",
       "      <td>2</td>\n",
       "      <td>6</td>\n",
       "      <td>DIVIDED - W/MEDIAN (NOT RAISED)</td>\n",
       "      <td>NaN</td>\n",
       "      <td>0.0</td>\n",
       "    </tr>\n",
       "    <tr>\n",
       "      <th>2412772</th>\n",
       "      <td>DRIVER</td>\n",
       "      <td>M</td>\n",
       "      <td>NaN</td>\n",
       "      <td>NONE</td>\n",
       "      <td>DEPLOYMENT UNKNOWN</td>\n",
       "      <td>UNKNOWN</td>\n",
       "      <td>UNKNOWN/NA</td>\n",
       "      <td>UNKNOWN</td>\n",
       "      <td>0.0</td>\n",
       "      <td>USAGE UNKNOWN</td>\n",
       "      <td>...</td>\n",
       "      <td>W</td>\n",
       "      <td>1732.0</td>\n",
       "      <td>N</td>\n",
       "      <td>0.0</td>\n",
       "      <td>13</td>\n",
       "      <td>2</td>\n",
       "      <td>6</td>\n",
       "      <td>PARKING LOT</td>\n",
       "      <td>NaN</td>\n",
       "      <td>0.0</td>\n",
       "    </tr>\n",
       "    <tr>\n",
       "      <th>2412773</th>\n",
       "      <td>DRIVER</td>\n",
       "      <td>M</td>\n",
       "      <td>NaN</td>\n",
       "      <td>NONE</td>\n",
       "      <td>DEPLOYMENT UNKNOWN</td>\n",
       "      <td>UNKNOWN</td>\n",
       "      <td>UNKNOWN/NA</td>\n",
       "      <td>UNKNOWN</td>\n",
       "      <td>0.0</td>\n",
       "      <td>USAGE UNKNOWN</td>\n",
       "      <td>...</td>\n",
       "      <td>W</td>\n",
       "      <td>1732.0</td>\n",
       "      <td>N</td>\n",
       "      <td>0.0</td>\n",
       "      <td>13</td>\n",
       "      <td>2</td>\n",
       "      <td>6</td>\n",
       "      <td>PARKING LOT</td>\n",
       "      <td>NaN</td>\n",
       "      <td>0.0</td>\n",
       "    </tr>\n",
       "    <tr>\n",
       "      <th>2412774</th>\n",
       "      <td>DRIVER</td>\n",
       "      <td>M</td>\n",
       "      <td>24.0</td>\n",
       "      <td>NONE</td>\n",
       "      <td>NOT APPLICABLE</td>\n",
       "      <td>OTHER</td>\n",
       "      <td>UNKNOWN/NA</td>\n",
       "      <td>NORMAL</td>\n",
       "      <td>0.0</td>\n",
       "      <td>SAFETY BELT USED</td>\n",
       "      <td>...</td>\n",
       "      <td>W</td>\n",
       "      <td>1732.0</td>\n",
       "      <td>N</td>\n",
       "      <td>0.0</td>\n",
       "      <td>13</td>\n",
       "      <td>2</td>\n",
       "      <td>6</td>\n",
       "      <td>PARKING LOT</td>\n",
       "      <td>NaN</td>\n",
       "      <td>0.0</td>\n",
       "    </tr>\n",
       "    <tr>\n",
       "      <th>2412775</th>\n",
       "      <td>DRIVER</td>\n",
       "      <td>M</td>\n",
       "      <td>24.0</td>\n",
       "      <td>NONE</td>\n",
       "      <td>NOT APPLICABLE</td>\n",
       "      <td>OTHER</td>\n",
       "      <td>UNKNOWN/NA</td>\n",
       "      <td>NORMAL</td>\n",
       "      <td>0.0</td>\n",
       "      <td>SAFETY BELT USED</td>\n",
       "      <td>...</td>\n",
       "      <td>W</td>\n",
       "      <td>1732.0</td>\n",
       "      <td>N</td>\n",
       "      <td>0.0</td>\n",
       "      <td>13</td>\n",
       "      <td>2</td>\n",
       "      <td>6</td>\n",
       "      <td>PARKING LOT</td>\n",
       "      <td>NaN</td>\n",
       "      <td>0.0</td>\n",
       "    </tr>\n",
       "  </tbody>\n",
       "</table>\n",
       "<p>1975459 rows × 39 columns</p>\n",
       "</div>"
      ],
      "text/plain": [
       "        PERSON_TYPE SEX   AGE EJECTION     AIRBAG_DEPLOYED DRIVER_ACTION  \\\n",
       "0            DRIVER   M  25.0     NONE  DEPLOYMENT UNKNOWN       UNKNOWN   \n",
       "1            DRIVER   M  25.0     NONE  DEPLOYMENT UNKNOWN       UNKNOWN   \n",
       "2            DRIVER   M  25.0     NONE  DEPLOYMENT UNKNOWN       UNKNOWN   \n",
       "3            DRIVER   M  37.0     NONE      DID NOT DEPLOY          NONE   \n",
       "4            DRIVER   M  37.0     NONE      DID NOT DEPLOY          NONE   \n",
       "...             ...  ..   ...      ...                 ...           ...   \n",
       "2412771      DRIVER   F  74.0     NONE      DID NOT DEPLOY       UNKNOWN   \n",
       "2412772      DRIVER   M   NaN     NONE  DEPLOYMENT UNKNOWN       UNKNOWN   \n",
       "2412773      DRIVER   M   NaN     NONE  DEPLOYMENT UNKNOWN       UNKNOWN   \n",
       "2412774      DRIVER   M  24.0     NONE      NOT APPLICABLE         OTHER   \n",
       "2412775      DRIVER   M  24.0     NONE      NOT APPLICABLE         OTHER   \n",
       "\n",
       "        PEDPEDAL_ACTION PHYSICAL_CONDITION  BAC_RESULT VALUE  \\\n",
       "0            UNKNOWN/NA            UNKNOWN               0.0   \n",
       "1            UNKNOWN/NA            UNKNOWN               0.0   \n",
       "2            UNKNOWN/NA            UNKNOWN               0.0   \n",
       "3            UNKNOWN/NA             NORMAL               0.0   \n",
       "4            UNKNOWN/NA             NORMAL               0.0   \n",
       "...                 ...                ...               ...   \n",
       "2412771      UNKNOWN/NA            UNKNOWN               0.0   \n",
       "2412772      UNKNOWN/NA            UNKNOWN               0.0   \n",
       "2412773      UNKNOWN/NA            UNKNOWN               0.0   \n",
       "2412774      UNKNOWN/NA             NORMAL               0.0   \n",
       "2412775      UNKNOWN/NA             NORMAL               0.0   \n",
       "\n",
       "         SAFETY_EQUIPMENT  ...  STREET_DIRECTION BEAT_OF_OCCURRENCE  \\\n",
       "0            NONE PRESENT  ...                 N             1531.0   \n",
       "1            NONE PRESENT  ...                 N             1531.0   \n",
       "2            NONE PRESENT  ...                 N             1531.0   \n",
       "3        SAFETY BELT USED  ...                 W              613.0   \n",
       "4        SAFETY BELT USED  ...                 W              613.0   \n",
       "...                   ...  ...               ...                ...   \n",
       "2412771     USAGE UNKNOWN  ...                 N             1422.0   \n",
       "2412772     USAGE UNKNOWN  ...                 W             1732.0   \n",
       "2412773     USAGE UNKNOWN  ...                 W             1732.0   \n",
       "2412774  SAFETY BELT USED  ...                 W             1732.0   \n",
       "2412775  SAFETY BELT USED  ...                 W             1732.0   \n",
       "\n",
       "        WORK_ZONE_I INJURIES_TOTAL CRASH_HOUR CRASH_DAY_OF_WEEK CRASH_MONTH  \\\n",
       "0                 N            0.0          3                 7           9   \n",
       "1                 N            0.0          3                 7           9   \n",
       "2                 N            0.0          3                 7           9   \n",
       "3                 N            0.0         22                 2           4   \n",
       "4                 N            0.0         22                 2           4   \n",
       "...             ...            ...        ...               ...         ...   \n",
       "2412771           N            0.0         16                 2           6   \n",
       "2412772           N            0.0         13                 2           6   \n",
       "2412773           N            0.0         13                 2           6   \n",
       "2412774           N            0.0         13                 2           6   \n",
       "2412775           N            0.0         13                 2           6   \n",
       "\n",
       "                         TRAFFICWAY_TYPE LANE_CNT  FATAL  \n",
       "0                            NOT DIVIDED      NaN    0.0  \n",
       "1                            NOT DIVIDED      NaN    0.0  \n",
       "2                            NOT DIVIDED      NaN    0.0  \n",
       "3        DIVIDED - W/MEDIAN (NOT RAISED)      NaN    0.0  \n",
       "4        DIVIDED - W/MEDIAN (NOT RAISED)      NaN    0.0  \n",
       "...                                  ...      ...    ...  \n",
       "2412771  DIVIDED - W/MEDIAN (NOT RAISED)      NaN    0.0  \n",
       "2412772                      PARKING LOT      NaN    0.0  \n",
       "2412773                      PARKING LOT      NaN    0.0  \n",
       "2412774                      PARKING LOT      NaN    0.0  \n",
       "2412775                      PARKING LOT      NaN    0.0  \n",
       "\n",
       "[1975459 rows x 39 columns]"
      ]
     },
     "execution_count": 46,
     "metadata": {},
     "output_type": "execute_result"
    }
   ],
   "source": [
    "non_injured_df"
   ]
  },
  {
   "cell_type": "code",
   "execution_count": 48,
   "id": "647597fb",
   "metadata": {},
   "outputs": [],
   "source": [
    "model_data.drop_duplicates(inplace = True)"
   ]
  },
  {
   "cell_type": "code",
   "execution_count": 47,
   "id": "c10d4f7e",
   "metadata": {},
   "outputs": [
    {
     "data": {
      "text/plain": [
       "Index(['PERSON_TYPE', 'SEX', 'AGE', 'EJECTION', 'AIRBAG_DEPLOYED',\n",
       "       'DRIVER_ACTION', 'PEDPEDAL_ACTION', 'PHYSICAL_CONDITION',\n",
       "       'BAC_RESULT VALUE', 'SAFETY_EQUIPMENT', 'CRASH_UNIT_ID', 'MAKE',\n",
       "       'MODEL', 'VEHICLE_TYPE', 'VEHICLE_DEFECT', 'TRAVEL_DIRECTION',\n",
       "       'MANEUVER', 'FIRST_CONTACT_POINT', 'FIRE_I', 'POSTED_SPEED_LIMIT',\n",
       "       'WEATHER_CONDITION', 'LIGHTING_CONDITION', 'FIRST_CRASH_TYPE',\n",
       "       'ALIGNMENT', 'ROADWAY_SURFACE_COND', 'ROAD_DEFECT', 'CRASH_TYPE',\n",
       "       'PRIM_CONTRIBUTORY_CAUSE', 'SEC_CONTRIBUTORY_CAUSE', 'STREET_DIRECTION',\n",
       "       'BEAT_OF_OCCURRENCE', 'WORK_ZONE_I', 'INJURIES_TOTAL', 'CRASH_HOUR',\n",
       "       'CRASH_DAY_OF_WEEK', 'CRASH_MONTH', 'TRAFFICWAY_TYPE', 'LANE_CNT',\n",
       "       'FATAL'],\n",
       "      dtype='object')"
      ]
     },
     "execution_count": 47,
     "metadata": {},
     "output_type": "execute_result"
    }
   ],
   "source": [
    "model_data.columns"
   ]
  },
  {
   "cell_type": "code",
   "execution_count": 49,
   "id": "6ac9d863",
   "metadata": {},
   "outputs": [
    {
     "data": {
      "text/plain": [
       "PERSON_TYPE                      0\n",
       "SEX                              0\n",
       "AGE                         639454\n",
       "EJECTION                         0\n",
       "AIRBAG_DEPLOYED                  0\n",
       "DRIVER_ACTION               454212\n",
       "PEDPEDAL_ACTION                  0\n",
       "PHYSICAL_CONDITION               0\n",
       "BAC_RESULT VALUE                 0\n",
       "SAFETY_EQUIPMENT                 0\n",
       "CRASH_UNIT_ID                    0\n",
       "MAKE                             0\n",
       "MODEL                            0\n",
       "VEHICLE_TYPE                     0\n",
       "VEHICLE_DEFECT                   0\n",
       "TRAVEL_DIRECTION                 0\n",
       "MANEUVER                         0\n",
       "FIRST_CONTACT_POINT              0\n",
       "FIRE_I                           0\n",
       "POSTED_SPEED_LIMIT               0\n",
       "WEATHER_CONDITION                0\n",
       "LIGHTING_CONDITION               0\n",
       "FIRST_CRASH_TYPE                 0\n",
       "ALIGNMENT                        0\n",
       "ROADWAY_SURFACE_COND             0\n",
       "ROAD_DEFECT                      0\n",
       "CRASH_TYPE                       0\n",
       "PRIM_CONTRIBUTORY_CAUSE          0\n",
       "SEC_CONTRIBUTORY_CAUSE           0\n",
       "STREET_DIRECTION                10\n",
       "BEAT_OF_OCCURRENCE               0\n",
       "WORK_ZONE_I                      0\n",
       "INJURIES_TOTAL                   0\n",
       "CRASH_HOUR                       0\n",
       "CRASH_DAY_OF_WEEK                0\n",
       "CRASH_MONTH                      0\n",
       "TRAFFICWAY_TYPE                  0\n",
       "LANE_CNT                   1431190\n",
       "FATAL                            0\n",
       "dtype: int64"
      ]
     },
     "execution_count": 49,
     "metadata": {},
     "output_type": "execute_result"
    }
   ],
   "source": [
    "model_data.isnull().sum()"
   ]
  },
  {
   "cell_type": "code",
   "execution_count": 50,
   "id": "555c2b60",
   "metadata": {},
   "outputs": [],
   "source": [
    "fata_group = model_data.groupby('FATAL')"
   ]
  },
  {
   "cell_type": "code",
   "execution_count": 52,
   "id": "78e6d046",
   "metadata": {},
   "outputs": [
    {
     "data": {
      "text/plain": [
       "Index(['PERSON_TYPE', 'SEX', 'AGE', 'EJECTION', 'AIRBAG_DEPLOYED',\n",
       "       'DRIVER_ACTION', 'PEDPEDAL_ACTION', 'PHYSICAL_CONDITION',\n",
       "       'BAC_RESULT VALUE', 'SAFETY_EQUIPMENT', 'CRASH_UNIT_ID', 'MAKE',\n",
       "       'MODEL', 'VEHICLE_TYPE', 'VEHICLE_DEFECT', 'TRAVEL_DIRECTION',\n",
       "       'MANEUVER', 'FIRST_CONTACT_POINT', 'FIRE_I', 'POSTED_SPEED_LIMIT',\n",
       "       'WEATHER_CONDITION', 'LIGHTING_CONDITION', 'FIRST_CRASH_TYPE',\n",
       "       'ALIGNMENT', 'ROADWAY_SURFACE_COND', 'ROAD_DEFECT', 'CRASH_TYPE',\n",
       "       'PRIM_CONTRIBUTORY_CAUSE', 'SEC_CONTRIBUTORY_CAUSE', 'STREET_DIRECTION',\n",
       "       'BEAT_OF_OCCURRENCE', 'WORK_ZONE_I', 'INJURIES_TOTAL', 'CRASH_HOUR',\n",
       "       'CRASH_DAY_OF_WEEK', 'CRASH_MONTH', 'TRAFFICWAY_TYPE', 'LANE_CNT',\n",
       "       'FATAL'],\n",
       "      dtype='object')"
      ]
     },
     "execution_count": 52,
     "metadata": {},
     "output_type": "execute_result"
    }
   ],
   "source": [
    "sample_df.columns"
   ]
  },
  {
   "cell_type": "code",
   "execution_count": 111,
   "id": "1d9fdd9a",
   "metadata": {},
   "outputs": [],
   "source": [
    "ten_rand = ten_samp.sample(n= 50000) "
   ]
  },
  {
   "cell_type": "code",
   "execution_count": 112,
   "id": "2eb8524a",
   "metadata": {},
   "outputs": [
    {
     "data": {
      "text/plain": [
       "Index(['EJECTION', 'AIRBAG_DEPLOYED', 'SAFETY_EQUIPMENT', 'MODEL',\n",
       "       'FIRST_CONTACT_POINT', 'INJURIES_TOTAL', 'SEX', 'AGE', 'CRASH_HOUR',\n",
       "       'CRASH_MONTH'],\n",
       "      dtype='object')"
      ]
     },
     "execution_count": 112,
     "metadata": {},
     "output_type": "execute_result"
    }
   ],
   "source": [
    "ten_rand.columns"
   ]
  },
  {
   "cell_type": "code",
   "execution_count": 113,
   "id": "f1da7180",
   "metadata": {},
   "outputs": [],
   "source": [
    "ten_dum = pd.get_dummies(ten_rand, columns = ['EJECTION','AIRBAG_DEPLOYED',\n",
    "       'SAFETY_EQUIPMENT',\n",
    "       'MODEL','FIRST_CONTACT_POINT','SEX','AGE','CRASH_HOUR','CRASH_MONTH'])"
   ]
  },
  {
   "cell_type": "code",
   "execution_count": 114,
   "id": "efc0a45c",
   "metadata": {},
   "outputs": [
    {
     "data": {
      "text/plain": [
       "Index(['EJECTION', 'AIRBAG_DEPLOYED', 'SAFETY_EQUIPMENT', 'MODEL',\n",
       "       'FIRST_CONTACT_POINT', 'INJURIES_TOTAL', 'SEX', 'AGE', 'CRASH_HOUR',\n",
       "       'CRASH_MONTH'],\n",
       "      dtype='object')"
      ]
     },
     "execution_count": 114,
     "metadata": {},
     "output_type": "execute_result"
    }
   ],
   "source": [
    "ten_samp.columns\n"
   ]
  },
  {
   "cell_type": "code",
   "execution_count": 115,
   "id": "60f35e05",
   "metadata": {},
   "outputs": [
    {
     "data": {
      "text/plain": [
       "Index(['EJECTION', 'AIRBAG_DEPLOYED', 'SAFETY_EQUIPMENT', 'MODEL',\n",
       "       'FIRST_CONTACT_POINT', 'INJURIES_TOTAL', 'SEX', 'AGE', 'CRASH_HOUR',\n",
       "       'CRASH_MONTH'],\n",
       "      dtype='object')"
      ]
     },
     "execution_count": 115,
     "metadata": {},
     "output_type": "execute_result"
    }
   ],
   "source": [
    "ten_rand.columns"
   ]
  },
  {
   "cell_type": "code",
   "execution_count": 96,
   "id": "df6f6de1",
   "metadata": {},
   "outputs": [
    {
     "data": {
      "text/plain": [
       "Index(['INJURIES_TOTAL', 'EJECTION_NONE', 'EJECTION_PARTIALLY EJECTED',\n",
       "       'EJECTION_TOTALLY EJECTED', 'EJECTION_TRAPPED/EXTRICATED',\n",
       "       'EJECTION_UNKNOWN',\n",
       "       'AIRBAG_DEPLOYED_DEPLOYED OTHER (KNEE, AIR, BELT, ETC.)',\n",
       "       'AIRBAG_DEPLOYED_DEPLOYED, COMBINATION',\n",
       "       'AIRBAG_DEPLOYED_DEPLOYED, FRONT', 'AIRBAG_DEPLOYED_DEPLOYED, SIDE',\n",
       "       ...\n",
       "       'CRASH_MONTH_3', 'CRASH_MONTH_4', 'CRASH_MONTH_5', 'CRASH_MONTH_6',\n",
       "       'CRASH_MONTH_7', 'CRASH_MONTH_8', 'CRASH_MONTH_9', 'CRASH_MONTH_10',\n",
       "       'CRASH_MONTH_11', 'CRASH_MONTH_12'],\n",
       "      dtype='object', length=1305)"
      ]
     },
     "execution_count": 96,
     "metadata": {},
     "output_type": "execute_result"
    }
   ],
   "source": [
    "ten_dum.columns"
   ]
  },
  {
   "cell_type": "code",
   "execution_count": 99,
   "id": "5ad19e99",
   "metadata": {},
   "outputs": [],
   "source": [
    "y = ten_dum['INJURIES_TOTAL']\n",
    "X = ten_dum.drop(columns = ['INJURIES_TOTAL'])\n",
    "X_train, X_test, y_train, y_test = train_test_split(X, y, test_size=0.20, random_state=0)\n",
    "model = LogisticRegression(n_jobs= -1)\n",
    "model.fit(X_train,y_train)\n",
    "\n",
    "samp_pred = model.predict(X_test)\n",
    "samp_score = model.score(X_test,y_test)"
   ]
  },
  {
   "cell_type": "code",
   "execution_count": 100,
   "id": "9de3a355",
   "metadata": {},
   "outputs": [
    {
     "name": "stdout",
     "output_type": "stream",
     "text": [
      "0.8451\n"
     ]
    }
   ],
   "source": [
    "print(samp_score)"
   ]
  },
  {
   "cell_type": "code",
   "execution_count": 116,
   "id": "ab18e70c",
   "metadata": {},
   "outputs": [],
   "source": [
    "y = ten_dum['INJURIES_TOTAL']\n",
    "X = ten_dum.drop(columns = ['INJURIES_TOTAL'])\n",
    "X_train,X_test,y_train,y_test = train_test_split(X,y,test_size = .2 , random_state = 0)\n",
    "regressor = RandomForestRegressor(n_estimators = 20,random_state = 0)\n",
    "regressor.fit(X_train,y_train)\n",
    "y_pred = regressor.predict(X_test)"
   ]
  },
  {
   "cell_type": "code",
   "execution_count": 117,
   "id": "a0881cc5",
   "metadata": {},
   "outputs": [
    {
     "data": {
      "text/plain": [
       "array([0.1 , 0.1 , 0.05, ..., 0.75, 0.05, 0.9 ])"
      ]
     },
     "execution_count": 117,
     "metadata": {},
     "output_type": "execute_result"
    }
   ],
   "source": []
  },
  {
   "cell_type": "code",
   "execution_count": 101,
   "id": "4d5c1f15",
   "metadata": {},
   "outputs": [
    {
     "ename": "NameError",
     "evalue": "name 'shap' is not defined",
     "output_type": "error",
     "traceback": [
      "\u001b[0;31m---------------------------------------------------------------------------\u001b[0m",
      "\u001b[0;31mNameError\u001b[0m                                 Traceback (most recent call last)",
      "\u001b[0;32m/var/folders/nt/rg8_jkq90v77r8l8dc_9wl0m0000gn/T/ipykernel_14717/657493983.py\u001b[0m in \u001b[0;36m<module>\u001b[0;34m\u001b[0m\n\u001b[1;32m      1\u001b[0m \u001b[0;31m# compute SHAP values\u001b[0m\u001b[0;34m\u001b[0m\u001b[0;34m\u001b[0m\u001b[0;34m\u001b[0m\u001b[0m\n\u001b[0;32m----> 2\u001b[0;31m \u001b[0mexplainer\u001b[0m \u001b[0;34m=\u001b[0m \u001b[0mshap\u001b[0m\u001b[0;34m.\u001b[0m\u001b[0mExplainer\u001b[0m\u001b[0;34m(\u001b[0m\u001b[0mmodel\u001b[0m\u001b[0;34m,\u001b[0m \u001b[0mXd\u001b[0m\u001b[0;34m)\u001b[0m\u001b[0;34m\u001b[0m\u001b[0;34m\u001b[0m\u001b[0m\n\u001b[0m\u001b[1;32m      3\u001b[0m \u001b[0mshap_values\u001b[0m \u001b[0;34m=\u001b[0m \u001b[0mexplainer\u001b[0m\u001b[0;34m(\u001b[0m\u001b[0mXd\u001b[0m\u001b[0;34m)\u001b[0m\u001b[0;34m\u001b[0m\u001b[0;34m\u001b[0m\u001b[0m\n\u001b[1;32m      4\u001b[0m \u001b[0;34m\u001b[0m\u001b[0m\n\u001b[1;32m      5\u001b[0m \u001b[0mfig\u001b[0m\u001b[0;34m,\u001b[0m \u001b[0max\u001b[0m\u001b[0;34m=\u001b[0m \u001b[0mplt\u001b[0m\u001b[0;34m.\u001b[0m\u001b[0msubplots\u001b[0m\u001b[0;34m(\u001b[0m\u001b[0;34m)\u001b[0m\u001b[0;34m\u001b[0m\u001b[0;34m\u001b[0m\u001b[0m\n",
      "\u001b[0;31mNameError\u001b[0m: name 'shap' is not defined"
     ]
    }
   ],
   "source": [
    "# import xgboost as xgb\n",
    "# import shap\n",
    "\n",
    "# # train XGBoost model\n",
    "# Xd = ten_dum.drop(columns= ['INJURIES_TOTAL'])\n",
    "# y = ten_rand[\"INJURIES_TOTAL\"]\n",
    "# models = xgb.XGBClassifier().fit(Xd, y)\n",
    "\n",
    "# # compute SHAP values\n",
    "# explainer = shap.Explainer(model, Xd)\n",
    "# shap_values = explainer(Xd)\n",
    "\n",
    "# fig, ax= plt.subplots()\n",
    "# shap.plots.bar(shap_values,max_display= 15)\n",
    "# plt.style.use('dark_background')"
   ]
  }
 ],
 "metadata": {
  "interpreter": {
   "hash": "d6623524af55dac0a94ed6c117337fe8fd6caa56444ef9dd3b780d92b0c716f8"
  },
  "kernelspec": {
   "display_name": "Python 3 (ipykernel)",
   "language": "python",
   "name": "python3"
  },
  "language_info": {
   "codemirror_mode": {
    "name": "ipython",
    "version": 3
   },
   "file_extension": ".py",
   "mimetype": "text/x-python",
   "name": "python",
   "nbconvert_exporter": "python",
   "pygments_lexer": "ipython3",
   "version": "3.8.2"
  }
 },
 "nbformat": 4,
 "nbformat_minor": 5
}
